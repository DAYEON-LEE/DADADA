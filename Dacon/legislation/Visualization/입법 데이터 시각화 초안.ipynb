{
 "cells": [
  {
   "cell_type": "code",
   "execution_count": 38,
   "metadata": {},
   "outputs": [],
   "source": [
    "import numpy as np\n",
    "import pandas as pd\n",
    "import seaborn as sns\n",
    "import matplotlib.pyplot as plt\n",
    "import os\n",
    "import re"
   ]
  },
  {
   "cell_type": "code",
   "execution_count": 3,
   "metadata": {},
   "outputs": [],
   "source": [
    "os.getcwd()\n",
    "os.chdir('C:\\\\Users\\\\user1\\\\Desktop\\\\데이콘\\\\입법_데이터_시각화\\\\Data')"
   ]
  },
  {
   "cell_type": "code",
   "execution_count": 4,
   "metadata": {},
   "outputs": [
    {
     "name": "stderr",
     "output_type": "stream",
     "text": [
      "C:\\ProgramData\\Anaconda3\\lib\\site-packages\\IPython\\core\\interactiveshell.py:3057: DtypeWarning: Columns (2,5,17) have mixed types. Specify dtype option on import or set low_memory=False.\n",
      "  interactivity=interactivity, compiler=compiler, result=result)\n"
     ]
    }
   ],
   "source": [
    "people = pd.read_csv('new_people.csv',encoding='cp949')\n",
    "suggest = pd.read_csv('suggest.csv')\n",
    "process = pd.read_csv('process.csv')"
   ]
  },
  {
   "cell_type": "code",
   "execution_count": 8,
   "metadata": {},
   "outputs": [
    {
     "data": {
      "text/html": [
       "<div>\n",
       "<style scoped>\n",
       "    .dataframe tbody tr th:only-of-type {\n",
       "        vertical-align: middle;\n",
       "    }\n",
       "\n",
       "    .dataframe tbody tr th {\n",
       "        vertical-align: top;\n",
       "    }\n",
       "\n",
       "    .dataframe thead th {\n",
       "        text-align: right;\n",
       "    }\n",
       "</style>\n",
       "<table border=\"1\" class=\"dataframe\">\n",
       "  <thead>\n",
       "    <tr style=\"text-align: right;\">\n",
       "      <th></th>\n",
       "      <th>DAESU</th>\n",
       "      <th>DAE</th>\n",
       "      <th>DAE_NM</th>\n",
       "      <th>NAME</th>\n",
       "      <th>NAME_HAN</th>\n",
       "      <th>JA</th>\n",
       "      <th>HO</th>\n",
       "      <th>BIRTH</th>\n",
       "      <th>BON</th>\n",
       "      <th>POSI</th>\n",
       "      <th>HAK</th>\n",
       "      <th>HOBBY</th>\n",
       "      <th>BOOK</th>\n",
       "      <th>SANG</th>\n",
       "      <th>DEAD</th>\n",
       "      <th>URL</th>\n",
       "    </tr>\n",
       "  </thead>\n",
       "  <tbody>\n",
       "    <tr>\n",
       "      <th>0</th>\n",
       "      <td>21</td>\n",
       "      <td>제19대국회의원(경남 창원시성산구) 정당_66\\r\\n제21대국회의원(경남 창원시성산...</td>\n",
       "      <td>21대의원</td>\n",
       "      <td>강기윤</td>\n",
       "      <td>姜起潤</td>\n",
       "      <td>NaN</td>\n",
       "      <td>NaN</td>\n",
       "      <td>1960년 06월 04일</td>\n",
       "      <td>NaN</td>\n",
       "      <td>NaN</td>\n",
       "      <td>창원상남초등학교 \\r\\n창원남중학교\\r\\n마산공업고등학교  \\r\\n창원대학교 행정학...</td>\n",
       "      <td>NaN</td>\n",
       "      <td>NaN</td>\n",
       "      <td>NaN</td>\n",
       "      <td>년   월   일</td>\n",
       "      <td>http://www.rokps.or.kr/profile/profile_view.as...</td>\n",
       "    </tr>\n",
       "  </tbody>\n",
       "</table>\n",
       "</div>"
      ],
      "text/plain": [
       "   DAESU                                                DAE DAE_NM NAME  \\\n",
       "0     21  제19대국회의원(경남 창원시성산구) 정당_66\\r\\n제21대국회의원(경남 창원시성산...  21대의원  강기윤   \n",
       "\n",
       "  NAME_HAN   JA   HO          BIRTH  BON POSI  \\\n",
       "0      姜起潤  NaN  NaN  1960년 06월 04일  NaN  NaN   \n",
       "\n",
       "                                                 HAK HOBBY BOOK SANG  \\\n",
       "0  창원상남초등학교 \\r\\n창원남중학교\\r\\n마산공업고등학교  \\r\\n창원대학교 행정학...   NaN  NaN  NaN   \n",
       "\n",
       "            DEAD                                                URL  \n",
       "0      년   월   일  http://www.rokps.or.kr/profile/profile_view.as...  "
      ]
     },
     "execution_count": 8,
     "metadata": {},
     "output_type": "execute_result"
    }
   ],
   "source": [
    "people.head(1)"
   ]
  },
  {
   "cell_type": "code",
   "execution_count": 9,
   "metadata": {},
   "outputs": [
    {
     "data": {
      "text/html": [
       "<div>\n",
       "<style scoped>\n",
       "    .dataframe tbody tr th:only-of-type {\n",
       "        vertical-align: middle;\n",
       "    }\n",
       "\n",
       "    .dataframe tbody tr th {\n",
       "        vertical-align: top;\n",
       "    }\n",
       "\n",
       "    .dataframe thead th {\n",
       "        text-align: right;\n",
       "    }\n",
       "</style>\n",
       "<table border=\"1\" class=\"dataframe\">\n",
       "  <thead>\n",
       "    <tr style=\"text-align: right;\">\n",
       "      <th></th>\n",
       "      <th>BILL_ID</th>\n",
       "      <th>BILL_NO</th>\n",
       "      <th>BILL_NAME</th>\n",
       "      <th>COMMITTEE</th>\n",
       "      <th>PROPOSE_DT</th>\n",
       "      <th>PROC_RESULT</th>\n",
       "      <th>AGE</th>\n",
       "      <th>DETAIL_LINK</th>\n",
       "      <th>PROPOSER</th>\n",
       "      <th>MEMBER_LIST</th>\n",
       "      <th>RST_PROPOSER</th>\n",
       "      <th>PUBL_PROPOSER</th>\n",
       "    </tr>\n",
       "  </thead>\n",
       "  <tbody>\n",
       "    <tr>\n",
       "      <th>0</th>\n",
       "      <td>PRC_A2T0Z0E9U1I6P1G3P3X9I3B7H7D9C1</td>\n",
       "      <td>2104402</td>\n",
       "      <td>독점규제 및 공정거래에 관한 법률 일부개정법률안</td>\n",
       "      <td>NaN</td>\n",
       "      <td>2020-10-05</td>\n",
       "      <td>NaN</td>\n",
       "      <td>21</td>\n",
       "      <td>http://likms.assembly.go.kr/bill/billDetail.do...</td>\n",
       "      <td>박홍근의원등12인</td>\n",
       "      <td>http://likms.assembly.go.kr/bill/coactorListPo...</td>\n",
       "      <td>박홍근</td>\n",
       "      <td>김원이,남인순,서영석,송옥주,용혜인,윤미향,이용빈,장경태,정태호,주철현,최종윤</td>\n",
       "    </tr>\n",
       "  </tbody>\n",
       "</table>\n",
       "</div>"
      ],
      "text/plain": [
       "                              BILL_ID  BILL_NO                   BILL_NAME  \\\n",
       "0  PRC_A2T0Z0E9U1I6P1G3P3X9I3B7H7D9C1  2104402  독점규제 및 공정거래에 관한 법률 일부개정법률안   \n",
       "\n",
       "  COMMITTEE  PROPOSE_DT PROC_RESULT  AGE  \\\n",
       "0       NaN  2020-10-05         NaN   21   \n",
       "\n",
       "                                         DETAIL_LINK   PROPOSER  \\\n",
       "0  http://likms.assembly.go.kr/bill/billDetail.do...  박홍근의원등12인   \n",
       "\n",
       "                                         MEMBER_LIST RST_PROPOSER  \\\n",
       "0  http://likms.assembly.go.kr/bill/coactorListPo...          박홍근   \n",
       "\n",
       "                                 PUBL_PROPOSER  \n",
       "0  김원이,남인순,서영석,송옥주,용혜인,윤미향,이용빈,장경태,정태호,주철현,최종윤  "
      ]
     },
     "execution_count": 9,
     "metadata": {},
     "output_type": "execute_result"
    }
   ],
   "source": [
    "suggest.head(1)"
   ]
  },
  {
   "cell_type": "code",
   "execution_count": 10,
   "metadata": {},
   "outputs": [
    {
     "data": {
      "text/html": [
       "<div>\n",
       "<style scoped>\n",
       "    .dataframe tbody tr th:only-of-type {\n",
       "        vertical-align: middle;\n",
       "    }\n",
       "\n",
       "    .dataframe tbody tr th {\n",
       "        vertical-align: top;\n",
       "    }\n",
       "\n",
       "    .dataframe thead th {\n",
       "        text-align: right;\n",
       "    }\n",
       "</style>\n",
       "<table border=\"1\" class=\"dataframe\">\n",
       "  <thead>\n",
       "    <tr style=\"text-align: right;\">\n",
       "      <th></th>\n",
       "      <th>AGE</th>\n",
       "      <th>ANNOUNCE_DT</th>\n",
       "      <th>BDG_PRESENT_DT</th>\n",
       "      <th>BDG_PROC_DT</th>\n",
       "      <th>BDG_SUBMIT_DT</th>\n",
       "      <th>BILL_ID</th>\n",
       "      <th>BILL_KIND</th>\n",
       "      <th>BILL_NAME</th>\n",
       "      <th>BILL_NO</th>\n",
       "      <th>BLANK_TCNT</th>\n",
       "      <th>...</th>\n",
       "      <th>LINK_URL</th>\n",
       "      <th>NO_TCNT</th>\n",
       "      <th>PROC_RESULT_CD</th>\n",
       "      <th>PROPOSER</th>\n",
       "      <th>PROPOSER_KIND_CD</th>\n",
       "      <th>PROPOSE_DT</th>\n",
       "      <th>RGS_PRESENT_DT</th>\n",
       "      <th>RGS_PROC_DT</th>\n",
       "      <th>VOTE_TCNT</th>\n",
       "      <th>YES_TCNT</th>\n",
       "    </tr>\n",
       "  </thead>\n",
       "  <tbody>\n",
       "    <tr>\n",
       "      <th>0</th>\n",
       "      <td>21</td>\n",
       "      <td>NaN</td>\n",
       "      <td>NaN</td>\n",
       "      <td>NaN</td>\n",
       "      <td>NaN</td>\n",
       "      <td>PRC_A2Q0T0X9B2P4F0M9N3P8K5S9I7K5N9</td>\n",
       "      <td>기타</td>\n",
       "      <td>본회의 의결을 요하는 국정감사대상기관 승인의 건(과학기술정보방송통신위원장)</td>\n",
       "      <td>2104197</td>\n",
       "      <td>NaN</td>\n",
       "      <td>...</td>\n",
       "      <td>https://likms.assembly.go.kr/bill/billDetail.d...</td>\n",
       "      <td>NaN</td>\n",
       "      <td>원안가결</td>\n",
       "      <td>과학기술정보방송통신위원장</td>\n",
       "      <td>위원장</td>\n",
       "      <td>2020-09-24</td>\n",
       "      <td>2020-09-24</td>\n",
       "      <td>2020-09-24</td>\n",
       "      <td>NaN</td>\n",
       "      <td>NaN</td>\n",
       "    </tr>\n",
       "  </tbody>\n",
       "</table>\n",
       "<p>1 rows × 28 columns</p>\n",
       "</div>"
      ],
      "text/plain": [
       "   AGE ANNOUNCE_DT BDG_PRESENT_DT BDG_PROC_DT BDG_SUBMIT_DT  \\\n",
       "0   21         NaN            NaN         NaN           NaN   \n",
       "\n",
       "                              BILL_ID BILL_KIND  \\\n",
       "0  PRC_A2Q0T0X9B2P4F0M9N3P8K5S9I7K5N9        기타   \n",
       "\n",
       "                                   BILL_NAME  BILL_NO  BLANK_TCNT  ...  \\\n",
       "0  본회의 의결을 요하는 국정감사대상기관 승인의 건(과학기술정보방송통신위원장)  2104197         NaN  ...   \n",
       "\n",
       "                                            LINK_URL NO_TCNT PROC_RESULT_CD  \\\n",
       "0  https://likms.assembly.go.kr/bill/billDetail.d...     NaN           원안가결   \n",
       "\n",
       "        PROPOSER PROPOSER_KIND_CD  PROPOSE_DT RGS_PRESENT_DT RGS_PROC_DT  \\\n",
       "0  과학기술정보방송통신위원장              위원장  2020-09-24     2020-09-24  2020-09-24   \n",
       "\n",
       "  VOTE_TCNT  YES_TCNT  \n",
       "0       NaN       NaN  \n",
       "\n",
       "[1 rows x 28 columns]"
      ]
     },
     "execution_count": 10,
     "metadata": {},
     "output_type": "execute_result"
    }
   ],
   "source": [
    "process.head(1)"
   ]
  },
  {
   "cell_type": "code",
   "execution_count": 11,
   "metadata": {},
   "outputs": [],
   "source": [
    "import missingno as msno"
   ]
  },
  {
   "cell_type": "code",
   "execution_count": 12,
   "metadata": {},
   "outputs": [
    {
     "data": {
      "text/plain": [
       "<matplotlib.axes._subplots.AxesSubplot at 0x932beb3e80>"
      ]
     },
     "execution_count": 12,
     "metadata": {},
     "output_type": "execute_result"
    },
    {
     "data": {
      "image/png": "[encoded data removed]",
      "text/plain": [
       "<Figure size 1800x720 with 2 Axes>"
      ]
     },
     "metadata": {
      "needs_background": "light"
     },
     "output_type": "display_data"
    }
   ],
   "source": [
    "msno.matrix(df=people.iloc[:,:])"
   ]
  },
  {
   "cell_type": "code",
   "execution_count": 13,
   "metadata": {},
   "outputs": [
    {
     "data": {
      "text/plain": [
       "<matplotlib.axes._subplots.AxesSubplot at 0x932bc60940>"
      ]
     },
     "execution_count": 13,
     "metadata": {},
     "output_type": "execute_result"
    },
    {
     "data": {
      "image/png": "[encoded data removed]",
      "text/plain": [
       "<Figure size 1800x720 with 2 Axes>"
      ]
     },
     "metadata": {
      "needs_background": "light"
     },
     "output_type": "display_data"
    }
   ],
   "source": [
    "msno.matrix(df=suggest.iloc[:,:])"
   ]
  },
  {
   "cell_type": "code",
   "execution_count": 14,
   "metadata": {},
   "outputs": [
    {
     "data": {
      "text/plain": [
       "<matplotlib.axes._subplots.AxesSubplot at 0x932e950860>"
      ]
     },
     "execution_count": 14,
     "metadata": {},
     "output_type": "execute_result"
    },
    {
     "data": {
      "image/png": "[encoded data removed]",
      "text/plain": [
       "<Figure size 1800x720 with 2 Axes>"
      ]
     },
     "metadata": {
      "needs_background": "light"
     },
     "output_type": "display_data"
    }
   ],
   "source": [
    "msno.matrix(df=process.iloc[:,:])"
   ]
  },
  {
   "cell_type": "markdown",
   "metadata": {},
   "source": [
    "## Q1. 대수별 국회의원 수의 분포는 어떻게 될까?\n",
    "- 시간이 지나면서 국회의원수가 점차 **증가하는 추세**를 확인 가능"
   ]
  },
  {
   "cell_type": "code",
   "execution_count": 5,
   "metadata": {},
   "outputs": [],
   "source": [
    "plt.rcParams['font.family']='Malgun Gothic'"
   ]
  },
  {
   "cell_type": "code",
   "execution_count": 69,
   "metadata": {},
   "outputs": [
    {
     "data": {
      "text/plain": [
       "<matplotlib.axes._subplots.AxesSubplot at 0x61ac122c18>"
      ]
     },
     "execution_count": 69,
     "metadata": {},
     "output_type": "execute_result"
    },
    {
     "data": {
      "image/png": "[encoded data removed]",
      "text/plain": [
       "<Figure size 864x288 with 2 Axes>"
      ]
     },
     "metadata": {
      "needs_background": "light"
     },
     "output_type": "display_data"
    }
   ],
   "source": [
    "fig = plt.figure(figsize=(12,4))\n",
    "ax1 = fig.add_subplot(1,2,1)\n",
    "plt.title('대수별 국회의원수')\n",
    "ax2 = fig.add_subplot(1,2,2)\n",
    "plt.title('대수별 국회의원수 내림차순')\n",
    "# 대수별 국회의원수를 막대그래프로 시각화\n",
    "sns.countplot(people['DAESU'],ax=ax1)\n",
    "# 대수별 국회의원수를 내림차순해 막대그래프로 시각화\n",
    "sns.countplot(people['DAESU'],order=people['DAESU'].value_counts().index,ax=ax2)"
   ]
  },
  {
   "cell_type": "markdown",
   "metadata": {},
   "source": [
    "## Q2. 국회의원 출생지와 대수와 관계가 있을까?"
   ]
  },
  {
   "cell_type": "code",
   "execution_count": 146,
   "metadata": {},
   "outputs": [
    {
     "data": {
      "text/plain": [
       "530"
      ]
     },
     "execution_count": 146,
     "metadata": {},
     "output_type": "execute_result"
    }
   ],
   "source": [
    "len(people['POSI'].value_counts())"
   ]
  },
  {
   "cell_type": "code",
   "execution_count": 147,
   "metadata": {},
   "outputs": [],
   "source": [
    "people['POSI_province'] = people['POSI'].apply(lambda x : np.nan if pd.isnull(x) else x.split()[0])"
   ]
  },
  {
   "cell_type": "code",
   "execution_count": 148,
   "metadata": {},
   "outputs": [
    {
     "data": {
      "text/plain": [
       "array([nan, '강원', '서울', '광주', '경기도', '울산', '충남', '경기', '전남', '경남', '충청북도',\n",
       "       '대전', '충북', '파주', '전북', '경상남도', '부산', '경북', '제주', '원주', '강원도',\n",
       "       '포항', '경기포천', '부여', '대구', '안동', '충청남도', '마산', '인천', '대구광역시', '일본',\n",
       "       '청주', '전라북도', '전남목포', '필리핀', '광주광역시', '평양', '해남', '평남', '함북',\n",
       "       '경남고성', '황해', '전주', '평북', '중국', '익산시', '아산', '대전시', '강릉', '남제주',\n",
       "       '울산시', '경상북도', '황해도', '나주', '부산광역시', '평안남도', '만주', '함경남도', '제주도',\n",
       "       '논산', '함경북도', '함남', '선산', '대전광역시', '인천시', '전라남도', '전라도', '서울시',\n",
       "       '광주시', '서울특별시', '전북부안', '인천광역시', '신안군', '의왕', '평안북도', '대구시',\n",
       "       '울산광역시', '진주', '합천', '전남도', '대전직할시', '부산시', '서울종로', '강워도', '전남보성',\n",
       "       '평양시', '전북고창', '개성'], dtype=object)"
      ]
     },
     "execution_count": 148,
     "metadata": {},
     "output_type": "execute_result"
    }
   ],
   "source": [
    "people['POSI_province'].unique()"
   ]
  },
  {
   "cell_type": "code",
   "execution_count": 149,
   "metadata": {},
   "outputs": [
    {
     "data": {
      "text/plain": [
       "array([nan, '강원', '서울', '광주', '경기', '울산', '충남', '전남', '경남', '충북', '대전',\n",
       "       '전북', '부산', '경북', '제주', '대구', '인천', '일본', '필리핀', '평양', '해남', '평남',\n",
       "       '함북', '황해', '평북', '중국', '만주', '함남', '전라', '개성'], dtype=object)"
      ]
     },
     "execution_count": 149,
     "metadata": {},
     "output_type": "execute_result"
    }
   ],
   "source": [
    "people['POSI_province'] = people['POSI_province'].replace({'경기도':'경기','충청북도':'충북','파주':'경기','경상남도':'경남',\n",
    "                                                          '원주':'강원','강원도':'강원','포항':'경북','경기포천':'경기','부여':'충남',\n",
    "                                                          '충청남도':'충남','대구광역시':'대구','전라북도':'전북','전남목포':'전남',\n",
    "                                                          '광주광역시':'광주','경남고성':'경남','익산시':'전북','아산':'충남','대전시':'대전',\n",
    "                                                          '남제주':'제주','울산시':'울산','경상북도':'경북','황해도':'황해','나주':'전남',\n",
    "                                                          '부산광역시':'부산','평안남도':'평남','함경남도':'함남','제주도':'제주','논산':'충남',\n",
    "                                                          '함경북도':'함북','선산':'경북','대전광역시':'대전','인천시':'인천','전라남도':'전남',\n",
    "                                                          '전라도':'전라','서울시':'서울','광주시':'광주','서울특별시':'서울','전북부안':'전북',\n",
    "                                                          '인천광역시':'인천','신안군':'전남','의왕':'경기','평안북도':'평북','대구시':'대구',\n",
    "                                                          '광주시':'광주','울산광역시':'울산','전남도':'전남','대전직할시':'대전','부산시':'부산',\n",
    "                                                          '서울종로':'서울','강워도':'강원','전남보성':'전남','평양시':'평양','전북고창':'전북',\n",
    "                                                          '안동':'경북','마산':'경남','청주':'충북','전주':'전북','진주':'경남','합천':'경남',\n",
    "                                                          '강릉':'강원'})\n",
    "people['POSI_province'].unique()"
   ]
  },
  {
   "cell_type": "code",
   "execution_count": 176,
   "metadata": {},
   "outputs": [
    {
     "data": {
      "text/plain": [
       "(array([ 0,  1,  2,  3,  4,  5,  6,  7,  8,  9, 10, 11, 12, 13, 14, 15, 16,\n",
       "        17, 18, 19, 20, 21, 22, 23, 24, 25, 26, 27, 28]),\n",
       " <a list of 29 Text xticklabel objects>)"
      ]
     },
     "execution_count": 176,
     "metadata": {},
     "output_type": "execute_result"
    },
    {
     "data": {
      "image/png": "[encoded data removed]",
      "text/plain": [
       "<Figure size 576x288 with 1 Axes>"
      ]
     },
     "metadata": {
      "needs_background": "light"
     },
     "output_type": "display_data"
    }
   ],
   "source": [
    "plt.figure(figsize=(8,4))\n",
    "sns.countplot(people['POSI_province'],order=people['POSI_province'].value_counts().index)\n",
    "plt.xticks(rotation=50)"
   ]
  },
  {
   "cell_type": "markdown",
   "metadata": {},
   "source": [
    "## Q3. 대수별 발의법의안 건수는 상이할까?"
   ]
  },
  {
   "cell_type": "code",
   "execution_count": 164,
   "metadata": {},
   "outputs": [
    {
     "data": {
      "text/html": [
       "<div>\n",
       "<style scoped>\n",
       "    .dataframe tbody tr th:only-of-type {\n",
       "        vertical-align: middle;\n",
       "    }\n",
       "\n",
       "    .dataframe tbody tr th {\n",
       "        vertical-align: top;\n",
       "    }\n",
       "\n",
       "    .dataframe thead th {\n",
       "        text-align: right;\n",
       "    }\n",
       "</style>\n",
       "<table border=\"1\" class=\"dataframe\">\n",
       "  <thead>\n",
       "    <tr style=\"text-align: right;\">\n",
       "      <th></th>\n",
       "      <th>BILL_ID</th>\n",
       "      <th>BILL_NO</th>\n",
       "      <th>BILL_NAME</th>\n",
       "      <th>COMMITTEE</th>\n",
       "      <th>PROPOSE_DT</th>\n",
       "      <th>PROC_RESULT</th>\n",
       "      <th>AGE</th>\n",
       "      <th>DETAIL_LINK</th>\n",
       "      <th>PROPOSER</th>\n",
       "      <th>MEMBER_LIST</th>\n",
       "      <th>RST_PROPOSER</th>\n",
       "      <th>PUBL_PROPOSER</th>\n",
       "    </tr>\n",
       "  </thead>\n",
       "  <tbody>\n",
       "    <tr>\n",
       "      <th>0</th>\n",
       "      <td>PRC_A2T0Z0E9U1I6P1G3P3X9I3B7H7D9C1</td>\n",
       "      <td>2104402</td>\n",
       "      <td>독점규제 및 공정거래에 관한 법률 일부개정법률안</td>\n",
       "      <td>NaN</td>\n",
       "      <td>2020-10-05</td>\n",
       "      <td>NaN</td>\n",
       "      <td>21</td>\n",
       "      <td>http://likms.assembly.go.kr/bill/billDetail.do...</td>\n",
       "      <td>박홍근의원등12인</td>\n",
       "      <td>http://likms.assembly.go.kr/bill/coactorListPo...</td>\n",
       "      <td>박홍근</td>\n",
       "      <td>김원이,남인순,서영석,송옥주,용혜인,윤미향,이용빈,장경태,정태호,주철현,최종윤</td>\n",
       "    </tr>\n",
       "  </tbody>\n",
       "</table>\n",
       "</div>"
      ],
      "text/plain": [
       "                              BILL_ID  BILL_NO                   BILL_NAME  \\\n",
       "0  PRC_A2T0Z0E9U1I6P1G3P3X9I3B7H7D9C1  2104402  독점규제 및 공정거래에 관한 법률 일부개정법률안   \n",
       "\n",
       "  COMMITTEE  PROPOSE_DT PROC_RESULT  AGE  \\\n",
       "0       NaN  2020-10-05         NaN   21   \n",
       "\n",
       "                                         DETAIL_LINK   PROPOSER  \\\n",
       "0  http://likms.assembly.go.kr/bill/billDetail.do...  박홍근의원등12인   \n",
       "\n",
       "                                         MEMBER_LIST RST_PROPOSER  \\\n",
       "0  http://likms.assembly.go.kr/bill/coactorListPo...          박홍근   \n",
       "\n",
       "                                 PUBL_PROPOSER  \n",
       "0  김원이,남인순,서영석,송옥주,용혜인,윤미향,이용빈,장경태,정태호,주철현,최종윤  "
      ]
     },
     "execution_count": 164,
     "metadata": {},
     "output_type": "execute_result"
    }
   ],
   "source": [
    "suggest.head(1)"
   ]
  },
  {
   "cell_type": "code",
   "execution_count": 165,
   "metadata": {},
   "outputs": [
    {
     "data": {
      "text/plain": [
       "array([21, 20, 19, 18, 17, 16, 15, 14, 13, 12, 11, 10,  9,  8,  7,  6,  5,\n",
       "        4,  3,  2,  1], dtype=int64)"
      ]
     },
     "execution_count": 165,
     "metadata": {},
     "output_type": "execute_result"
    }
   ],
   "source": [
    "suggest['AGE'].unique()"
   ]
  },
  {
   "cell_type": "code",
   "execution_count": 170,
   "metadata": {},
   "outputs": [
    {
     "data": {
      "image/png": "[encoded data removed]",
      "text/plain": [
       "<Figure size 432x288 with 1 Axes>"
      ]
     },
     "metadata": {
      "needs_background": "light"
     },
     "output_type": "display_data"
    }
   ],
   "source": [
    "plt.title('대수별 발의법의안 건수')\n",
    "sns.countplot(suggest['AGE'])\n",
    "plt.show()"
   ]
  },
  {
   "cell_type": "markdown",
   "metadata": {},
   "source": [
    "## Q4. 최근 5년간 제안일에 따른 발의법의안 건수는 상관관계가 있을까?"
   ]
  },
  {
   "cell_type": "code",
   "execution_count": 6,
   "metadata": {},
   "outputs": [],
   "source": [
    "import datetime as dt\n",
    "import warnings \n",
    "warnings.filterwarnings(action='ignore')"
   ]
  },
  {
   "cell_type": "code",
   "execution_count": 179,
   "metadata": {},
   "outputs": [],
   "source": [
    "suggest['PROPOSE_DT'] = pd.to_datetime(suggest['PROPOSE_DT'])"
   ]
  },
  {
   "cell_type": "code",
   "execution_count": 180,
   "metadata": {},
   "outputs": [
    {
     "data": {
      "text/plain": [
       "dtype('<M8[ns]')"
      ]
     },
     "execution_count": 180,
     "metadata": {},
     "output_type": "execute_result"
    }
   ],
   "source": [
    "suggest['PROPOSE_DT'].dtype"
   ]
  },
  {
   "cell_type": "code",
   "execution_count": 208,
   "metadata": {},
   "outputs": [],
   "source": [
    "mask = (suggest['PROPOSE_DT']>='2016-01-01')&(suggest['PROPOSE_DT']<'2021-01-01')\n",
    "filtered_df = suggest.loc[mask]"
   ]
  },
  {
   "cell_type": "code",
   "execution_count": 209,
   "metadata": {},
   "outputs": [
    {
     "data": {
      "text/plain": [
       "25720"
      ]
     },
     "execution_count": 209,
     "metadata": {},
     "output_type": "execute_result"
    }
   ],
   "source": [
    "len(filtered_df) # 5년간(2017~2020년)의 suggest 데이터"
   ]
  },
  {
   "cell_type": "code",
   "execution_count": 210,
   "metadata": {},
   "outputs": [
    {
     "data": {
      "text/html": [
       "<div>\n",
       "<style scoped>\n",
       "    .dataframe tbody tr th:only-of-type {\n",
       "        vertical-align: middle;\n",
       "    }\n",
       "\n",
       "    .dataframe tbody tr th {\n",
       "        vertical-align: top;\n",
       "    }\n",
       "\n",
       "    .dataframe thead th {\n",
       "        text-align: right;\n",
       "    }\n",
       "</style>\n",
       "<table border=\"1\" class=\"dataframe\">\n",
       "  <thead>\n",
       "    <tr style=\"text-align: right;\">\n",
       "      <th></th>\n",
       "      <th>BILL_ID</th>\n",
       "      <th>BILL_NO</th>\n",
       "      <th>BILL_NAME</th>\n",
       "      <th>COMMITTEE</th>\n",
       "      <th>PROPOSE_DT</th>\n",
       "      <th>PROC_RESULT</th>\n",
       "      <th>AGE</th>\n",
       "      <th>DETAIL_LINK</th>\n",
       "      <th>PROPOSER</th>\n",
       "      <th>MEMBER_LIST</th>\n",
       "      <th>RST_PROPOSER</th>\n",
       "      <th>PUBL_PROPOSER</th>\n",
       "      <th>PROPOSE_DT_YEAR</th>\n",
       "      <th>PROPOSE_DT_MONTH</th>\n",
       "    </tr>\n",
       "  </thead>\n",
       "  <tbody>\n",
       "    <tr>\n",
       "      <th>0</th>\n",
       "      <td>PRC_A2T0Z0E9U1I6P1G3P3X9I3B7H7D9C1</td>\n",
       "      <td>2104402</td>\n",
       "      <td>독점규제 및 공정거래에 관한 법률 일부개정법률안</td>\n",
       "      <td>NaN</td>\n",
       "      <td>2020-10-05</td>\n",
       "      <td>NaN</td>\n",
       "      <td>21</td>\n",
       "      <td>http://likms.assembly.go.kr/bill/billDetail.do...</td>\n",
       "      <td>박홍근의원등12인</td>\n",
       "      <td>http://likms.assembly.go.kr/bill/coactorListPo...</td>\n",
       "      <td>박홍근</td>\n",
       "      <td>김원이,남인순,서영석,송옥주,용혜인,윤미향,이용빈,장경태,정태호,주철현,최종윤</td>\n",
       "      <td>2020</td>\n",
       "      <td>10</td>\n",
       "    </tr>\n",
       "    <tr>\n",
       "      <th>1</th>\n",
       "      <td>PRC_I2M0O1G0U0P5E1U8T4B6Z0R9M8G5X0</td>\n",
       "      <td>2104401</td>\n",
       "      <td>지방교육재정교부금법 일부개정법률안</td>\n",
       "      <td>NaN</td>\n",
       "      <td>2020-10-05</td>\n",
       "      <td>NaN</td>\n",
       "      <td>21</td>\n",
       "      <td>http://likms.assembly.go.kr/bill/billDetail.do...</td>\n",
       "      <td>서영교의원 등 10인</td>\n",
       "      <td>http://likms.assembly.go.kr/bill/coactorListPo...</td>\n",
       "      <td>서영교</td>\n",
       "      <td>김병기,서삼석,신정훈,오영환,윤재갑,이개호,이성만,전혜숙,최형두</td>\n",
       "      <td>2020</td>\n",
       "      <td>10</td>\n",
       "    </tr>\n",
       "  </tbody>\n",
       "</table>\n",
       "</div>"
      ],
      "text/plain": [
       "                              BILL_ID  BILL_NO                   BILL_NAME  \\\n",
       "0  PRC_A2T0Z0E9U1I6P1G3P3X9I3B7H7D9C1  2104402  독점규제 및 공정거래에 관한 법률 일부개정법률안   \n",
       "1  PRC_I2M0O1G0U0P5E1U8T4B6Z0R9M8G5X0  2104401          지방교육재정교부금법 일부개정법률안   \n",
       "\n",
       "  COMMITTEE PROPOSE_DT PROC_RESULT  AGE  \\\n",
       "0       NaN 2020-10-05         NaN   21   \n",
       "1       NaN 2020-10-05         NaN   21   \n",
       "\n",
       "                                         DETAIL_LINK     PROPOSER  \\\n",
       "0  http://likms.assembly.go.kr/bill/billDetail.do...    박홍근의원등12인   \n",
       "1  http://likms.assembly.go.kr/bill/billDetail.do...  서영교의원 등 10인   \n",
       "\n",
       "                                         MEMBER_LIST RST_PROPOSER  \\\n",
       "0  http://likms.assembly.go.kr/bill/coactorListPo...          박홍근   \n",
       "1  http://likms.assembly.go.kr/bill/coactorListPo...          서영교   \n",
       "\n",
       "                                 PUBL_PROPOSER  PROPOSE_DT_YEAR  \\\n",
       "0  김원이,남인순,서영석,송옥주,용혜인,윤미향,이용빈,장경태,정태호,주철현,최종윤             2020   \n",
       "1          김병기,서삼석,신정훈,오영환,윤재갑,이개호,이성만,전혜숙,최형두             2020   \n",
       "\n",
       "   PROPOSE_DT_MONTH  \n",
       "0                10  \n",
       "1                10  "
      ]
     },
     "execution_count": 210,
     "metadata": {},
     "output_type": "execute_result"
    }
   ],
   "source": [
    "filtered_df['PROPOSE_DT_YEAR'] = filtered_df['PROPOSE_DT'].dt.year\n",
    "filtered_df['PROPOSE_DT_MONTH'] = filtered_df['PROPOSE_DT'].dt.month\n",
    "filtered_df.head(2)"
   ]
  },
  {
   "cell_type": "code",
   "execution_count": 249,
   "metadata": {},
   "outputs": [
    {
     "data": {
      "text/plain": [
       "<matplotlib.axes._subplots.AxesSubplot at 0x934ec8c4e0>"
      ]
     },
     "execution_count": 249,
     "metadata": {},
     "output_type": "execute_result"
    },
    {
     "data": {
      "image/png": "[encoded data removed]",
      "text/plain": [
       "<Figure size 432x288 with 1 Axes>"
      ]
     },
     "metadata": {
      "needs_background": "light"
     },
     "output_type": "display_data"
    }
   ],
   "source": [
    "plt.title('최근 5년 월별 대수별 발의법의안 건수')\n",
    "sns.countplot(filtered_df['PROPOSE_DT_MONTH'],\n",
    "             hue = filtered_df['PROPOSE_DT_YEAR'])"
   ]
  },
  {
   "cell_type": "code",
   "execution_count": 234,
   "metadata": {},
   "outputs": [],
   "source": [
    "filtered_16 = filtered_df[filtered_df['PROPOSE_DT_YEAR']==2016]['PROPOSE_DT_MONTH'].value_counts().sort_index()\n",
    "filtered_17 = filtered_df[filtered_df['PROPOSE_DT_YEAR']==2017]['PROPOSE_DT_MONTH'].value_counts().sort_index()\n",
    "filtered_18 = filtered_df[filtered_df['PROPOSE_DT_YEAR']==2018]['PROPOSE_DT_MONTH'].value_counts().sort_index()\n",
    "filtered_19 = filtered_df[filtered_df['PROPOSE_DT_YEAR']==2019]['PROPOSE_DT_MONTH'].value_counts().sort_index()\n",
    "filtered_20 = filtered_df[filtered_df['PROPOSE_DT_YEAR']==2020]['PROPOSE_DT_MONTH'].value_counts().sort_index()"
   ]
  },
  {
   "cell_type": "code",
   "execution_count": 248,
   "metadata": {},
   "outputs": [
    {
     "data": {
      "text/plain": [
       "<matplotlib.legend.Legend at 0x934ec2efd0>"
      ]
     },
     "execution_count": 248,
     "metadata": {},
     "output_type": "execute_result"
    },
    {
     "data": {
      "image/png": "[encoded data removed]",
      "text/plain": [
       "<Figure size 432x288 with 1 Axes>"
      ]
     },
     "metadata": {
      "needs_background": "light"
     },
     "output_type": "display_data"
    }
   ],
   "source": [
    "fig, ax = plt.subplots()\n",
    "plt.title('최근 5년 월별 대수별 발의법의안 건수')\n",
    "ax.plot(filtered_16,linewidth=3,color='silver', label='2016')\n",
    "ax.plot(filtered_17,linewidth=3,color='darkgray',label='2017')\n",
    "ax.plot(filtered_18,linewidth=3,color='gray',label='2018')\n",
    "ax.plot(filtered_19,linewidth=3,color='dimgray',label='2019')\n",
    "ax.plot(filtered_20,linewidth=3,color='lightcoral',label='2020')\n",
    "plt.grid(True)\n",
    "plt.legend()"
   ]
  },
  {
   "cell_type": "markdown",
   "metadata": {},
   "source": [
    "## Q5. 대수에 따른 발의법의안 처리상태의 상관관계가 존재할까?"
   ]
  },
  {
   "cell_type": "markdown",
   "metadata": {},
   "source": [
    "- **발의법의안 처리상태**\n",
    "    1. 대안반영폐기 : 대안을 제안함에 따라 대안에 반영된 의안의 경우, 다른 의안과 하나로 통합돼 본회의에 부의되지 않음\n",
    "    2. 철회\n",
    "    3. 수정가결\n",
    "    4. 원안가결\n",
    "    5. 폐기\n",
    "    6. 임기만료폐기\n",
    "    7. 부결\n",
    "    8. 수정안반영폐기\n",
    "    9. 비상국무회의로이관\n",
    "    10. 회귀불계속폐기 : 임기가 같을 시 회귀 중 의결되지 않은 법안은 폐기되지 않고 다름 회귀에도 계속 심사할 수 있지만 임기가 종료되면 처리되지 않은 법안은 폐기됨"
   ]
  },
  {
   "cell_type": "code",
   "execution_count": 252,
   "metadata": {},
   "outputs": [
    {
     "data": {
      "text/plain": [
       "11"
      ]
     },
     "execution_count": 252,
     "metadata": {},
     "output_type": "execute_result"
    }
   ],
   "source": [
    "len(suggest['PROC_RESULT'].unique()) # 총 11-1(nan)= 10건의 발의법의안 처리상태"
   ]
  },
  {
   "cell_type": "code",
   "execution_count": 253,
   "metadata": {},
   "outputs": [
    {
     "data": {
      "text/plain": [
       "array([nan, '대안반영폐기', '철회', '수정가결', '원안가결', '폐기', '임기만료폐기', '부결',\n",
       "       '수정안반영폐기', '비상국무회의로이관', '회기불계속폐기'], dtype=object)"
      ]
     },
     "execution_count": 253,
     "metadata": {},
     "output_type": "execute_result"
    }
   ],
   "source": [
    "suggest['PROC_RESULT'].unique()"
   ]
  },
  {
   "cell_type": "code",
   "execution_count": 288,
   "metadata": {},
   "outputs": [],
   "source": [
    "grouped = suggest.groupby(['AGE','PROC_RESULT']).size().to_frame()\n",
    "grouped = grouped.rename(columns={0:'count'})\n",
    "grouped = grouped.dropna(axis=0)\n",
    "grouped = grouped.reset_index()"
   ]
  },
  {
   "cell_type": "code",
   "execution_count": 289,
   "metadata": {},
   "outputs": [],
   "source": [
    "grouped['cum_count']=grouped.groupby('AGE')['count'].cumsum(axis=0)\n",
    "grouped['norm_count']=grouped.groupby('AGE')['count'].apply(lambda x : x/sum(x))\n",
    "grouped['cum_norm_count']=grouped.groupby('AGE')['norm_count'].cumsum(axis=0)\n",
    "grouped = grouped.sort_values(by=['cum_norm_count'],ascending=False)"
   ]
  },
  {
   "cell_type": "code",
   "execution_count": 291,
   "metadata": {},
   "outputs": [
    {
     "data": {
      "text/html": [
       "<div>\n",
       "<style scoped>\n",
       "    .dataframe tbody tr th:only-of-type {\n",
       "        vertical-align: middle;\n",
       "    }\n",
       "\n",
       "    .dataframe tbody tr th {\n",
       "        vertical-align: top;\n",
       "    }\n",
       "\n",
       "    .dataframe thead th {\n",
       "        text-align: right;\n",
       "    }\n",
       "</style>\n",
       "<table border=\"1\" class=\"dataframe\">\n",
       "  <thead>\n",
       "    <tr style=\"text-align: right;\">\n",
       "      <th></th>\n",
       "      <th>AGE</th>\n",
       "      <th>PROC_RESULT</th>\n",
       "      <th>count</th>\n",
       "      <th>cum_count</th>\n",
       "      <th>norm_count</th>\n",
       "      <th>cum_norm_count</th>\n",
       "    </tr>\n",
       "  </thead>\n",
       "  <tbody>\n",
       "    <tr>\n",
       "      <th>122</th>\n",
       "      <td>20</td>\n",
       "      <td>수정안반영폐기</td>\n",
       "      <td>41</td>\n",
       "      <td>6041</td>\n",
       "      <td>0.001899</td>\n",
       "      <td>0.279754</td>\n",
       "    </tr>\n",
       "    <tr>\n",
       "      <th>123</th>\n",
       "      <td>20</td>\n",
       "      <td>원안가결</td>\n",
       "      <td>569</td>\n",
       "      <td>6610</td>\n",
       "      <td>0.026350</td>\n",
       "      <td>0.306104</td>\n",
       "    </tr>\n",
       "    <tr>\n",
       "      <th>124</th>\n",
       "      <td>20</td>\n",
       "      <td>임기만료폐기</td>\n",
       "      <td>14646</td>\n",
       "      <td>21256</td>\n",
       "      <td>0.678244</td>\n",
       "      <td>0.984348</td>\n",
       "    </tr>\n",
       "    <tr>\n",
       "      <th>125</th>\n",
       "      <td>20</td>\n",
       "      <td>철회</td>\n",
       "      <td>215</td>\n",
       "      <td>21471</td>\n",
       "      <td>0.009956</td>\n",
       "      <td>0.994304</td>\n",
       "    </tr>\n",
       "    <tr>\n",
       "      <th>126</th>\n",
       "      <td>20</td>\n",
       "      <td>폐기</td>\n",
       "      <td>123</td>\n",
       "      <td>21594</td>\n",
       "      <td>0.005696</td>\n",
       "      <td>1.000000</td>\n",
       "    </tr>\n",
       "    <tr>\n",
       "      <th>127</th>\n",
       "      <td>21</td>\n",
       "      <td>대안반영폐기</td>\n",
       "      <td>100</td>\n",
       "      <td>100</td>\n",
       "      <td>0.502513</td>\n",
       "      <td>0.502513</td>\n",
       "    </tr>\n",
       "    <tr>\n",
       "      <th>128</th>\n",
       "      <td>21</td>\n",
       "      <td>수정가결</td>\n",
       "      <td>31</td>\n",
       "      <td>131</td>\n",
       "      <td>0.155779</td>\n",
       "      <td>0.658291</td>\n",
       "    </tr>\n",
       "    <tr>\n",
       "      <th>129</th>\n",
       "      <td>21</td>\n",
       "      <td>원안가결</td>\n",
       "      <td>17</td>\n",
       "      <td>148</td>\n",
       "      <td>0.085427</td>\n",
       "      <td>0.743719</td>\n",
       "    </tr>\n",
       "    <tr>\n",
       "      <th>130</th>\n",
       "      <td>21</td>\n",
       "      <td>철회</td>\n",
       "      <td>28</td>\n",
       "      <td>176</td>\n",
       "      <td>0.140704</td>\n",
       "      <td>0.884422</td>\n",
       "    </tr>\n",
       "    <tr>\n",
       "      <th>131</th>\n",
       "      <td>21</td>\n",
       "      <td>폐기</td>\n",
       "      <td>23</td>\n",
       "      <td>199</td>\n",
       "      <td>0.115578</td>\n",
       "      <td>1.000000</td>\n",
       "    </tr>\n",
       "  </tbody>\n",
       "</table>\n",
       "</div>"
      ],
      "text/plain": [
       "     AGE PROC_RESULT  count  cum_count  norm_count  cum_norm_count\n",
       "122   20     수정안반영폐기     41       6041    0.001899        0.279754\n",
       "123   20        원안가결    569       6610    0.026350        0.306104\n",
       "124   20      임기만료폐기  14646      21256    0.678244        0.984348\n",
       "125   20          철회    215      21471    0.009956        0.994304\n",
       "126   20          폐기    123      21594    0.005696        1.000000\n",
       "127   21      대안반영폐기    100        100    0.502513        0.502513\n",
       "128   21        수정가결     31        131    0.155779        0.658291\n",
       "129   21        원안가결     17        148    0.085427        0.743719\n",
       "130   21          철회     28        176    0.140704        0.884422\n",
       "131   21          폐기     23        199    0.115578        1.000000"
      ]
     },
     "execution_count": 291,
     "metadata": {},
     "output_type": "execute_result"
    }
   ],
   "source": [
    "grouped.tail(10)"
   ]
  },
  {
   "cell_type": "code",
   "execution_count": 296,
   "metadata": {},
   "outputs": [
    {
     "data": {
      "text/plain": [
       "Text(0.5, 1.0, '대수별 발의법의안 처리방법 비율')"
      ]
     },
     "execution_count": 296,
     "metadata": {},
     "output_type": "execute_result"
    },
    {
     "data": {
      "image/png": "[encoded data removed]",
      "text/plain": [
       "<Figure size 432x288 with 1 Axes>"
      ]
     },
     "metadata": {
      "needs_background": "light"
     },
     "output_type": "display_data"
    }
   ],
   "source": [
    "sns.barplot(x='AGE',y='cum_norm_count',hue='PROC_RESULT',data=grouped,dodge=False)\n",
    "plt.legend(loc='upper right')\n",
    "plt.title('대수별 발의법의안 처리방법 비율')"
   ]
  },
  {
   "cell_type": "code",
   "execution_count": 336,
   "metadata": {},
   "outputs": [
    {
     "data": {
      "text/plain": [
       "<matplotlib.axes._subplots.AxesSubplot at 0x9351482ef0>"
      ]
     },
     "execution_count": 336,
     "metadata": {},
     "output_type": "execute_result"
    },
    {
     "data": {
      "image/png": "[encoded data removed]",
      "text/plain": [
       "<Figure size 432x288 with 1 Axes>"
      ]
     },
     "metadata": {
      "needs_background": "light"
     },
     "output_type": "display_data"
    }
   ],
   "source": [
    "mask1 = (grouped['PROC_RESULT']=='원안가결')|(grouped['PROC_RESULT']=='수정가결')\n",
    "grouped_mask1 = grouped.loc[mask1]\n",
    "grouped_pass = grouped_mask1[['AGE','norm_count']]\n",
    "grouped_sum = grouped_pass.groupby('AGE')['norm_count'].sum().to_frame()\n",
    "grouped_sum = pd.DataFrame({'sum_cnt_pass':grouped_sum['norm_count']})\n",
    "grouped_sum = grouped_sum.reset_index()\n",
    "\n",
    "plt.title('대수별 발의법의안 가결률')\n",
    "sns.barplot(x='AGE',y='sum_cnt_pass',data=grouped_sum)"
   ]
  },
  {
   "cell_type": "code",
   "execution_count": 338,
   "metadata": {},
   "outputs": [
    {
     "data": {
      "text/plain": [
       "<matplotlib.axes._subplots.AxesSubplot at 0x9351562128>"
      ]
     },
     "execution_count": 338,
     "metadata": {},
     "output_type": "execute_result"
    },
    {
     "data": {
      "image/png": "[encoded data removed]",
      "text/plain": [
       "<Figure size 432x288 with 1 Axes>"
      ]
     },
     "metadata": {
      "needs_background": "light"
     },
     "output_type": "display_data"
    }
   ],
   "source": [
    "mask2 = (grouped['PROC_RESULT']=='대안반영폐기')|(grouped['PROC_RESULT']=='임기만료폐기')|(grouped['PROC_RESULT']=='폐기')|(grouped['PROC_RESULT']=='회기물계속폐기')|(grouped['PROC_RESULT']=='부결')|(grouped['PROC_RESULT']=='철회')|(grouped['PROC_RESULT']=='수정안반영폐기')\n",
    "grouped_mask2 = grouped.loc[mask2]\n",
    "grouped_fail = grouped_mask2[['AGE','norm_count']]\n",
    "grouped_sum = grouped_fail.groupby('AGE')['norm_count'].sum().to_frame()\n",
    "grouped_sum = pd.DataFrame({'sum_cnt_fail':grouped_sum['norm_count']})\n",
    "grouped_sum = grouped_sum.reset_index()\n",
    "\n",
    "plt.title('대수별 발의법의안 부결 또는 폐기율')\n",
    "sns.barplot(x='AGE',y='sum_cnt_fail',data=grouped_sum)"
   ]
  },
  {
   "cell_type": "markdown",
   "metadata": {},
   "source": [
    "## Q6. 대수별 대표발의자 현황은 어떨까?"
   ]
  },
  {
   "cell_type": "code",
   "execution_count": 340,
   "metadata": {},
   "outputs": [
    {
     "data": {
      "text/html": [
       "<div>\n",
       "<style scoped>\n",
       "    .dataframe tbody tr th:only-of-type {\n",
       "        vertical-align: middle;\n",
       "    }\n",
       "\n",
       "    .dataframe tbody tr th {\n",
       "        vertical-align: top;\n",
       "    }\n",
       "\n",
       "    .dataframe thead th {\n",
       "        text-align: right;\n",
       "    }\n",
       "</style>\n",
       "<table border=\"1\" class=\"dataframe\">\n",
       "  <thead>\n",
       "    <tr style=\"text-align: right;\">\n",
       "      <th></th>\n",
       "      <th>BILL_ID</th>\n",
       "      <th>BILL_NO</th>\n",
       "      <th>BILL_NAME</th>\n",
       "      <th>COMMITTEE</th>\n",
       "      <th>PROPOSE_DT</th>\n",
       "      <th>PROC_RESULT</th>\n",
       "      <th>AGE</th>\n",
       "      <th>DETAIL_LINK</th>\n",
       "      <th>PROPOSER</th>\n",
       "      <th>MEMBER_LIST</th>\n",
       "      <th>RST_PROPOSER</th>\n",
       "      <th>PUBL_PROPOSER</th>\n",
       "    </tr>\n",
       "  </thead>\n",
       "  <tbody>\n",
       "    <tr>\n",
       "      <th>0</th>\n",
       "      <td>PRC_A2T0Z0E9U1I6P1G3P3X9I3B7H7D9C1</td>\n",
       "      <td>2104402</td>\n",
       "      <td>독점규제 및 공정거래에 관한 법률 일부개정법률안</td>\n",
       "      <td>NaN</td>\n",
       "      <td>2020-10-05</td>\n",
       "      <td>NaN</td>\n",
       "      <td>21</td>\n",
       "      <td>http://likms.assembly.go.kr/bill/billDetail.do...</td>\n",
       "      <td>박홍근의원등12인</td>\n",
       "      <td>http://likms.assembly.go.kr/bill/coactorListPo...</td>\n",
       "      <td>박홍근</td>\n",
       "      <td>김원이,남인순,서영석,송옥주,용혜인,윤미향,이용빈,장경태,정태호,주철현,최종윤</td>\n",
       "    </tr>\n",
       "    <tr>\n",
       "      <th>1</th>\n",
       "      <td>PRC_I2M0O1G0U0P5E1U8T4B6Z0R9M8G5X0</td>\n",
       "      <td>2104401</td>\n",
       "      <td>지방교육재정교부금법 일부개정법률안</td>\n",
       "      <td>NaN</td>\n",
       "      <td>2020-10-05</td>\n",
       "      <td>NaN</td>\n",
       "      <td>21</td>\n",
       "      <td>http://likms.assembly.go.kr/bill/billDetail.do...</td>\n",
       "      <td>서영교의원 등 10인</td>\n",
       "      <td>http://likms.assembly.go.kr/bill/coactorListPo...</td>\n",
       "      <td>서영교</td>\n",
       "      <td>김병기,서삼석,신정훈,오영환,윤재갑,이개호,이성만,전혜숙,최형두</td>\n",
       "    </tr>\n",
       "  </tbody>\n",
       "</table>\n",
       "</div>"
      ],
      "text/plain": [
       "                              BILL_ID  BILL_NO                   BILL_NAME  \\\n",
       "0  PRC_A2T0Z0E9U1I6P1G3P3X9I3B7H7D9C1  2104402  독점규제 및 공정거래에 관한 법률 일부개정법률안   \n",
       "1  PRC_I2M0O1G0U0P5E1U8T4B6Z0R9M8G5X0  2104401          지방교육재정교부금법 일부개정법률안   \n",
       "\n",
       "  COMMITTEE PROPOSE_DT PROC_RESULT  AGE  \\\n",
       "0       NaN 2020-10-05         NaN   21   \n",
       "1       NaN 2020-10-05         NaN   21   \n",
       "\n",
       "                                         DETAIL_LINK     PROPOSER  \\\n",
       "0  http://likms.assembly.go.kr/bill/billDetail.do...    박홍근의원등12인   \n",
       "1  http://likms.assembly.go.kr/bill/billDetail.do...  서영교의원 등 10인   \n",
       "\n",
       "                                         MEMBER_LIST RST_PROPOSER  \\\n",
       "0  http://likms.assembly.go.kr/bill/coactorListPo...          박홍근   \n",
       "1  http://likms.assembly.go.kr/bill/coactorListPo...          서영교   \n",
       "\n",
       "                                 PUBL_PROPOSER  \n",
       "0  김원이,남인순,서영석,송옥주,용혜인,윤미향,이용빈,장경태,정태호,주철현,최종윤  \n",
       "1          김병기,서삼석,신정훈,오영환,윤재갑,이개호,이성만,전혜숙,최형두  "
      ]
     },
     "execution_count": 340,
     "metadata": {},
     "output_type": "execute_result"
    }
   ],
   "source": [
    "suggest.head(2)"
   ]
  },
  {
   "cell_type": "code",
   "execution_count": 350,
   "metadata": {
    "collapsed": true
   },
   "outputs": [
    {
     "data": {
      "text/plain": [
       "이명수    855\n",
       "황주홍    835\n",
       "강창일    500\n",
       "오제세    463\n",
       "김우남    457\n",
       "이찬열    455\n",
       "박광온    452\n",
       "주승용    425\n",
       "양승조    419\n",
       "심재철    339\n",
       "김상희    321\n",
       "김춘진    318\n",
       "남인순    294\n",
       "김도읍    293\n",
       "서영교    290\n",
       "박인숙    284\n",
       "전현희    284\n",
       "김동철    279\n",
       "김태원    277\n",
       "홍준표    275\n",
       "김관영    272\n",
       "함진규    272\n",
       "박홍근    269\n",
       "박정     266\n",
       "노웅래    261\n",
       "조경태    251\n",
       "송옥주    250\n",
       "정청래    248\n",
       "정성호    248\n",
       "이상민    247\n",
       "      ... \n",
       "김상영      1\n",
       "박상묵      1\n",
       "김명윤      1\n",
       "양성철      1\n",
       "임무웅      1\n",
       "윤철상      1\n",
       "신태권      1\n",
       "황인성      1\n",
       "박경수      1\n",
       "이원범      1\n",
       "손승덕      1\n",
       "지연태      1\n",
       "조순승      1\n",
       "안건일      1\n",
       "이춘구      1\n",
       "장성만      1\n",
       "진치범      1\n",
       "류호정      1\n",
       "장영순      1\n",
       "한영수      1\n",
       "허청일      1\n",
       "김일동      1\n",
       "고귀남      1\n",
       "최원호      1\n",
       "김석원      1\n",
       "류승번      1\n",
       "고건       1\n",
       "오세응      1\n",
       "맹은재      1\n",
       "이영언      1\n",
       "Name: RST_PROPOSER, Length: 1813, dtype: int64"
      ]
     },
     "execution_count": 350,
     "metadata": {},
     "output_type": "execute_result"
    }
   ],
   "source": [
    "suggest['RST_PROPOSER'].value_counts()"
   ]
  },
  {
   "cell_type": "code",
   "execution_count": 351,
   "metadata": {},
   "outputs": [
    {
     "data": {
      "text/html": [
       "<div>\n",
       "<style scoped>\n",
       "    .dataframe tbody tr th:only-of-type {\n",
       "        vertical-align: middle;\n",
       "    }\n",
       "\n",
       "    .dataframe tbody tr th {\n",
       "        vertical-align: top;\n",
       "    }\n",
       "\n",
       "    .dataframe thead th {\n",
       "        text-align: right;\n",
       "    }\n",
       "</style>\n",
       "<table border=\"1\" class=\"dataframe\">\n",
       "  <thead>\n",
       "    <tr style=\"text-align: right;\">\n",
       "      <th></th>\n",
       "      <th>DAESU</th>\n",
       "      <th>DAE</th>\n",
       "      <th>DAE_NM</th>\n",
       "      <th>NAME</th>\n",
       "      <th>NAME_HAN</th>\n",
       "      <th>JA</th>\n",
       "      <th>HO</th>\n",
       "      <th>BIRTH</th>\n",
       "      <th>BON</th>\n",
       "      <th>POSI</th>\n",
       "      <th>HAK</th>\n",
       "      <th>HOBBY</th>\n",
       "      <th>BOOK</th>\n",
       "      <th>SANG</th>\n",
       "      <th>DEAD</th>\n",
       "      <th>URL</th>\n",
       "      <th>POSI_province</th>\n",
       "    </tr>\n",
       "  </thead>\n",
       "  <tbody>\n",
       "    <tr>\n",
       "      <th>189</th>\n",
       "      <td>21</td>\n",
       "      <td>제18대국회의원(충남 아산) 정당_52\\r\\n제19대국회의원(충남 아산) 정당_52...</td>\n",
       "      <td>21대의원</td>\n",
       "      <td>이명수</td>\n",
       "      <td>李明洙</td>\n",
       "      <td>NaN</td>\n",
       "      <td>NaN</td>\n",
       "      <td>1955년 02월 11일</td>\n",
       "      <td>NaN</td>\n",
       "      <td>충남 아산</td>\n",
       "      <td>·  대전고등학교\\r\\n·  성균관대학교 대학원 행정학 (박사)\\r\\n·  제22회...</td>\n",
       "      <td>천주교 / 독서,음악감상</td>\n",
       "      <td>숨은 사람 찾기\\r\\n붉은마음 푸른 대한\\r\\n코리아 하모니\\r\\n국민여러분과 함께...</td>\n",
       "      <td>근정포장,홍조근정훈장</td>\n",
       "      <td>년   월   일</td>\n",
       "      <td>http://www.rokps.or.kr/profile/profile_view.as...</td>\n",
       "      <td>충남</td>\n",
       "    </tr>\n",
       "    <tr>\n",
       "      <th>502</th>\n",
       "      <td>20</td>\n",
       "      <td>제18대국회의원(충남 아산) 정당_52\\r\\n제19대국회의원(충남 아산) 정당_52...</td>\n",
       "      <td>20대의원</td>\n",
       "      <td>이명수</td>\n",
       "      <td>李明洙</td>\n",
       "      <td>NaN</td>\n",
       "      <td>NaN</td>\n",
       "      <td>1955년 02월 11일</td>\n",
       "      <td>NaN</td>\n",
       "      <td>충남 아산</td>\n",
       "      <td>·  대전고등학교\\r\\n·  성균관대학교 대학원 행정학 (박사)\\r\\n·  제22회...</td>\n",
       "      <td>천주교 / 독서,음악감상</td>\n",
       "      <td>숨은 사람 찾기\\r\\n붉은마음 푸른 대한\\r\\n코리아 하모니\\r\\n국민여러분과 함께...</td>\n",
       "      <td>근정포장,홍조근정훈장</td>\n",
       "      <td>년   월   일</td>\n",
       "      <td>http://www.rokps.or.kr/profile/profile_view.as...</td>\n",
       "      <td>충남</td>\n",
       "    </tr>\n",
       "    <tr>\n",
       "      <th>827</th>\n",
       "      <td>19</td>\n",
       "      <td>제18대국회의원(충남 아산) 정당_52\\r\\n제19대국회의원(충남 아산) 정당_52...</td>\n",
       "      <td>19대의원</td>\n",
       "      <td>이명수</td>\n",
       "      <td>李明洙</td>\n",
       "      <td>NaN</td>\n",
       "      <td>NaN</td>\n",
       "      <td>1955년 02월 11일</td>\n",
       "      <td>NaN</td>\n",
       "      <td>충남 아산</td>\n",
       "      <td>·  대전고등학교\\r\\n·  성균관대학교 대학원 행정학 (박사)\\r\\n·  제22회...</td>\n",
       "      <td>천주교 / 독서,음악감상</td>\n",
       "      <td>숨은 사람 찾기\\r\\n붉은마음 푸른 대한\\r\\n코리아 하모니\\r\\n국민여러분과 함께...</td>\n",
       "      <td>근정포장,홍조근정훈장</td>\n",
       "      <td>년   월   일</td>\n",
       "      <td>http://www.rokps.or.kr/profile/profile_view.as...</td>\n",
       "      <td>충남</td>\n",
       "    </tr>\n",
       "    <tr>\n",
       "      <th>1123</th>\n",
       "      <td>18</td>\n",
       "      <td>제18대국회의원(충남 아산) 정당_52\\r\\n제19대국회의원(충남 아산) 정당_52...</td>\n",
       "      <td>18대의원</td>\n",
       "      <td>이명수</td>\n",
       "      <td>李明洙</td>\n",
       "      <td>NaN</td>\n",
       "      <td>NaN</td>\n",
       "      <td>1955년 02월 11일</td>\n",
       "      <td>NaN</td>\n",
       "      <td>충남 아산</td>\n",
       "      <td>·  대전고등학교\\r\\n·  성균관대학교 대학원 행정학 (박사)\\r\\n·  제22회...</td>\n",
       "      <td>천주교 / 독서,음악감상</td>\n",
       "      <td>숨은 사람 찾기\\r\\n붉은마음 푸른 대한\\r\\n코리아 하모니\\r\\n국민여러분과 함께...</td>\n",
       "      <td>근정포장,홍조근정훈장</td>\n",
       "      <td>년   월   일</td>\n",
       "      <td>http://www.rokps.or.kr/profile/profile_view.as...</td>\n",
       "      <td>충남</td>\n",
       "    </tr>\n",
       "  </tbody>\n",
       "</table>\n",
       "</div>"
      ],
      "text/plain": [
       "     DAESU                                                DAE DAE_NM NAME  \\\n",
       "189     21  제18대국회의원(충남 아산) 정당_52\\r\\n제19대국회의원(충남 아산) 정당_52...  21대의원  이명수   \n",
       "502     20  제18대국회의원(충남 아산) 정당_52\\r\\n제19대국회의원(충남 아산) 정당_52...  20대의원  이명수   \n",
       "827     19  제18대국회의원(충남 아산) 정당_52\\r\\n제19대국회의원(충남 아산) 정당_52...  19대의원  이명수   \n",
       "1123    18  제18대국회의원(충남 아산) 정당_52\\r\\n제19대국회의원(충남 아산) 정당_52...  18대의원  이명수   \n",
       "\n",
       "     NAME_HAN   JA   HO          BIRTH  BON   POSI  \\\n",
       "189       李明洙  NaN  NaN  1955년 02월 11일  NaN  충남 아산   \n",
       "502       李明洙  NaN  NaN  1955년 02월 11일  NaN  충남 아산   \n",
       "827       李明洙  NaN  NaN  1955년 02월 11일  NaN  충남 아산   \n",
       "1123      李明洙  NaN  NaN  1955년 02월 11일  NaN  충남 아산   \n",
       "\n",
       "                                                    HAK          HOBBY  \\\n",
       "189   ·  대전고등학교\\r\\n·  성균관대학교 대학원 행정학 (박사)\\r\\n·  제22회...  천주교 / 독서,음악감상   \n",
       "502   ·  대전고등학교\\r\\n·  성균관대학교 대학원 행정학 (박사)\\r\\n·  제22회...  천주교 / 독서,음악감상   \n",
       "827   ·  대전고등학교\\r\\n·  성균관대학교 대학원 행정학 (박사)\\r\\n·  제22회...  천주교 / 독서,음악감상   \n",
       "1123  ·  대전고등학교\\r\\n·  성균관대학교 대학원 행정학 (박사)\\r\\n·  제22회...  천주교 / 독서,음악감상   \n",
       "\n",
       "                                                   BOOK         SANG  \\\n",
       "189   숨은 사람 찾기\\r\\n붉은마음 푸른 대한\\r\\n코리아 하모니\\r\\n국민여러분과 함께...  근정포장,홍조근정훈장   \n",
       "502   숨은 사람 찾기\\r\\n붉은마음 푸른 대한\\r\\n코리아 하모니\\r\\n국민여러분과 함께...  근정포장,홍조근정훈장   \n",
       "827   숨은 사람 찾기\\r\\n붉은마음 푸른 대한\\r\\n코리아 하모니\\r\\n국민여러분과 함께...  근정포장,홍조근정훈장   \n",
       "1123  숨은 사람 찾기\\r\\n붉은마음 푸른 대한\\r\\n코리아 하모니\\r\\n국민여러분과 함께...  근정포장,홍조근정훈장   \n",
       "\n",
       "               DEAD                                                URL  \\\n",
       "189       년   월   일  http://www.rokps.or.kr/profile/profile_view.as...   \n",
       "502       년   월   일  http://www.rokps.or.kr/profile/profile_view.as...   \n",
       "827       년   월   일  http://www.rokps.or.kr/profile/profile_view.as...   \n",
       "1123      년   월   일  http://www.rokps.or.kr/profile/profile_view.as...   \n",
       "\n",
       "     POSI_province  \n",
       "189             충남  \n",
       "502             충남  \n",
       "827             충남  \n",
       "1123            충남  "
      ]
     },
     "execution_count": 351,
     "metadata": {},
     "output_type": "execute_result"
    }
   ],
   "source": [
    "people[people['NAME']=='이명수']"
   ]
  },
  {
   "cell_type": "code",
   "execution_count": 352,
   "metadata": {},
   "outputs": [
    {
     "data": {
      "text/html": [
       "<div>\n",
       "<style scoped>\n",
       "    .dataframe tbody tr th:only-of-type {\n",
       "        vertical-align: middle;\n",
       "    }\n",
       "\n",
       "    .dataframe tbody tr th {\n",
       "        vertical-align: top;\n",
       "    }\n",
       "\n",
       "    .dataframe thead th {\n",
       "        text-align: right;\n",
       "    }\n",
       "</style>\n",
       "<table border=\"1\" class=\"dataframe\">\n",
       "  <thead>\n",
       "    <tr style=\"text-align: right;\">\n",
       "      <th></th>\n",
       "      <th>DAESU</th>\n",
       "      <th>DAE</th>\n",
       "      <th>DAE_NM</th>\n",
       "      <th>NAME</th>\n",
       "      <th>NAME_HAN</th>\n",
       "      <th>JA</th>\n",
       "      <th>HO</th>\n",
       "      <th>BIRTH</th>\n",
       "      <th>BON</th>\n",
       "      <th>POSI</th>\n",
       "      <th>HAK</th>\n",
       "      <th>HOBBY</th>\n",
       "      <th>BOOK</th>\n",
       "      <th>SANG</th>\n",
       "      <th>DEAD</th>\n",
       "      <th>URL</th>\n",
       "      <th>POSI_province</th>\n",
       "    </tr>\n",
       "  </thead>\n",
       "  <tbody>\n",
       "    <tr>\n",
       "      <th>617</th>\n",
       "      <td>20</td>\n",
       "      <td>제19대국회의원(전남 장흥군강진군영암군) 정당_45\\r\\n제20대국회의원(전남 고흥...</td>\n",
       "      <td>20대의원</td>\n",
       "      <td>황주홍</td>\n",
       "      <td>黃柱洪</td>\n",
       "      <td>NaN</td>\n",
       "      <td>NaN</td>\n",
       "      <td>1952년 02월 27일</td>\n",
       "      <td>NaN</td>\n",
       "      <td>NaN</td>\n",
       "      <td>광주제일고등학교\\r\\n연세대학교 정치외교학 학사\\r\\n연세대학교 대학원 정치학 석사...</td>\n",
       "      <td>NaN</td>\n",
       "      <td>패자부활전이 있는 나라\\r\\n패자부활전 희망의 다른 이름\\r\\n지도자론\\r\\n미래학...</td>\n",
       "      <td>제54회 대한체육회 체육상 시상식 공로부문 우수상\\r\\n윈저어워즈 한국축구대상 축구...</td>\n",
       "      <td>년   월   일</td>\n",
       "      <td>http://www.rokps.or.kr/profile/profile_view.as...</td>\n",
       "      <td>NaN</td>\n",
       "    </tr>\n",
       "    <tr>\n",
       "      <th>940</th>\n",
       "      <td>19</td>\n",
       "      <td>제19대국회의원(전남 장흥군강진군영암군) 정당_45\\r\\n제20대국회의원(전남 고흥...</td>\n",
       "      <td>19대의원</td>\n",
       "      <td>황주홍</td>\n",
       "      <td>黃柱洪</td>\n",
       "      <td>NaN</td>\n",
       "      <td>NaN</td>\n",
       "      <td>1952년 02월 27일</td>\n",
       "      <td>NaN</td>\n",
       "      <td>NaN</td>\n",
       "      <td>광주제일고등학교\\r\\n연세대학교 정치외교학 학사\\r\\n연세대학교 대학원 정치학 석사...</td>\n",
       "      <td>NaN</td>\n",
       "      <td>패자부활전이 있는 나라\\r\\n패자부활전 희망의 다른 이름\\r\\n지도자론\\r\\n미래학...</td>\n",
       "      <td>제54회 대한체육회 체육상 시상식 공로부문 우수상\\r\\n윈저어워즈 한국축구대상 축구...</td>\n",
       "      <td>년   월   일</td>\n",
       "      <td>http://www.rokps.or.kr/profile/profile_view.as...</td>\n",
       "      <td>NaN</td>\n",
       "    </tr>\n",
       "  </tbody>\n",
       "</table>\n",
       "</div>"
      ],
      "text/plain": [
       "    DAESU                                                DAE DAE_NM NAME  \\\n",
       "617    20  제19대국회의원(전남 장흥군강진군영암군) 정당_45\\r\\n제20대국회의원(전남 고흥...  20대의원  황주홍   \n",
       "940    19  제19대국회의원(전남 장흥군강진군영암군) 정당_45\\r\\n제20대국회의원(전남 고흥...  19대의원  황주홍   \n",
       "\n",
       "    NAME_HAN   JA   HO          BIRTH  BON POSI  \\\n",
       "617      黃柱洪  NaN  NaN  1952년 02월 27일  NaN  NaN   \n",
       "940      黃柱洪  NaN  NaN  1952년 02월 27일  NaN  NaN   \n",
       "\n",
       "                                                   HAK HOBBY  \\\n",
       "617  광주제일고등학교\\r\\n연세대학교 정치외교학 학사\\r\\n연세대학교 대학원 정치학 석사...   NaN   \n",
       "940  광주제일고등학교\\r\\n연세대학교 정치외교학 학사\\r\\n연세대학교 대학원 정치학 석사...   NaN   \n",
       "\n",
       "                                                  BOOK  \\\n",
       "617  패자부활전이 있는 나라\\r\\n패자부활전 희망의 다른 이름\\r\\n지도자론\\r\\n미래학...   \n",
       "940  패자부활전이 있는 나라\\r\\n패자부활전 희망의 다른 이름\\r\\n지도자론\\r\\n미래학...   \n",
       "\n",
       "                                                  SANG           DEAD  \\\n",
       "617  제54회 대한체육회 체육상 시상식 공로부문 우수상\\r\\n윈저어워즈 한국축구대상 축구...      년   월   일   \n",
       "940  제54회 대한체육회 체육상 시상식 공로부문 우수상\\r\\n윈저어워즈 한국축구대상 축구...      년   월   일   \n",
       "\n",
       "                                                   URL POSI_province  \n",
       "617  http://www.rokps.or.kr/profile/profile_view.as...           NaN  \n",
       "940  http://www.rokps.or.kr/profile/profile_view.as...           NaN  "
      ]
     },
     "execution_count": 352,
     "metadata": {},
     "output_type": "execute_result"
    }
   ],
   "source": [
    "people[people['NAME']=='황주홍']"
   ]
  },
  {
   "cell_type": "code",
   "execution_count": 353,
   "metadata": {},
   "outputs": [
    {
     "data": {
      "text/html": [
       "<div>\n",
       "<style scoped>\n",
       "    .dataframe tbody tr th:only-of-type {\n",
       "        vertical-align: middle;\n",
       "    }\n",
       "\n",
       "    .dataframe tbody tr th {\n",
       "        vertical-align: top;\n",
       "    }\n",
       "\n",
       "    .dataframe thead th {\n",
       "        text-align: right;\n",
       "    }\n",
       "</style>\n",
       "<table border=\"1\" class=\"dataframe\">\n",
       "  <thead>\n",
       "    <tr style=\"text-align: right;\">\n",
       "      <th></th>\n",
       "      <th>DAESU</th>\n",
       "      <th>DAE</th>\n",
       "      <th>DAE_NM</th>\n",
       "      <th>NAME</th>\n",
       "      <th>NAME_HAN</th>\n",
       "      <th>JA</th>\n",
       "      <th>HO</th>\n",
       "      <th>BIRTH</th>\n",
       "      <th>BON</th>\n",
       "      <th>POSI</th>\n",
       "      <th>HAK</th>\n",
       "      <th>HOBBY</th>\n",
       "      <th>BOOK</th>\n",
       "      <th>SANG</th>\n",
       "      <th>DEAD</th>\n",
       "      <th>URL</th>\n",
       "      <th>POSI_province</th>\n",
       "    </tr>\n",
       "  </thead>\n",
       "  <tbody>\n",
       "    <tr>\n",
       "      <th>304</th>\n",
       "      <td>20</td>\n",
       "      <td>제17대국회의원(제주 제주·북제주갑) 정당_21\\r\\n제18대국회의원(제주갑) 정당...</td>\n",
       "      <td>20대의원</td>\n",
       "      <td>강창일</td>\n",
       "      <td>姜昌一</td>\n",
       "      <td>NaN</td>\n",
       "      <td>NaN</td>\n",
       "      <td>1952년 01월 28일</td>\n",
       "      <td>진주</td>\n",
       "      <td>제주</td>\n",
       "      <td>· 오현고등학교(제주)\\r\\n· 서울대학교 국사학과 (학사)\\r\\n· 일본 동경대학...</td>\n",
       "      <td>불교 / 바둑, 독서</td>\n",
       "      <td>명성황후시해사건(공저), \\r\\n오늘에 본 친일 문제와 일본의 조선침략론(공저), ...</td>\n",
       "      <td>NaN</td>\n",
       "      <td>년   월   일</td>\n",
       "      <td>http://www.rokps.or.kr/profile/profile_view.as...</td>\n",
       "      <td>제주</td>\n",
       "    </tr>\n",
       "    <tr>\n",
       "      <th>626</th>\n",
       "      <td>19</td>\n",
       "      <td>제17대국회의원(제주 제주·북제주갑) 정당_21\\r\\n제18대국회의원(제주갑) 정당...</td>\n",
       "      <td>19대의원</td>\n",
       "      <td>강창일</td>\n",
       "      <td>姜昌一</td>\n",
       "      <td>NaN</td>\n",
       "      <td>NaN</td>\n",
       "      <td>1952년 01월 28일</td>\n",
       "      <td>진주</td>\n",
       "      <td>제주</td>\n",
       "      <td>· 오현고등학교(제주)\\r\\n· 서울대학교 국사학과 (학사)\\r\\n· 일본 동경대학...</td>\n",
       "      <td>불교 / 바둑, 독서</td>\n",
       "      <td>명성황후시해사건(공저), \\r\\n오늘에 본 친일 문제와 일본의 조선침략론(공저), ...</td>\n",
       "      <td>NaN</td>\n",
       "      <td>년   월   일</td>\n",
       "      <td>http://www.rokps.or.kr/profile/profile_view.as...</td>\n",
       "      <td>제주</td>\n",
       "    </tr>\n",
       "    <tr>\n",
       "      <th>953</th>\n",
       "      <td>18</td>\n",
       "      <td>제17대국회의원(제주 제주·북제주갑) 정당_21\\r\\n제18대국회의원(제주갑) 정당...</td>\n",
       "      <td>18대의원</td>\n",
       "      <td>강창일</td>\n",
       "      <td>姜昌一</td>\n",
       "      <td>NaN</td>\n",
       "      <td>NaN</td>\n",
       "      <td>1952년 01월 28일</td>\n",
       "      <td>진주</td>\n",
       "      <td>제주</td>\n",
       "      <td>· 오현고등학교(제주)\\r\\n· 서울대학교 국사학과 (학사)\\r\\n· 일본 동경대학...</td>\n",
       "      <td>불교 / 바둑, 독서</td>\n",
       "      <td>명성황후시해사건(공저), \\r\\n오늘에 본 친일 문제와 일본의 조선침략론(공저), ...</td>\n",
       "      <td>NaN</td>\n",
       "      <td>년   월   일</td>\n",
       "      <td>http://www.rokps.or.kr/profile/profile_view.as...</td>\n",
       "      <td>제주</td>\n",
       "    </tr>\n",
       "    <tr>\n",
       "      <th>1263</th>\n",
       "      <td>17</td>\n",
       "      <td>제17대국회의원(제주 제주·북제주갑) 정당_21\\r\\n제18대국회의원(제주갑) 정당...</td>\n",
       "      <td>17대의원</td>\n",
       "      <td>강창일</td>\n",
       "      <td>姜昌一</td>\n",
       "      <td>NaN</td>\n",
       "      <td>NaN</td>\n",
       "      <td>1952년 01월 28일</td>\n",
       "      <td>진주</td>\n",
       "      <td>제주</td>\n",
       "      <td>· 오현고등학교(제주)\\r\\n· 서울대학교 국사학과 (학사)\\r\\n· 일본 동경대학...</td>\n",
       "      <td>불교 / 바둑, 독서</td>\n",
       "      <td>명성황후시해사건(공저), \\r\\n오늘에 본 친일 문제와 일본의 조선침략론(공저), ...</td>\n",
       "      <td>NaN</td>\n",
       "      <td>년   월   일</td>\n",
       "      <td>http://www.rokps.or.kr/profile/profile_view.as...</td>\n",
       "      <td>제주</td>\n",
       "    </tr>\n",
       "  </tbody>\n",
       "</table>\n",
       "</div>"
      ],
      "text/plain": [
       "     DAESU                                                DAE DAE_NM NAME  \\\n",
       "304     20  제17대국회의원(제주 제주·북제주갑) 정당_21\\r\\n제18대국회의원(제주갑) 정당...  20대의원  강창일   \n",
       "626     19  제17대국회의원(제주 제주·북제주갑) 정당_21\\r\\n제18대국회의원(제주갑) 정당...  19대의원  강창일   \n",
       "953     18  제17대국회의원(제주 제주·북제주갑) 정당_21\\r\\n제18대국회의원(제주갑) 정당...  18대의원  강창일   \n",
       "1263    17  제17대국회의원(제주 제주·북제주갑) 정당_21\\r\\n제18대국회의원(제주갑) 정당...  17대의원  강창일   \n",
       "\n",
       "     NAME_HAN   JA   HO          BIRTH BON POSI  \\\n",
       "304       姜昌一  NaN  NaN  1952년 01월 28일  진주   제주   \n",
       "626       姜昌一  NaN  NaN  1952년 01월 28일  진주   제주   \n",
       "953       姜昌一  NaN  NaN  1952년 01월 28일  진주   제주   \n",
       "1263      姜昌一  NaN  NaN  1952년 01월 28일  진주   제주   \n",
       "\n",
       "                                                    HAK        HOBBY  \\\n",
       "304   · 오현고등학교(제주)\\r\\n· 서울대학교 국사학과 (학사)\\r\\n· 일본 동경대학...  불교 / 바둑, 독서   \n",
       "626   · 오현고등학교(제주)\\r\\n· 서울대학교 국사학과 (학사)\\r\\n· 일본 동경대학...  불교 / 바둑, 독서   \n",
       "953   · 오현고등학교(제주)\\r\\n· 서울대학교 국사학과 (학사)\\r\\n· 일본 동경대학...  불교 / 바둑, 독서   \n",
       "1263  · 오현고등학교(제주)\\r\\n· 서울대학교 국사학과 (학사)\\r\\n· 일본 동경대학...  불교 / 바둑, 독서   \n",
       "\n",
       "                                                   BOOK SANG           DEAD  \\\n",
       "304   명성황후시해사건(공저), \\r\\n오늘에 본 친일 문제와 일본의 조선침략론(공저), ...  NaN      년   월   일   \n",
       "626   명성황후시해사건(공저), \\r\\n오늘에 본 친일 문제와 일본의 조선침략론(공저), ...  NaN      년   월   일   \n",
       "953   명성황후시해사건(공저), \\r\\n오늘에 본 친일 문제와 일본의 조선침략론(공저), ...  NaN      년   월   일   \n",
       "1263  명성황후시해사건(공저), \\r\\n오늘에 본 친일 문제와 일본의 조선침략론(공저), ...  NaN      년   월   일   \n",
       "\n",
       "                                                    URL POSI_province  \n",
       "304   http://www.rokps.or.kr/profile/profile_view.as...            제주  \n",
       "626   http://www.rokps.or.kr/profile/profile_view.as...            제주  \n",
       "953   http://www.rokps.or.kr/profile/profile_view.as...            제주  \n",
       "1263  http://www.rokps.or.kr/profile/profile_view.as...            제주  "
      ]
     },
     "execution_count": 353,
     "metadata": {},
     "output_type": "execute_result"
    }
   ],
   "source": [
    "people[people['NAME']=='강창일']"
   ]
  },
  {
   "cell_type": "code",
   "execution_count": 354,
   "metadata": {},
   "outputs": [
    {
     "data": {
      "text/html": [
       "<div>\n",
       "<style scoped>\n",
       "    .dataframe tbody tr th:only-of-type {\n",
       "        vertical-align: middle;\n",
       "    }\n",
       "\n",
       "    .dataframe tbody tr th {\n",
       "        vertical-align: top;\n",
       "    }\n",
       "\n",
       "    .dataframe thead th {\n",
       "        text-align: right;\n",
       "    }\n",
       "</style>\n",
       "<table border=\"1\" class=\"dataframe\">\n",
       "  <thead>\n",
       "    <tr style=\"text-align: right;\">\n",
       "      <th></th>\n",
       "      <th>DAESU</th>\n",
       "      <th>DAE</th>\n",
       "      <th>DAE_NM</th>\n",
       "      <th>NAME</th>\n",
       "      <th>NAME_HAN</th>\n",
       "      <th>JA</th>\n",
       "      <th>HO</th>\n",
       "      <th>BIRTH</th>\n",
       "      <th>BON</th>\n",
       "      <th>POSI</th>\n",
       "      <th>HAK</th>\n",
       "      <th>HOBBY</th>\n",
       "      <th>BOOK</th>\n",
       "      <th>SANG</th>\n",
       "      <th>DEAD</th>\n",
       "      <th>URL</th>\n",
       "      <th>POSI_province</th>\n",
       "    </tr>\n",
       "  </thead>\n",
       "  <tbody>\n",
       "    <tr>\n",
       "      <th>468</th>\n",
       "      <td>20</td>\n",
       "      <td>제17대국회의원(충북 청주흥덕갑) 정당_21\\r\\n제18대국회의원(충북 청주흥덕갑)...</td>\n",
       "      <td>20대의원</td>\n",
       "      <td>오제세</td>\n",
       "      <td>吳濟世</td>\n",
       "      <td>NaN</td>\n",
       "      <td>NaN</td>\n",
       "      <td>1949년 04월 05일</td>\n",
       "      <td>보성</td>\n",
       "      <td>충북 청주</td>\n",
       "      <td>·  경기고등학교\\r\\n·  서울대학교 법과대학 행정학과 (학사)\\r\\n·  서울대...</td>\n",
       "      <td>천주교 / 테니스</td>\n",
       "      <td>NaN</td>\n",
       "      <td>NaN</td>\n",
       "      <td>년   월   일</td>\n",
       "      <td>http://www.rokps.or.kr/profile/profile_view.as...</td>\n",
       "      <td>충북</td>\n",
       "    </tr>\n",
       "    <tr>\n",
       "      <th>792</th>\n",
       "      <td>19</td>\n",
       "      <td>제17대국회의원(충북 청주흥덕갑) 정당_21\\r\\n제18대국회의원(충북 청주흥덕갑)...</td>\n",
       "      <td>19대의원</td>\n",
       "      <td>오제세</td>\n",
       "      <td>吳濟世</td>\n",
       "      <td>NaN</td>\n",
       "      <td>NaN</td>\n",
       "      <td>1949년 04월 05일</td>\n",
       "      <td>보성</td>\n",
       "      <td>충북 청주</td>\n",
       "      <td>·  경기고등학교\\r\\n·  서울대학교 법과대학 행정학과 (학사)\\r\\n·  서울대...</td>\n",
       "      <td>천주교 / 테니스</td>\n",
       "      <td>NaN</td>\n",
       "      <td>NaN</td>\n",
       "      <td>년   월   일</td>\n",
       "      <td>http://www.rokps.or.kr/profile/profile_view.as...</td>\n",
       "      <td>충북</td>\n",
       "    </tr>\n",
       "    <tr>\n",
       "      <th>1094</th>\n",
       "      <td>18</td>\n",
       "      <td>제17대국회의원(충북 청주흥덕갑) 정당_21\\r\\n제18대국회의원(충북 청주흥덕갑)...</td>\n",
       "      <td>18대의원</td>\n",
       "      <td>오제세</td>\n",
       "      <td>吳濟世</td>\n",
       "      <td>NaN</td>\n",
       "      <td>NaN</td>\n",
       "      <td>1949년 04월 05일</td>\n",
       "      <td>보성</td>\n",
       "      <td>충북 청주</td>\n",
       "      <td>·  경기고등학교\\r\\n·  서울대학교 법과대학 행정학과 (학사)\\r\\n·  서울대...</td>\n",
       "      <td>천주교 / 테니스</td>\n",
       "      <td>NaN</td>\n",
       "      <td>NaN</td>\n",
       "      <td>년   월   일</td>\n",
       "      <td>http://www.rokps.or.kr/profile/profile_view.as...</td>\n",
       "      <td>충북</td>\n",
       "    </tr>\n",
       "    <tr>\n",
       "      <th>1414</th>\n",
       "      <td>17</td>\n",
       "      <td>제17대국회의원(충북 청주흥덕갑) 정당_21\\r\\n제18대국회의원(충북 청주흥덕갑)...</td>\n",
       "      <td>17대의원</td>\n",
       "      <td>오제세</td>\n",
       "      <td>吳濟世</td>\n",
       "      <td>NaN</td>\n",
       "      <td>NaN</td>\n",
       "      <td>1949년 04월 05일</td>\n",
       "      <td>보성</td>\n",
       "      <td>충북 청주</td>\n",
       "      <td>·  경기고등학교\\r\\n·  서울대학교 법과대학 행정학과 (학사)\\r\\n·  서울대...</td>\n",
       "      <td>천주교 / 테니스</td>\n",
       "      <td>NaN</td>\n",
       "      <td>NaN</td>\n",
       "      <td>년   월   일</td>\n",
       "      <td>http://www.rokps.or.kr/profile/profile_view.as...</td>\n",
       "      <td>충북</td>\n",
       "    </tr>\n",
       "  </tbody>\n",
       "</table>\n",
       "</div>"
      ],
      "text/plain": [
       "     DAESU                                                DAE DAE_NM NAME  \\\n",
       "468     20  제17대국회의원(충북 청주흥덕갑) 정당_21\\r\\n제18대국회의원(충북 청주흥덕갑)...  20대의원  오제세   \n",
       "792     19  제17대국회의원(충북 청주흥덕갑) 정당_21\\r\\n제18대국회의원(충북 청주흥덕갑)...  19대의원  오제세   \n",
       "1094    18  제17대국회의원(충북 청주흥덕갑) 정당_21\\r\\n제18대국회의원(충북 청주흥덕갑)...  18대의원  오제세   \n",
       "1414    17  제17대국회의원(충북 청주흥덕갑) 정당_21\\r\\n제18대국회의원(충북 청주흥덕갑)...  17대의원  오제세   \n",
       "\n",
       "     NAME_HAN   JA   HO          BIRTH BON   POSI  \\\n",
       "468       吳濟世  NaN  NaN  1949년 04월 05일  보성  충북 청주   \n",
       "792       吳濟世  NaN  NaN  1949년 04월 05일  보성  충북 청주   \n",
       "1094      吳濟世  NaN  NaN  1949년 04월 05일  보성  충북 청주   \n",
       "1414      吳濟世  NaN  NaN  1949년 04월 05일  보성  충북 청주   \n",
       "\n",
       "                                                    HAK      HOBBY BOOK SANG  \\\n",
       "468   ·  경기고등학교\\r\\n·  서울대학교 법과대학 행정학과 (학사)\\r\\n·  서울대...  천주교 / 테니스  NaN  NaN   \n",
       "792   ·  경기고등학교\\r\\n·  서울대학교 법과대학 행정학과 (학사)\\r\\n·  서울대...  천주교 / 테니스  NaN  NaN   \n",
       "1094  ·  경기고등학교\\r\\n·  서울대학교 법과대학 행정학과 (학사)\\r\\n·  서울대...  천주교 / 테니스  NaN  NaN   \n",
       "1414  ·  경기고등학교\\r\\n·  서울대학교 법과대학 행정학과 (학사)\\r\\n·  서울대...  천주교 / 테니스  NaN  NaN   \n",
       "\n",
       "               DEAD                                                URL  \\\n",
       "468       년   월   일  http://www.rokps.or.kr/profile/profile_view.as...   \n",
       "792       년   월   일  http://www.rokps.or.kr/profile/profile_view.as...   \n",
       "1094      년   월   일  http://www.rokps.or.kr/profile/profile_view.as...   \n",
       "1414      년   월   일  http://www.rokps.or.kr/profile/profile_view.as...   \n",
       "\n",
       "     POSI_province  \n",
       "468             충북  \n",
       "792             충북  \n",
       "1094            충북  \n",
       "1414            충북  "
      ]
     },
     "execution_count": 354,
     "metadata": {},
     "output_type": "execute_result"
    }
   ],
   "source": [
    "people[people['NAME']=='오제세']"
   ]
  },
  {
   "cell_type": "code",
   "execution_count": 355,
   "metadata": {},
   "outputs": [
    {
     "data": {
      "text/html": [
       "<div>\n",
       "<style scoped>\n",
       "    .dataframe tbody tr th:only-of-type {\n",
       "        vertical-align: middle;\n",
       "    }\n",
       "\n",
       "    .dataframe tbody tr th {\n",
       "        vertical-align: top;\n",
       "    }\n",
       "\n",
       "    .dataframe thead th {\n",
       "        text-align: right;\n",
       "    }\n",
       "</style>\n",
       "<table border=\"1\" class=\"dataframe\">\n",
       "  <thead>\n",
       "    <tr style=\"text-align: right;\">\n",
       "      <th></th>\n",
       "      <th>DAESU</th>\n",
       "      <th>DAE</th>\n",
       "      <th>DAE_NM</th>\n",
       "      <th>NAME</th>\n",
       "      <th>NAME_HAN</th>\n",
       "      <th>JA</th>\n",
       "      <th>HO</th>\n",
       "      <th>BIRTH</th>\n",
       "      <th>BON</th>\n",
       "      <th>POSI</th>\n",
       "      <th>HAK</th>\n",
       "      <th>HOBBY</th>\n",
       "      <th>BOOK</th>\n",
       "      <th>SANG</th>\n",
       "      <th>DEAD</th>\n",
       "      <th>URL</th>\n",
       "      <th>POSI_province</th>\n",
       "    </tr>\n",
       "  </thead>\n",
       "  <tbody>\n",
       "    <tr>\n",
       "      <th>666</th>\n",
       "      <td>19</td>\n",
       "      <td>제17대 국회의원(제주·북제주을) 정당_21\\r\\n제18대 국회의원(제주 제주을) ...</td>\n",
       "      <td>19대의원</td>\n",
       "      <td>김우남</td>\n",
       "      <td>金宇南</td>\n",
       "      <td>NaN</td>\n",
       "      <td>NaN</td>\n",
       "      <td>1955년 05월 23일</td>\n",
       "      <td>광산</td>\n",
       "      <td>제주 북제주</td>\n",
       "      <td>&amp;#8226; 세화고등학교\\r\\n&amp;#8226; 제주대학교 경상대학 경영학과 (학사)...</td>\n",
       "      <td>독서</td>\n",
       "      <td>NaN</td>\n",
       "      <td>국정감사우수의원 (국정감사 NGO모니터단)</td>\n",
       "      <td>년   월   일</td>\n",
       "      <td>http://www.rokps.or.kr/profile/profile_view.as...</td>\n",
       "      <td>제주</td>\n",
       "    </tr>\n",
       "    <tr>\n",
       "      <th>995</th>\n",
       "      <td>18</td>\n",
       "      <td>제17대 국회의원(제주·북제주을) 정당_21\\r\\n제18대 국회의원(제주 제주을) ...</td>\n",
       "      <td>18대의원</td>\n",
       "      <td>김우남</td>\n",
       "      <td>金宇南</td>\n",
       "      <td>NaN</td>\n",
       "      <td>NaN</td>\n",
       "      <td>1955년 05월 23일</td>\n",
       "      <td>광산</td>\n",
       "      <td>제주 북제주</td>\n",
       "      <td>&amp;#8226; 세화고등학교\\r\\n&amp;#8226; 제주대학교 경상대학 경영학과 (학사)...</td>\n",
       "      <td>독서</td>\n",
       "      <td>NaN</td>\n",
       "      <td>국정감사우수의원 (국정감사 NGO모니터단)</td>\n",
       "      <td>년   월   일</td>\n",
       "      <td>http://www.rokps.or.kr/profile/profile_view.as...</td>\n",
       "      <td>제주</td>\n",
       "    </tr>\n",
       "    <tr>\n",
       "      <th>1309</th>\n",
       "      <td>17</td>\n",
       "      <td>제17대 국회의원(제주·북제주을) 정당_21\\r\\n제18대 국회의원(제주 제주을) ...</td>\n",
       "      <td>17대의원</td>\n",
       "      <td>김우남</td>\n",
       "      <td>金宇南</td>\n",
       "      <td>NaN</td>\n",
       "      <td>NaN</td>\n",
       "      <td>1955년 05월 23일</td>\n",
       "      <td>광산</td>\n",
       "      <td>제주 북제주</td>\n",
       "      <td>&amp;#8226; 세화고등학교\\r\\n&amp;#8226; 제주대학교 경상대학 경영학과 (학사)...</td>\n",
       "      <td>독서</td>\n",
       "      <td>NaN</td>\n",
       "      <td>국정감사우수의원 (국정감사 NGO모니터단)</td>\n",
       "      <td>년   월   일</td>\n",
       "      <td>http://www.rokps.or.kr/profile/profile_view.as...</td>\n",
       "      <td>제주</td>\n",
       "    </tr>\n",
       "  </tbody>\n",
       "</table>\n",
       "</div>"
      ],
      "text/plain": [
       "     DAESU                                                DAE DAE_NM NAME  \\\n",
       "666     19  제17대 국회의원(제주·북제주을) 정당_21\\r\\n제18대 국회의원(제주 제주을) ...  19대의원  김우남   \n",
       "995     18  제17대 국회의원(제주·북제주을) 정당_21\\r\\n제18대 국회의원(제주 제주을) ...  18대의원  김우남   \n",
       "1309    17  제17대 국회의원(제주·북제주을) 정당_21\\r\\n제18대 국회의원(제주 제주을) ...  17대의원  김우남   \n",
       "\n",
       "     NAME_HAN   JA   HO          BIRTH BON    POSI  \\\n",
       "666       金宇南  NaN  NaN  1955년 05월 23일  광산  제주 북제주   \n",
       "995       金宇南  NaN  NaN  1955년 05월 23일  광산  제주 북제주   \n",
       "1309      金宇南  NaN  NaN  1955년 05월 23일  광산  제주 북제주   \n",
       "\n",
       "                                                    HAK HOBBY BOOK  \\\n",
       "666   &#8226; 세화고등학교\\r\\n&#8226; 제주대학교 경상대학 경영학과 (학사)...    독서  NaN   \n",
       "995   &#8226; 세화고등학교\\r\\n&#8226; 제주대학교 경상대학 경영학과 (학사)...    독서  NaN   \n",
       "1309  &#8226; 세화고등학교\\r\\n&#8226; 제주대학교 경상대학 경영학과 (학사)...    독서  NaN   \n",
       "\n",
       "                         SANG           DEAD  \\\n",
       "666   국정감사우수의원 (국정감사 NGO모니터단)      년   월   일   \n",
       "995   국정감사우수의원 (국정감사 NGO모니터단)      년   월   일   \n",
       "1309  국정감사우수의원 (국정감사 NGO모니터단)      년   월   일   \n",
       "\n",
       "                                                    URL POSI_province  \n",
       "666   http://www.rokps.or.kr/profile/profile_view.as...            제주  \n",
       "995   http://www.rokps.or.kr/profile/profile_view.as...            제주  \n",
       "1309  http://www.rokps.or.kr/profile/profile_view.as...            제주  "
      ]
     },
     "execution_count": 355,
     "metadata": {},
     "output_type": "execute_result"
    }
   ],
   "source": [
    "people[people['NAME']=='김우남']"
   ]
  },
  {
   "cell_type": "code",
   "execution_count": 82,
   "metadata": {},
   "outputs": [
    {
     "data": {
      "text/plain": [
       "<matplotlib.axes._subplots.AxesSubplot at 0x61ac7d0a20>"
      ]
     },
     "execution_count": 82,
     "metadata": {},
     "output_type": "execute_result"
    },
    {
     "data": {
      "image/png": "[encoded data removed]",
      "text/plain": [
       "<Figure size 432x288 with 1 Axes>"
      ]
     },
     "metadata": {
      "needs_background": "light"
     },
     "output_type": "display_data"
    }
   ],
   "source": [
    "top5 = suggest['RST_PROPOSER'].value_counts()[:5]\n",
    "plt.title('발의법안을 제일 많이한 국회의원 top5')\n",
    "sns.barplot(x=top5.index,y=top5)"
   ]
  },
  {
   "cell_type": "markdown",
   "metadata": {},
   "source": [
    "### ※번외 연임을 하지 않은 국회의원 중 발의법의안 건수가 누가 많을까? "
   ]
  },
  {
   "cell_type": "code",
   "execution_count": 23,
   "metadata": {},
   "outputs": [
    {
     "data": {
      "text/plain": [
       "5605"
      ]
     },
     "execution_count": 23,
     "metadata": {},
     "output_type": "execute_result"
    }
   ],
   "source": [
    "len(people)"
   ]
  },
  {
   "cell_type": "code",
   "execution_count": 58,
   "metadata": {},
   "outputs": [],
   "source": [
    "dropped_ppl = people.drop_duplicates(['NAME','NAME_HAN','BIRTH','BON'],keep=False)"
   ]
  },
  {
   "cell_type": "code",
   "execution_count": 59,
   "metadata": {},
   "outputs": [
    {
     "data": {
      "text/html": [
       "<div>\n",
       "<style scoped>\n",
       "    .dataframe tbody tr th:only-of-type {\n",
       "        vertical-align: middle;\n",
       "    }\n",
       "\n",
       "    .dataframe tbody tr th {\n",
       "        vertical-align: top;\n",
       "    }\n",
       "\n",
       "    .dataframe thead th {\n",
       "        text-align: right;\n",
       "    }\n",
       "</style>\n",
       "<table border=\"1\" class=\"dataframe\">\n",
       "  <thead>\n",
       "    <tr style=\"text-align: right;\">\n",
       "      <th></th>\n",
       "      <th>BILL_ID</th>\n",
       "      <th>BILL_NO</th>\n",
       "      <th>BILL_NAME</th>\n",
       "      <th>COMMITTEE</th>\n",
       "      <th>PROPOSE_DT</th>\n",
       "      <th>PROC_RESULT</th>\n",
       "      <th>AGE</th>\n",
       "      <th>DETAIL_LINK</th>\n",
       "      <th>PROPOSER</th>\n",
       "      <th>MEMBER_LIST</th>\n",
       "      <th>RST_PROPOSER</th>\n",
       "      <th>PUBL_PROPOSER</th>\n",
       "    </tr>\n",
       "  </thead>\n",
       "  <tbody>\n",
       "    <tr>\n",
       "      <th>0</th>\n",
       "      <td>PRC_A2T0Z0E9U1I6P1G3P3X9I3B7H7D9C1</td>\n",
       "      <td>2104402</td>\n",
       "      <td>독점규제 및 공정거래에 관한 법률 일부개정법률안</td>\n",
       "      <td>NaN</td>\n",
       "      <td>2020-10-05</td>\n",
       "      <td>NaN</td>\n",
       "      <td>21</td>\n",
       "      <td>http://likms.assembly.go.kr/bill/billDetail.do...</td>\n",
       "      <td>박홍근의원등12인</td>\n",
       "      <td>http://likms.assembly.go.kr/bill/coactorListPo...</td>\n",
       "      <td>박홍근</td>\n",
       "      <td>김원이,남인순,서영석,송옥주,용혜인,윤미향,이용빈,장경태,정태호,주철현,최종윤</td>\n",
       "    </tr>\n",
       "    <tr>\n",
       "      <th>1</th>\n",
       "      <td>PRC_I2M0O1G0U0P5E1U8T4B6Z0R9M8G5X0</td>\n",
       "      <td>2104401</td>\n",
       "      <td>지방교육재정교부금법 일부개정법률안</td>\n",
       "      <td>NaN</td>\n",
       "      <td>2020-10-05</td>\n",
       "      <td>NaN</td>\n",
       "      <td>21</td>\n",
       "      <td>http://likms.assembly.go.kr/bill/billDetail.do...</td>\n",
       "      <td>서영교의원 등 10인</td>\n",
       "      <td>http://likms.assembly.go.kr/bill/coactorListPo...</td>\n",
       "      <td>서영교</td>\n",
       "      <td>김병기,서삼석,신정훈,오영환,윤재갑,이개호,이성만,전혜숙,최형두</td>\n",
       "    </tr>\n",
       "  </tbody>\n",
       "</table>\n",
       "</div>"
      ],
      "text/plain": [
       "                              BILL_ID  BILL_NO                   BILL_NAME  \\\n",
       "0  PRC_A2T0Z0E9U1I6P1G3P3X9I3B7H7D9C1  2104402  독점규제 및 공정거래에 관한 법률 일부개정법률안   \n",
       "1  PRC_I2M0O1G0U0P5E1U8T4B6Z0R9M8G5X0  2104401          지방교육재정교부금법 일부개정법률안   \n",
       "\n",
       "  COMMITTEE  PROPOSE_DT PROC_RESULT  AGE  \\\n",
       "0       NaN  2020-10-05         NaN   21   \n",
       "1       NaN  2020-10-05         NaN   21   \n",
       "\n",
       "                                         DETAIL_LINK     PROPOSER  \\\n",
       "0  http://likms.assembly.go.kr/bill/billDetail.do...    박홍근의원등12인   \n",
       "1  http://likms.assembly.go.kr/bill/billDetail.do...  서영교의원 등 10인   \n",
       "\n",
       "                                         MEMBER_LIST RST_PROPOSER  \\\n",
       "0  http://likms.assembly.go.kr/bill/coactorListPo...          박홍근   \n",
       "1  http://likms.assembly.go.kr/bill/coactorListPo...          서영교   \n",
       "\n",
       "                                 PUBL_PROPOSER  \n",
       "0  김원이,남인순,서영석,송옥주,용혜인,윤미향,이용빈,장경태,정태호,주철현,최종윤  \n",
       "1          김병기,서삼석,신정훈,오영환,윤재갑,이개호,이성만,전혜숙,최형두  "
      ]
     },
     "execution_count": 59,
     "metadata": {},
     "output_type": "execute_result"
    }
   ],
   "source": [
    "suggest.head(2)"
   ]
  },
  {
   "cell_type": "code",
   "execution_count": 60,
   "metadata": {},
   "outputs": [],
   "source": [
    "name_list = dropped_ppl['NAME'].to_list()\n",
    "suggest_copy = suggest"
   ]
  },
  {
   "cell_type": "code",
   "execution_count": 65,
   "metadata": {},
   "outputs": [
    {
     "data": {
      "text/plain": [
       "865"
      ]
     },
     "execution_count": 65,
     "metadata": {},
     "output_type": "execute_result"
    }
   ],
   "source": [
    "name_list = dropped_ppl['NAME'].to_list()\n",
    "suggest_copy = suggest\n",
    "suggest_copy['RST_PROPOSER'] = suggest_copy['RST_PROPOSER'].apply(lambda x : x if x in name_list else np.nan)\n",
    "len(suggest_copy['RST_PROPOSER'].unique()) # 연임을 하지 않은 국회의원 중 발의법의안을 낸 개별 대표자 수"
   ]
  },
  {
   "cell_type": "code",
   "execution_count": 80,
   "metadata": {},
   "outputs": [
    {
     "data": {
      "text/plain": [
       "864"
      ]
     },
     "execution_count": 80,
     "metadata": {},
     "output_type": "execute_result"
    }
   ],
   "source": [
    "suggest_copy = suggest_copy[(suggest_copy['RST_PROPOSER']!='np.nan') & (suggest_copy['RST_PROPOSER']!='nan')]\n",
    "len(suggest_copy['RST_PROPOSER'].unique())"
   ]
  },
  {
   "cell_type": "code",
   "execution_count": 83,
   "metadata": {},
   "outputs": [
    {
     "data": {
      "text/plain": [
       "<matplotlib.axes._subplots.AxesSubplot at 0x61ac83eac8>"
      ]
     },
     "execution_count": 83,
     "metadata": {},
     "output_type": "execute_result"
    },
    {
     "data": {
      "image/png": "[encoded data removed]",
      "text/plain": [
       "<Figure size 432x288 with 1 Axes>"
      ]
     },
     "metadata": {
      "needs_background": "light"
     },
     "output_type": "display_data"
    }
   ],
   "source": [
    "dropped_top5 = suggest_copy['RST_PROPOSER'].value_counts()[:5]\n",
    "plt.title('연임을 하지 않은 국회의원 중 발의법안 가장 많이 낸 top5')\n",
    "sns.barplot(x=dropped_top5.index,y=dropped_top5)"
   ]
  },
  {
   "cell_type": "markdown",
   "metadata": {},
   "source": [
    "## Q7. 대수별 법률안명의 관계는 어떨까?"
   ]
  },
  {
   "cell_type": "code",
   "execution_count": 361,
   "metadata": {},
   "outputs": [
    {
     "data": {
      "text/html": [
       "<div>\n",
       "<style scoped>\n",
       "    .dataframe tbody tr th:only-of-type {\n",
       "        vertical-align: middle;\n",
       "    }\n",
       "\n",
       "    .dataframe tbody tr th {\n",
       "        vertical-align: top;\n",
       "    }\n",
       "\n",
       "    .dataframe thead th {\n",
       "        text-align: right;\n",
       "    }\n",
       "</style>\n",
       "<table border=\"1\" class=\"dataframe\">\n",
       "  <thead>\n",
       "    <tr style=\"text-align: right;\">\n",
       "      <th></th>\n",
       "      <th>BILL_ID</th>\n",
       "      <th>BILL_NO</th>\n",
       "      <th>BILL_NAME</th>\n",
       "      <th>COMMITTEE</th>\n",
       "      <th>PROPOSE_DT</th>\n",
       "      <th>PROC_RESULT</th>\n",
       "      <th>AGE</th>\n",
       "      <th>DETAIL_LINK</th>\n",
       "      <th>PROPOSER</th>\n",
       "      <th>MEMBER_LIST</th>\n",
       "      <th>RST_PROPOSER</th>\n",
       "      <th>PUBL_PROPOSER</th>\n",
       "    </tr>\n",
       "  </thead>\n",
       "  <tbody>\n",
       "    <tr>\n",
       "      <th>0</th>\n",
       "      <td>PRC_A2T0Z0E9U1I6P1G3P3X9I3B7H7D9C1</td>\n",
       "      <td>2104402</td>\n",
       "      <td>독점규제 및 공정거래에 관한 법률 일부개정법률안</td>\n",
       "      <td>NaN</td>\n",
       "      <td>2020-10-05</td>\n",
       "      <td>NaN</td>\n",
       "      <td>21</td>\n",
       "      <td>http://likms.assembly.go.kr/bill/billDetail.do...</td>\n",
       "      <td>박홍근의원등12인</td>\n",
       "      <td>http://likms.assembly.go.kr/bill/coactorListPo...</td>\n",
       "      <td>박홍근</td>\n",
       "      <td>김원이,남인순,서영석,송옥주,용혜인,윤미향,이용빈,장경태,정태호,주철현,최종윤</td>\n",
       "    </tr>\n",
       "    <tr>\n",
       "      <th>1</th>\n",
       "      <td>PRC_I2M0O1G0U0P5E1U8T4B6Z0R9M8G5X0</td>\n",
       "      <td>2104401</td>\n",
       "      <td>지방교육재정교부금법 일부개정법률안</td>\n",
       "      <td>NaN</td>\n",
       "      <td>2020-10-05</td>\n",
       "      <td>NaN</td>\n",
       "      <td>21</td>\n",
       "      <td>http://likms.assembly.go.kr/bill/billDetail.do...</td>\n",
       "      <td>서영교의원 등 10인</td>\n",
       "      <td>http://likms.assembly.go.kr/bill/coactorListPo...</td>\n",
       "      <td>서영교</td>\n",
       "      <td>김병기,서삼석,신정훈,오영환,윤재갑,이개호,이성만,전혜숙,최형두</td>\n",
       "    </tr>\n",
       "  </tbody>\n",
       "</table>\n",
       "</div>"
      ],
      "text/plain": [
       "                              BILL_ID  BILL_NO                   BILL_NAME  \\\n",
       "0  PRC_A2T0Z0E9U1I6P1G3P3X9I3B7H7D9C1  2104402  독점규제 및 공정거래에 관한 법률 일부개정법률안   \n",
       "1  PRC_I2M0O1G0U0P5E1U8T4B6Z0R9M8G5X0  2104401          지방교육재정교부금법 일부개정법률안   \n",
       "\n",
       "  COMMITTEE PROPOSE_DT PROC_RESULT  AGE  \\\n",
       "0       NaN 2020-10-05         NaN   21   \n",
       "1       NaN 2020-10-05         NaN   21   \n",
       "\n",
       "                                         DETAIL_LINK     PROPOSER  \\\n",
       "0  http://likms.assembly.go.kr/bill/billDetail.do...    박홍근의원등12인   \n",
       "1  http://likms.assembly.go.kr/bill/billDetail.do...  서영교의원 등 10인   \n",
       "\n",
       "                                         MEMBER_LIST RST_PROPOSER  \\\n",
       "0  http://likms.assembly.go.kr/bill/coactorListPo...          박홍근   \n",
       "1  http://likms.assembly.go.kr/bill/coactorListPo...          서영교   \n",
       "\n",
       "                                 PUBL_PROPOSER  \n",
       "0  김원이,남인순,서영석,송옥주,용혜인,윤미향,이용빈,장경태,정태호,주철현,최종윤  \n",
       "1          김병기,서삼석,신정훈,오영환,윤재갑,이개호,이성만,전혜숙,최형두  "
      ]
     },
     "execution_count": 361,
     "metadata": {},
     "output_type": "execute_result"
    }
   ],
   "source": [
    "suggest.head(2)"
   ]
  },
  {
   "cell_type": "code",
   "execution_count": 366,
   "metadata": {},
   "outputs": [
    {
     "data": {
      "text/plain": [
       "7155"
      ]
     },
     "execution_count": 366,
     "metadata": {},
     "output_type": "execute_result"
    }
   ],
   "source": [
    "len(suggest['BILL_NAME'].unique())"
   ]
  },
  {
   "cell_type": "code",
   "execution_count": 276,
   "metadata": {},
   "outputs": [],
   "source": [
    "suggest_copy = suggest"
   ]
  },
  {
   "cell_type": "code",
   "execution_count": 277,
   "metadata": {},
   "outputs": [
    {
     "data": {
      "text/html": [
       "<div>\n",
       "<style scoped>\n",
       "    .dataframe tbody tr th:only-of-type {\n",
       "        vertical-align: middle;\n",
       "    }\n",
       "\n",
       "    .dataframe tbody tr th {\n",
       "        vertical-align: top;\n",
       "    }\n",
       "\n",
       "    .dataframe thead th {\n",
       "        text-align: right;\n",
       "    }\n",
       "</style>\n",
       "<table border=\"1\" class=\"dataframe\">\n",
       "  <thead>\n",
       "    <tr style=\"text-align: right;\">\n",
       "      <th></th>\n",
       "      <th>BILL_ID</th>\n",
       "      <th>BILL_NO</th>\n",
       "      <th>BILL_NAME</th>\n",
       "      <th>COMMITTEE</th>\n",
       "      <th>PROPOSE_DT</th>\n",
       "      <th>PROC_RESULT</th>\n",
       "      <th>AGE</th>\n",
       "      <th>DETAIL_LINK</th>\n",
       "      <th>PROPOSER</th>\n",
       "      <th>MEMBER_LIST</th>\n",
       "      <th>RST_PROPOSER</th>\n",
       "      <th>PUBL_PROPOSER</th>\n",
       "      <th>token</th>\n",
       "    </tr>\n",
       "  </thead>\n",
       "  <tbody>\n",
       "    <tr>\n",
       "      <th>0</th>\n",
       "      <td>PRC_A2T0Z0E9U1I6P1G3P3X9I3B7H7D9C1</td>\n",
       "      <td>2104402</td>\n",
       "      <td>독점규제 및 공정거래에 관한 법률 일부개정법률안</td>\n",
       "      <td>NaN</td>\n",
       "      <td>2020-10-05</td>\n",
       "      <td>NaN</td>\n",
       "      <td>21</td>\n",
       "      <td>http://likms.assembly.go.kr/bill/billDetail.do...</td>\n",
       "      <td>박홍근의원등12인</td>\n",
       "      <td>http://likms.assembly.go.kr/bill/coactorListPo...</td>\n",
       "      <td>박홍근</td>\n",
       "      <td>김원이,남인순,서영석,송옥주,용혜인,윤미향,이용빈,장경태,정태호,주철현,최종윤</td>\n",
       "      <td></td>\n",
       "    </tr>\n",
       "  </tbody>\n",
       "</table>\n",
       "</div>"
      ],
      "text/plain": [
       "                              BILL_ID  BILL_NO                   BILL_NAME  \\\n",
       "0  PRC_A2T0Z0E9U1I6P1G3P3X9I3B7H7D9C1  2104402  독점규제 및 공정거래에 관한 법률 일부개정법률안   \n",
       "\n",
       "  COMMITTEE  PROPOSE_DT PROC_RESULT  AGE  \\\n",
       "0       NaN  2020-10-05         NaN   21   \n",
       "\n",
       "                                         DETAIL_LINK   PROPOSER  \\\n",
       "0  http://likms.assembly.go.kr/bill/billDetail.do...  박홍근의원등12인   \n",
       "\n",
       "                                         MEMBER_LIST RST_PROPOSER  \\\n",
       "0  http://likms.assembly.go.kr/bill/coactorListPo...          박홍근   \n",
       "\n",
       "                                 PUBL_PROPOSER token  \n",
       "0  김원이,남인순,서영석,송옥주,용혜인,윤미향,이용빈,장경태,정태호,주철현,최종윤        "
      ]
     },
     "execution_count": 277,
     "metadata": {},
     "output_type": "execute_result"
    }
   ],
   "source": [
    "suggest_copy['token'] = ''\n",
    "suggest_copy.head(1)"
   ]
  },
  {
   "cell_type": "code",
   "execution_count": 278,
   "metadata": {},
   "outputs": [],
   "source": [
    "suggest_copy['BILL_NAME'] = suggest_copy['BILL_NAME'].apply(lambda x : x.split()) "
   ]
  },
  {
   "cell_type": "code",
   "execution_count": 279,
   "metadata": {},
   "outputs": [],
   "source": [
    "suggest_copy['BILL_NAME'] = suggest_copy['BILL_NAME'].apply(lambda x : x[0]) "
   ]
  },
  {
   "cell_type": "code",
   "execution_count": 280,
   "metadata": {
    "scrolled": true
   },
   "outputs": [],
   "source": [
    "suggest_copy = suggest_copy.groupby(['AGE','BILL_NAME']).size().to_frame()\n",
    "suggest_copy = suggest_copy.reset_index()\n",
    "suggest_copy = suggest_copy.rename(columns={0:'count'})"
   ]
  },
  {
   "cell_type": "code",
   "execution_count": 283,
   "metadata": {},
   "outputs": [
    {
     "data": {
      "text/html": [
       "<div>\n",
       "<style scoped>\n",
       "    .dataframe tbody tr th:only-of-type {\n",
       "        vertical-align: middle;\n",
       "    }\n",
       "\n",
       "    .dataframe tbody tr th {\n",
       "        vertical-align: top;\n",
       "    }\n",
       "\n",
       "    .dataframe thead th {\n",
       "        text-align: right;\n",
       "    }\n",
       "</style>\n",
       "<table border=\"1\" class=\"dataframe\">\n",
       "  <thead>\n",
       "    <tr style=\"text-align: right;\">\n",
       "      <th></th>\n",
       "      <th>AGE</th>\n",
       "      <th>BILL_NAME</th>\n",
       "      <th>count</th>\n",
       "    </tr>\n",
       "  </thead>\n",
       "  <tbody>\n",
       "    <tr>\n",
       "      <th>0</th>\n",
       "      <td>1</td>\n",
       "      <td>계리사법안</td>\n",
       "      <td>1</td>\n",
       "    </tr>\n",
       "    <tr>\n",
       "      <th>1</th>\n",
       "      <td>1</td>\n",
       "      <td>계엄법안</td>\n",
       "      <td>1</td>\n",
       "    </tr>\n",
       "    <tr>\n",
       "      <th>2</th>\n",
       "      <td>1</td>\n",
       "      <td>곡물검사규칙중개정법률안</td>\n",
       "      <td>1</td>\n",
       "    </tr>\n",
       "    <tr>\n",
       "      <th>3</th>\n",
       "      <td>1</td>\n",
       "      <td>곡물검사법안</td>\n",
       "      <td>1</td>\n",
       "    </tr>\n",
       "    <tr>\n",
       "      <th>4</th>\n",
       "      <td>1</td>\n",
       "      <td>관세에관한임시조치법안</td>\n",
       "      <td>1</td>\n",
       "    </tr>\n",
       "    <tr>\n",
       "      <th>5</th>\n",
       "      <td>1</td>\n",
       "      <td>교육법중개정법률안</td>\n",
       "      <td>2</td>\n",
       "    </tr>\n",
       "    <tr>\n",
       "      <th>6</th>\n",
       "      <td>1</td>\n",
       "      <td>국가공무원법중개정법률안</td>\n",
       "      <td>2</td>\n",
       "    </tr>\n",
       "    <tr>\n",
       "      <th>7</th>\n",
       "      <td>1</td>\n",
       "      <td>국립극장설치법안</td>\n",
       "      <td>1</td>\n",
       "    </tr>\n",
       "    <tr>\n",
       "      <th>8</th>\n",
       "      <td>1</td>\n",
       "      <td>국책심의회설치법안</td>\n",
       "      <td>1</td>\n",
       "    </tr>\n",
       "    <tr>\n",
       "      <th>9</th>\n",
       "      <td>1</td>\n",
       "      <td>국회법중개정법률안</td>\n",
       "      <td>2</td>\n",
       "    </tr>\n",
       "    <tr>\n",
       "      <th>10</th>\n",
       "      <td>1</td>\n",
       "      <td>국회의원보수법안</td>\n",
       "      <td>1</td>\n",
       "    </tr>\n",
       "    <tr>\n",
       "      <th>11</th>\n",
       "      <td>1</td>\n",
       "      <td>국회의원보수법안(대안)</td>\n",
       "      <td>1</td>\n",
       "    </tr>\n",
       "    <tr>\n",
       "      <th>12</th>\n",
       "      <td>1</td>\n",
       "      <td>국회의원선거법중개정법률안</td>\n",
       "      <td>3</td>\n",
       "    </tr>\n",
       "    <tr>\n",
       "      <th>13</th>\n",
       "      <td>1</td>\n",
       "      <td>군기보호법안</td>\n",
       "      <td>1</td>\n",
       "    </tr>\n",
       "    <tr>\n",
       "      <th>14</th>\n",
       "      <td>1</td>\n",
       "      <td>군정법령중개정법률안</td>\n",
       "      <td>1</td>\n",
       "    </tr>\n",
       "    <tr>\n",
       "      <th>15</th>\n",
       "      <td>1</td>\n",
       "      <td>군정법령폐지에관한법률안</td>\n",
       "      <td>1</td>\n",
       "    </tr>\n",
       "    <tr>\n",
       "      <th>16</th>\n",
       "      <td>1</td>\n",
       "      <td>귀속재산임시조치법안</td>\n",
       "      <td>1</td>\n",
       "    </tr>\n",
       "    <tr>\n",
       "      <th>17</th>\n",
       "      <td>1</td>\n",
       "      <td>귀속재산조사법안</td>\n",
       "      <td>1</td>\n",
       "    </tr>\n",
       "    <tr>\n",
       "      <th>18</th>\n",
       "      <td>1</td>\n",
       "      <td>기부통제법중개정법률안</td>\n",
       "      <td>1</td>\n",
       "    </tr>\n",
       "    <tr>\n",
       "      <th>19</th>\n",
       "      <td>1</td>\n",
       "      <td>농업협동사법안</td>\n",
       "      <td>1</td>\n",
       "    </tr>\n",
       "    <tr>\n",
       "      <th>20</th>\n",
       "      <td>1</td>\n",
       "      <td>농지개혁법안</td>\n",
       "      <td>1</td>\n",
       "    </tr>\n",
       "    <tr>\n",
       "      <th>21</th>\n",
       "      <td>1</td>\n",
       "      <td>농지개혁법중개정법률안</td>\n",
       "      <td>4</td>\n",
       "    </tr>\n",
       "    <tr>\n",
       "      <th>22</th>\n",
       "      <td>1</td>\n",
       "      <td>농지개혁에관한임시조치법안</td>\n",
       "      <td>1</td>\n",
       "    </tr>\n",
       "    <tr>\n",
       "      <th>23</th>\n",
       "      <td>1</td>\n",
       "      <td>대한잠사공사법안</td>\n",
       "      <td>1</td>\n",
       "    </tr>\n",
       "    <tr>\n",
       "      <th>24</th>\n",
       "      <td>1</td>\n",
       "      <td>대한항공법안</td>\n",
       "      <td>1</td>\n",
       "    </tr>\n",
       "    <tr>\n",
       "      <th>25</th>\n",
       "      <td>1</td>\n",
       "      <td>반민족행위처벌법중개정법률안</td>\n",
       "      <td>6</td>\n",
       "    </tr>\n",
       "    <tr>\n",
       "      <th>26</th>\n",
       "      <td>1</td>\n",
       "      <td>반민족행위특별재판부부속기관조직법안</td>\n",
       "      <td>1</td>\n",
       "    </tr>\n",
       "    <tr>\n",
       "      <th>27</th>\n",
       "      <td>1</td>\n",
       "      <td>반민족행위특별재판부부속기관조직법중개정법률안</td>\n",
       "      <td>1</td>\n",
       "    </tr>\n",
       "    <tr>\n",
       "      <th>28</th>\n",
       "      <td>1</td>\n",
       "      <td>반민족행위특별조사기관조직법급반민족행위특별재판부부속기관조직법폐지에관한법률안</td>\n",
       "      <td>1</td>\n",
       "    </tr>\n",
       "    <tr>\n",
       "      <th>29</th>\n",
       "      <td>1</td>\n",
       "      <td>반민족행위특별조사기관조직법안</td>\n",
       "      <td>1</td>\n",
       "    </tr>\n",
       "    <tr>\n",
       "      <th>...</th>\n",
       "      <td>...</td>\n",
       "      <td>...</td>\n",
       "      <td>...</td>\n",
       "    </tr>\n",
       "    <tr>\n",
       "      <th>11232</th>\n",
       "      <td>21</td>\n",
       "      <td>헌법재판소법</td>\n",
       "      <td>4</td>\n",
       "    </tr>\n",
       "    <tr>\n",
       "      <th>11233</th>\n",
       "      <td>21</td>\n",
       "      <td>헌정질서</td>\n",
       "      <td>1</td>\n",
       "    </tr>\n",
       "    <tr>\n",
       "      <th>11234</th>\n",
       "      <td>21</td>\n",
       "      <td>혁신도시</td>\n",
       "      <td>11</td>\n",
       "    </tr>\n",
       "    <tr>\n",
       "      <th>11235</th>\n",
       "      <td>21</td>\n",
       "      <td>혈액관리법</td>\n",
       "      <td>5</td>\n",
       "    </tr>\n",
       "    <tr>\n",
       "      <th>11236</th>\n",
       "      <td>21</td>\n",
       "      <td>협동조합</td>\n",
       "      <td>4</td>\n",
       "    </tr>\n",
       "    <tr>\n",
       "      <th>11237</th>\n",
       "      <td>21</td>\n",
       "      <td>형법</td>\n",
       "      <td>25</td>\n",
       "    </tr>\n",
       "    <tr>\n",
       "      <th>11238</th>\n",
       "      <td>21</td>\n",
       "      <td>형사소송</td>\n",
       "      <td>1</td>\n",
       "    </tr>\n",
       "    <tr>\n",
       "      <th>11239</th>\n",
       "      <td>21</td>\n",
       "      <td>형사소송법</td>\n",
       "      <td>22</td>\n",
       "    </tr>\n",
       "    <tr>\n",
       "      <th>11240</th>\n",
       "      <td>21</td>\n",
       "      <td>형의</td>\n",
       "      <td>4</td>\n",
       "    </tr>\n",
       "    <tr>\n",
       "      <th>11241</th>\n",
       "      <td>21</td>\n",
       "      <td>화물자동차</td>\n",
       "      <td>8</td>\n",
       "    </tr>\n",
       "    <tr>\n",
       "      <th>11242</th>\n",
       "      <td>21</td>\n",
       "      <td>화장품법</td>\n",
       "      <td>2</td>\n",
       "    </tr>\n",
       "    <tr>\n",
       "      <th>11243</th>\n",
       "      <td>21</td>\n",
       "      <td>화재예방,</td>\n",
       "      <td>7</td>\n",
       "    </tr>\n",
       "    <tr>\n",
       "      <th>11244</th>\n",
       "      <td>21</td>\n",
       "      <td>화재의</td>\n",
       "      <td>1</td>\n",
       "    </tr>\n",
       "    <tr>\n",
       "      <th>11245</th>\n",
       "      <td>21</td>\n",
       "      <td>화재조사에</td>\n",
       "      <td>1</td>\n",
       "    </tr>\n",
       "    <tr>\n",
       "      <th>11246</th>\n",
       "      <td>21</td>\n",
       "      <td>화학무기·생물무기의</td>\n",
       "      <td>1</td>\n",
       "    </tr>\n",
       "    <tr>\n",
       "      <th>11247</th>\n",
       "      <td>21</td>\n",
       "      <td>화학물질관리법</td>\n",
       "      <td>1</td>\n",
       "    </tr>\n",
       "    <tr>\n",
       "      <th>11248</th>\n",
       "      <td>21</td>\n",
       "      <td>화학물질의</td>\n",
       "      <td>1</td>\n",
       "    </tr>\n",
       "    <tr>\n",
       "      <th>11249</th>\n",
       "      <td>21</td>\n",
       "      <td>환경개선비용</td>\n",
       "      <td>1</td>\n",
       "    </tr>\n",
       "    <tr>\n",
       "      <th>11250</th>\n",
       "      <td>21</td>\n",
       "      <td>환경교육진흥법</td>\n",
       "      <td>2</td>\n",
       "    </tr>\n",
       "    <tr>\n",
       "      <th>11251</th>\n",
       "      <td>21</td>\n",
       "      <td>환경기술</td>\n",
       "      <td>1</td>\n",
       "    </tr>\n",
       "    <tr>\n",
       "      <th>11252</th>\n",
       "      <td>21</td>\n",
       "      <td>환경보건법</td>\n",
       "      <td>2</td>\n",
       "    </tr>\n",
       "    <tr>\n",
       "      <th>11253</th>\n",
       "      <td>21</td>\n",
       "      <td>환경분야</td>\n",
       "      <td>2</td>\n",
       "    </tr>\n",
       "    <tr>\n",
       "      <th>11254</th>\n",
       "      <td>21</td>\n",
       "      <td>환경영향평가법</td>\n",
       "      <td>3</td>\n",
       "    </tr>\n",
       "    <tr>\n",
       "      <th>11255</th>\n",
       "      <td>21</td>\n",
       "      <td>환경오염시설의</td>\n",
       "      <td>1</td>\n",
       "    </tr>\n",
       "    <tr>\n",
       "      <th>11256</th>\n",
       "      <td>21</td>\n",
       "      <td>환경오염피해</td>\n",
       "      <td>1</td>\n",
       "    </tr>\n",
       "    <tr>\n",
       "      <th>11257</th>\n",
       "      <td>21</td>\n",
       "      <td>환경정책기본법</td>\n",
       "      <td>2</td>\n",
       "    </tr>\n",
       "    <tr>\n",
       "      <th>11258</th>\n",
       "      <td>21</td>\n",
       "      <td>환자안전법</td>\n",
       "      <td>1</td>\n",
       "    </tr>\n",
       "    <tr>\n",
       "      <th>11259</th>\n",
       "      <td>21</td>\n",
       "      <td>효행</td>\n",
       "      <td>3</td>\n",
       "    </tr>\n",
       "    <tr>\n",
       "      <th>11260</th>\n",
       "      <td>21</td>\n",
       "      <td>후천성면역결핍증</td>\n",
       "      <td>1</td>\n",
       "    </tr>\n",
       "    <tr>\n",
       "      <th>11261</th>\n",
       "      <td>21</td>\n",
       "      <td>희귀질환관리법</td>\n",
       "      <td>2</td>\n",
       "    </tr>\n",
       "  </tbody>\n",
       "</table>\n",
       "<p>11262 rows × 3 columns</p>\n",
       "</div>"
      ],
      "text/plain": [
       "       AGE                                 BILL_NAME  count\n",
       "0        1                                     계리사법안      1\n",
       "1        1                                      계엄법안      1\n",
       "2        1                              곡물검사규칙중개정법률안      1\n",
       "3        1                                    곡물검사법안      1\n",
       "4        1                               관세에관한임시조치법안      1\n",
       "5        1                                 교육법중개정법률안      2\n",
       "6        1                              국가공무원법중개정법률안      2\n",
       "7        1                                  국립극장설치법안      1\n",
       "8        1                                 국책심의회설치법안      1\n",
       "9        1                                 국회법중개정법률안      2\n",
       "10       1                                  국회의원보수법안      1\n",
       "11       1                              국회의원보수법안(대안)      1\n",
       "12       1                             국회의원선거법중개정법률안      3\n",
       "13       1                                    군기보호법안      1\n",
       "14       1                                군정법령중개정법률안      1\n",
       "15       1                              군정법령폐지에관한법률안      1\n",
       "16       1                                귀속재산임시조치법안      1\n",
       "17       1                                  귀속재산조사법안      1\n",
       "18       1                               기부통제법중개정법률안      1\n",
       "19       1                                   농업협동사법안      1\n",
       "20       1                                    농지개혁법안      1\n",
       "21       1                               농지개혁법중개정법률안      4\n",
       "22       1                             농지개혁에관한임시조치법안      1\n",
       "23       1                                  대한잠사공사법안      1\n",
       "24       1                                    대한항공법안      1\n",
       "25       1                            반민족행위처벌법중개정법률안      6\n",
       "26       1                        반민족행위특별재판부부속기관조직법안      1\n",
       "27       1                   반민족행위특별재판부부속기관조직법중개정법률안      1\n",
       "28       1  반민족행위특별조사기관조직법급반민족행위특별재판부부속기관조직법폐지에관한법률안      1\n",
       "29       1                           반민족행위특별조사기관조직법안      1\n",
       "...    ...                                       ...    ...\n",
       "11232   21                                    헌법재판소법      4\n",
       "11233   21                                      헌정질서      1\n",
       "11234   21                                      혁신도시     11\n",
       "11235   21                                     혈액관리법      5\n",
       "11236   21                                      협동조합      4\n",
       "11237   21                                        형법     25\n",
       "11238   21                                      형사소송      1\n",
       "11239   21                                     형사소송법     22\n",
       "11240   21                                        형의      4\n",
       "11241   21                                     화물자동차      8\n",
       "11242   21                                      화장품법      2\n",
       "11243   21                                     화재예방,      7\n",
       "11244   21                                       화재의      1\n",
       "11245   21                                     화재조사에      1\n",
       "11246   21                                화학무기·생물무기의      1\n",
       "11247   21                                   화학물질관리법      1\n",
       "11248   21                                     화학물질의      1\n",
       "11249   21                                    환경개선비용      1\n",
       "11250   21                                   환경교육진흥법      2\n",
       "11251   21                                      환경기술      1\n",
       "11252   21                                     환경보건법      2\n",
       "11253   21                                      환경분야      2\n",
       "11254   21                                   환경영향평가법      3\n",
       "11255   21                                   환경오염시설의      1\n",
       "11256   21                                    환경오염피해      1\n",
       "11257   21                                   환경정책기본법      2\n",
       "11258   21                                     환자안전법      1\n",
       "11259   21                                        효행      3\n",
       "11260   21                                  후천성면역결핍증      1\n",
       "11261   21                                   희귀질환관리법      2\n",
       "\n",
       "[11262 rows x 3 columns]"
      ]
     },
     "execution_count": 283,
     "metadata": {},
     "output_type": "execute_result"
    }
   ],
   "source": [
    "suggest_copy"
   ]
  },
  {
   "cell_type": "code",
   "execution_count": 281,
   "metadata": {},
   "outputs": [],
   "source": [
    "def top_5(suggest_copy,n=5,column='count'):\n",
    "    return suggest_copy.sort_values(by='count',ascending=False)[:n]\n",
    "grouped_top5 = suggest_copy.groupby('AGE').apply(top_5,column='count',n=5)"
   ]
  },
  {
   "cell_type": "code",
   "execution_count": 284,
   "metadata": {},
   "outputs": [
    {
     "data": {
      "text/html": [
       "<div>\n",
       "<style scoped>\n",
       "    .dataframe tbody tr th:only-of-type {\n",
       "        vertical-align: middle;\n",
       "    }\n",
       "\n",
       "    .dataframe tbody tr th {\n",
       "        vertical-align: top;\n",
       "    }\n",
       "\n",
       "    .dataframe thead th {\n",
       "        text-align: right;\n",
       "    }\n",
       "</style>\n",
       "<table border=\"1\" class=\"dataframe\">\n",
       "  <thead>\n",
       "    <tr style=\"text-align: right;\">\n",
       "      <th></th>\n",
       "      <th></th>\n",
       "      <th>AGE</th>\n",
       "      <th>BILL_NAME</th>\n",
       "      <th>count</th>\n",
       "    </tr>\n",
       "    <tr>\n",
       "      <th>AGE</th>\n",
       "      <th></th>\n",
       "      <th></th>\n",
       "      <th></th>\n",
       "      <th></th>\n",
       "    </tr>\n",
       "  </thead>\n",
       "  <tbody>\n",
       "    <tr>\n",
       "      <th rowspan=\"5\" valign=\"top\">1</th>\n",
       "      <th>42</th>\n",
       "      <td>1</td>\n",
       "      <td>정부조직법중개정법률안</td>\n",
       "      <td>9</td>\n",
       "    </tr>\n",
       "    <tr>\n",
       "      <th>25</th>\n",
       "      <td>1</td>\n",
       "      <td>반민족행위처벌법중개정법률안</td>\n",
       "      <td>6</td>\n",
       "    </tr>\n",
       "    <tr>\n",
       "      <th>21</th>\n",
       "      <td>1</td>\n",
       "      <td>농지개혁법중개정법률안</td>\n",
       "      <td>4</td>\n",
       "    </tr>\n",
       "    <tr>\n",
       "      <th>44</th>\n",
       "      <td>1</td>\n",
       "      <td>지방자치법중개정법률안</td>\n",
       "      <td>3</td>\n",
       "    </tr>\n",
       "    <tr>\n",
       "      <th>12</th>\n",
       "      <td>1</td>\n",
       "      <td>국회의원선거법중개정법률안</td>\n",
       "      <td>3</td>\n",
       "    </tr>\n",
       "    <tr>\n",
       "      <th rowspan=\"5\" valign=\"top\">2</th>\n",
       "      <th>68</th>\n",
       "      <td>2</td>\n",
       "      <td>국회의원선거법중개정법률안</td>\n",
       "      <td>18</td>\n",
       "    </tr>\n",
       "    <tr>\n",
       "      <th>66</th>\n",
       "      <td>2</td>\n",
       "      <td>국회법중개정법률안</td>\n",
       "      <td>5</td>\n",
       "    </tr>\n",
       "    <tr>\n",
       "      <th>114</th>\n",
       "      <td>2</td>\n",
       "      <td>지방자치법중개정법률안</td>\n",
       "      <td>5</td>\n",
       "    </tr>\n",
       "    <tr>\n",
       "      <th>110</th>\n",
       "      <td>2</td>\n",
       "      <td>정부조직법중개정법률안</td>\n",
       "      <td>5</td>\n",
       "    </tr>\n",
       "    <tr>\n",
       "      <th>74</th>\n",
       "      <td>2</td>\n",
       "      <td>농지개혁법중개정법률안</td>\n",
       "      <td>4</td>\n",
       "    </tr>\n",
       "    <tr>\n",
       "      <th rowspan=\"5\" valign=\"top\">3</th>\n",
       "      <th>201</th>\n",
       "      <td>3</td>\n",
       "      <td>지방자치법중개정법률안</td>\n",
       "      <td>9</td>\n",
       "    </tr>\n",
       "    <tr>\n",
       "      <th>164</th>\n",
       "      <td>3</td>\n",
       "      <td>법원조직법중개정법률안</td>\n",
       "      <td>4</td>\n",
       "    </tr>\n",
       "    <tr>\n",
       "      <th>144</th>\n",
       "      <td>3</td>\n",
       "      <td>국회법중개정법률안</td>\n",
       "      <td>3</td>\n",
       "    </tr>\n",
       "    <tr>\n",
       "      <th>179</th>\n",
       "      <td>3</td>\n",
       "      <td>시·군행정구역변경에관한법률안</td>\n",
       "      <td>3</td>\n",
       "    </tr>\n",
       "    <tr>\n",
       "      <th>174</th>\n",
       "      <td>3</td>\n",
       "      <td>소득세법중개정법률안</td>\n",
       "      <td>2</td>\n",
       "    </tr>\n",
       "    <tr>\n",
       "      <th rowspan=\"5\" valign=\"top\">4</th>\n",
       "      <th>234</th>\n",
       "      <td>4</td>\n",
       "      <td>물품세법중개정법률안</td>\n",
       "      <td>4</td>\n",
       "    </tr>\n",
       "    <tr>\n",
       "      <th>259</th>\n",
       "      <td>4</td>\n",
       "      <td>임시토지수득세법중개정법률안</td>\n",
       "      <td>3</td>\n",
       "    </tr>\n",
       "    <tr>\n",
       "      <th>233</th>\n",
       "      <td>4</td>\n",
       "      <td>면화장려법안</td>\n",
       "      <td>3</td>\n",
       "    </tr>\n",
       "    <tr>\n",
       "      <th>217</th>\n",
       "      <td>4</td>\n",
       "      <td>교육법중개정법률안</td>\n",
       "      <td>3</td>\n",
       "    </tr>\n",
       "    <tr>\n",
       "      <th>270</th>\n",
       "      <td>4</td>\n",
       "      <td>집회에관한법률안</td>\n",
       "      <td>3</td>\n",
       "    </tr>\n",
       "    <tr>\n",
       "      <th rowspan=\"5\" valign=\"top\">5</th>\n",
       "      <th>344</th>\n",
       "      <td>5</td>\n",
       "      <td>지방자치법중개정법률안</td>\n",
       "      <td>12</td>\n",
       "    </tr>\n",
       "    <tr>\n",
       "      <th>348</th>\n",
       "      <td>5</td>\n",
       "      <td>헌법재판소법안</td>\n",
       "      <td>3</td>\n",
       "    </tr>\n",
       "    <tr>\n",
       "      <th>311</th>\n",
       "      <td>5</td>\n",
       "      <td>부정축재특별처리법안</td>\n",
       "      <td>3</td>\n",
       "    </tr>\n",
       "    <tr>\n",
       "      <th>286</th>\n",
       "      <td>5</td>\n",
       "      <td>국회의원선거법중개정법률안</td>\n",
       "      <td>3</td>\n",
       "    </tr>\n",
       "    <tr>\n",
       "      <th>293</th>\n",
       "      <td>5</td>\n",
       "      <td>대한금융조합연합회와금융조합의청산재산처리에관한특별조치법안</td>\n",
       "      <td>2</td>\n",
       "    </tr>\n",
       "    <tr>\n",
       "      <th rowspan=\"5\" valign=\"top\">6</th>\n",
       "      <th>386</th>\n",
       "      <td>6</td>\n",
       "      <td>국회법중개정법률안</td>\n",
       "      <td>12</td>\n",
       "    </tr>\n",
       "    <tr>\n",
       "      <th>468</th>\n",
       "      <td>6</td>\n",
       "      <td>소득세법중개정법률안</td>\n",
       "      <td>7</td>\n",
       "    </tr>\n",
       "    <tr>\n",
       "      <th>521</th>\n",
       "      <td>6</td>\n",
       "      <td>정부조직법중개정법률안</td>\n",
       "      <td>6</td>\n",
       "    </tr>\n",
       "    <tr>\n",
       "      <th>363</th>\n",
       "      <td>6</td>\n",
       "      <td>관세법중개정법률안</td>\n",
       "      <td>6</td>\n",
       "    </tr>\n",
       "    <tr>\n",
       "      <th>469</th>\n",
       "      <td>6</td>\n",
       "      <td>수산업법중개정법률안</td>\n",
       "      <td>5</td>\n",
       "    </tr>\n",
       "    <tr>\n",
       "      <th>...</th>\n",
       "      <th>...</th>\n",
       "      <td>...</td>\n",
       "      <td>...</td>\n",
       "      <td>...</td>\n",
       "    </tr>\n",
       "    <tr>\n",
       "      <th rowspan=\"5\" valign=\"top\">16</th>\n",
       "      <th>2509</th>\n",
       "      <td>16</td>\n",
       "      <td>조세특례제한법중개정법률안</td>\n",
       "      <td>61</td>\n",
       "    </tr>\n",
       "    <tr>\n",
       "      <th>2140</th>\n",
       "      <td>16</td>\n",
       "      <td>국회법중개정법률안</td>\n",
       "      <td>41</td>\n",
       "    </tr>\n",
       "    <tr>\n",
       "      <th>2069</th>\n",
       "      <td>16</td>\n",
       "      <td>공직선거및선거부정방지법중개정법률안</td>\n",
       "      <td>34</td>\n",
       "    </tr>\n",
       "    <tr>\n",
       "      <th>2549</th>\n",
       "      <td>16</td>\n",
       "      <td>지방세법중개정법률안</td>\n",
       "      <td>22</td>\n",
       "    </tr>\n",
       "    <tr>\n",
       "      <th>2215</th>\n",
       "      <td>16</td>\n",
       "      <td>도로교통법중개정법률안</td>\n",
       "      <td>22</td>\n",
       "    </tr>\n",
       "    <tr>\n",
       "      <th rowspan=\"5\" valign=\"top\">17</th>\n",
       "      <th>4080</th>\n",
       "      <td>17</td>\n",
       "      <td>조세특례제한법</td>\n",
       "      <td>118</td>\n",
       "    </tr>\n",
       "    <tr>\n",
       "      <th>2864</th>\n",
       "      <td>17</td>\n",
       "      <td>공직선거법</td>\n",
       "      <td>102</td>\n",
       "    </tr>\n",
       "    <tr>\n",
       "      <th>3054</th>\n",
       "      <td>17</td>\n",
       "      <td>국회법</td>\n",
       "      <td>97</td>\n",
       "    </tr>\n",
       "    <tr>\n",
       "      <th>4159</th>\n",
       "      <td>17</td>\n",
       "      <td>지방세법</td>\n",
       "      <td>75</td>\n",
       "    </tr>\n",
       "    <tr>\n",
       "      <th>3624</th>\n",
       "      <td>17</td>\n",
       "      <td>소득세법</td>\n",
       "      <td>70</td>\n",
       "    </tr>\n",
       "    <tr>\n",
       "      <th rowspan=\"5\" valign=\"top\">18</th>\n",
       "      <th>5884</th>\n",
       "      <td>18</td>\n",
       "      <td>조세특례제한법</td>\n",
       "      <td>344</td>\n",
       "    </tr>\n",
       "    <tr>\n",
       "      <th>4727</th>\n",
       "      <td>18</td>\n",
       "      <td>공직선거법</td>\n",
       "      <td>219</td>\n",
       "    </tr>\n",
       "    <tr>\n",
       "      <th>4889</th>\n",
       "      <td>18</td>\n",
       "      <td>국회법</td>\n",
       "      <td>152</td>\n",
       "    </tr>\n",
       "    <tr>\n",
       "      <th>4803</th>\n",
       "      <td>18</td>\n",
       "      <td>국가재정법</td>\n",
       "      <td>144</td>\n",
       "    </tr>\n",
       "    <tr>\n",
       "      <th>5115</th>\n",
       "      <td>18</td>\n",
       "      <td>도로교통법</td>\n",
       "      <td>127</td>\n",
       "    </tr>\n",
       "    <tr>\n",
       "      <th rowspan=\"5\" valign=\"top\">19</th>\n",
       "      <th>7739</th>\n",
       "      <td>19</td>\n",
       "      <td>조세특례제한법</td>\n",
       "      <td>354</td>\n",
       "    </tr>\n",
       "    <tr>\n",
       "      <th>6486</th>\n",
       "      <td>19</td>\n",
       "      <td>공직선거법</td>\n",
       "      <td>334</td>\n",
       "    </tr>\n",
       "    <tr>\n",
       "      <th>6915</th>\n",
       "      <td>19</td>\n",
       "      <td>도로교통법</td>\n",
       "      <td>191</td>\n",
       "    </tr>\n",
       "    <tr>\n",
       "      <th>6677</th>\n",
       "      <td>19</td>\n",
       "      <td>국회법</td>\n",
       "      <td>172</td>\n",
       "    </tr>\n",
       "    <tr>\n",
       "      <th>6576</th>\n",
       "      <td>19</td>\n",
       "      <td>국가재정법</td>\n",
       "      <td>157</td>\n",
       "    </tr>\n",
       "    <tr>\n",
       "      <th rowspan=\"5\" valign=\"top\">20</th>\n",
       "      <th>9796</th>\n",
       "      <td>20</td>\n",
       "      <td>조세특례제한법</td>\n",
       "      <td>606</td>\n",
       "    </tr>\n",
       "    <tr>\n",
       "      <th>8469</th>\n",
       "      <td>20</td>\n",
       "      <td>공직선거법</td>\n",
       "      <td>341</td>\n",
       "    </tr>\n",
       "    <tr>\n",
       "      <th>8931</th>\n",
       "      <td>20</td>\n",
       "      <td>도로교통법</td>\n",
       "      <td>275</td>\n",
       "    </tr>\n",
       "    <tr>\n",
       "      <th>8672</th>\n",
       "      <td>20</td>\n",
       "      <td>국회법</td>\n",
       "      <td>267</td>\n",
       "    </tr>\n",
       "    <tr>\n",
       "      <th>8721</th>\n",
       "      <td>20</td>\n",
       "      <td>근로기준법</td>\n",
       "      <td>215</td>\n",
       "    </tr>\n",
       "    <tr>\n",
       "      <th rowspan=\"5\" valign=\"top\">21</th>\n",
       "      <th>11033</th>\n",
       "      <td>21</td>\n",
       "      <td>조세특례제한법</td>\n",
       "      <td>127</td>\n",
       "    </tr>\n",
       "    <tr>\n",
       "      <th>10511</th>\n",
       "      <td>21</td>\n",
       "      <td>국회법</td>\n",
       "      <td>79</td>\n",
       "    </tr>\n",
       "    <tr>\n",
       "      <th>10533</th>\n",
       "      <td>21</td>\n",
       "      <td>근로기준법</td>\n",
       "      <td>60</td>\n",
       "    </tr>\n",
       "    <tr>\n",
       "      <th>10342</th>\n",
       "      <td>21</td>\n",
       "      <td>감염병의</td>\n",
       "      <td>55</td>\n",
       "    </tr>\n",
       "    <tr>\n",
       "      <th>11069</th>\n",
       "      <td>21</td>\n",
       "      <td>지방세특례제한법</td>\n",
       "      <td>52</td>\n",
       "    </tr>\n",
       "  </tbody>\n",
       "</table>\n",
       "<p>105 rows × 3 columns</p>\n",
       "</div>"
      ],
      "text/plain": [
       "           AGE                       BILL_NAME  count\n",
       "AGE                                                  \n",
       "1   42       1                     정부조직법중개정법률안      9\n",
       "    25       1                  반민족행위처벌법중개정법률안      6\n",
       "    21       1                     농지개혁법중개정법률안      4\n",
       "    44       1                     지방자치법중개정법률안      3\n",
       "    12       1                   국회의원선거법중개정법률안      3\n",
       "2   68       2                   국회의원선거법중개정법률안     18\n",
       "    66       2                       국회법중개정법률안      5\n",
       "    114      2                     지방자치법중개정법률안      5\n",
       "    110      2                     정부조직법중개정법률안      5\n",
       "    74       2                     농지개혁법중개정법률안      4\n",
       "3   201      3                     지방자치법중개정법률안      9\n",
       "    164      3                     법원조직법중개정법률안      4\n",
       "    144      3                       국회법중개정법률안      3\n",
       "    179      3                 시·군행정구역변경에관한법률안      3\n",
       "    174      3                      소득세법중개정법률안      2\n",
       "4   234      4                      물품세법중개정법률안      4\n",
       "    259      4                  임시토지수득세법중개정법률안      3\n",
       "    233      4                          면화장려법안      3\n",
       "    217      4                       교육법중개정법률안      3\n",
       "    270      4                        집회에관한법률안      3\n",
       "5   344      5                     지방자치법중개정법률안     12\n",
       "    348      5                         헌법재판소법안      3\n",
       "    311      5                      부정축재특별처리법안      3\n",
       "    286      5                   국회의원선거법중개정법률안      3\n",
       "    293      5  대한금융조합연합회와금융조합의청산재산처리에관한특별조치법안      2\n",
       "6   386      6                       국회법중개정법률안     12\n",
       "    468      6                      소득세법중개정법률안      7\n",
       "    521      6                     정부조직법중개정법률안      6\n",
       "    363      6                       관세법중개정법률안      6\n",
       "    469      6                      수산업법중개정법률안      5\n",
       "...        ...                             ...    ...\n",
       "16  2509    16                   조세특례제한법중개정법률안     61\n",
       "    2140    16                       국회법중개정법률안     41\n",
       "    2069    16              공직선거및선거부정방지법중개정법률안     34\n",
       "    2549    16                      지방세법중개정법률안     22\n",
       "    2215    16                     도로교통법중개정법률안     22\n",
       "17  4080    17                         조세특례제한법    118\n",
       "    2864    17                           공직선거법    102\n",
       "    3054    17                             국회법     97\n",
       "    4159    17                            지방세법     75\n",
       "    3624    17                            소득세법     70\n",
       "18  5884    18                         조세특례제한법    344\n",
       "    4727    18                           공직선거법    219\n",
       "    4889    18                             국회법    152\n",
       "    4803    18                           국가재정법    144\n",
       "    5115    18                           도로교통법    127\n",
       "19  7739    19                         조세특례제한법    354\n",
       "    6486    19                           공직선거법    334\n",
       "    6915    19                           도로교통법    191\n",
       "    6677    19                             국회법    172\n",
       "    6576    19                           국가재정법    157\n",
       "20  9796    20                         조세특례제한법    606\n",
       "    8469    20                           공직선거법    341\n",
       "    8931    20                           도로교통법    275\n",
       "    8672    20                             국회법    267\n",
       "    8721    20                           근로기준법    215\n",
       "21  11033   21                         조세특례제한법    127\n",
       "    10511   21                             국회법     79\n",
       "    10533   21                           근로기준법     60\n",
       "    10342   21                            감염병의     55\n",
       "    11069   21                        지방세특례제한법     52\n",
       "\n",
       "[105 rows x 3 columns]"
      ]
     },
     "execution_count": 284,
     "metadata": {},
     "output_type": "execute_result"
    }
   ],
   "source": [
    "grouped_top5"
   ]
  },
  {
   "cell_type": "code",
   "execution_count": 286,
   "metadata": {},
   "outputs": [],
   "source": [
    "grouped_2017 = grouped_top5[grouped_top5['AGE']==17]\n",
    "grouped_2018 = grouped_top5[grouped_top5['AGE']==18]\n",
    "grouped_2019 = grouped_top5[grouped_top5['AGE']==19]\n",
    "grouped_2020 = grouped_top5[grouped_top5['AGE']==20]\n",
    "grouped_2021 = grouped_top5[grouped_top5['AGE']==21]"
   ]
  },
  {
   "cell_type": "code",
   "execution_count": 288,
   "metadata": {},
   "outputs": [
    {
     "data": {
      "text/plain": [
       "<matplotlib.axes._subplots.AxesSubplot at 0x61ac83ed68>"
      ]
     },
     "execution_count": 288,
     "metadata": {},
     "output_type": "execute_result"
    },
    {
     "data": {
      "image/png": "[encoded data removed]",
      "text/plain": [
       "<Figure size 432x288 with 1 Axes>"
      ]
     },
     "metadata": {
      "needs_background": "light"
     },
     "output_type": "display_data"
    }
   ],
   "source": [
    "plt.title('17년도 법의발의안 top5')\n",
    "sns.barplot(x=grouped_2017['BILL_NAME'],y=grouped_2017['count'])"
   ]
  },
  {
   "cell_type": "code",
   "execution_count": 289,
   "metadata": {},
   "outputs": [
    {
     "data": {
      "text/plain": [
       "<matplotlib.axes._subplots.AxesSubplot at 0x61b6f0fac8>"
      ]
     },
     "execution_count": 289,
     "metadata": {},
     "output_type": "execute_result"
    },
    {
     "data": {
      "image/png": "[encoded data removed]",
      "text/plain": [
       "<Figure size 432x288 with 1 Axes>"
      ]
     },
     "metadata": {
      "needs_background": "light"
     },
     "output_type": "display_data"
    }
   ],
   "source": [
    "plt.title('18년도 법의발의안 top5')\n",
    "sns.barplot(x=grouped_2018['BILL_NAME'],y=grouped_2018['count'])"
   ]
  },
  {
   "cell_type": "code",
   "execution_count": 290,
   "metadata": {},
   "outputs": [
    {
     "data": {
      "text/plain": [
       "<matplotlib.axes._subplots.AxesSubplot at 0x61be65bef0>"
      ]
     },
     "execution_count": 290,
     "metadata": {},
     "output_type": "execute_result"
    },
    {
     "data": {
      "image/png": "[encoded data removed]",
      "text/plain": [
       "<Figure size 432x288 with 1 Axes>"
      ]
     },
     "metadata": {
      "needs_background": "light"
     },
     "output_type": "display_data"
    }
   ],
   "source": [
    "plt.title('19년도 법의발의안 top5')\n",
    "sns.barplot(x=grouped_2019['BILL_NAME'],y=grouped_2019['count'])"
   ]
  },
  {
   "cell_type": "code",
   "execution_count": 291,
   "metadata": {},
   "outputs": [
    {
     "data": {
      "text/plain": [
       "<matplotlib.axes._subplots.AxesSubplot at 0x61bdf6a9b0>"
      ]
     },
     "execution_count": 291,
     "metadata": {},
     "output_type": "execute_result"
    },
    {
     "data": {
      "image/png": "[encoded data removed]",
      "text/plain": [
       "<Figure size 432x288 with 1 Axes>"
      ]
     },
     "metadata": {
      "needs_background": "light"
     },
     "output_type": "display_data"
    }
   ],
   "source": [
    "plt.title('20년도 법의발의안 top5')\n",
    "sns.barplot(x=grouped_2020['BILL_NAME'],y=grouped_2020['count'])"
   ]
  },
  {
   "cell_type": "code",
   "execution_count": 292,
   "metadata": {},
   "outputs": [
    {
     "data": {
      "text/plain": [
       "<matplotlib.axes._subplots.AxesSubplot at 0x61c45059b0>"
      ]
     },
     "execution_count": 292,
     "metadata": {},
     "output_type": "execute_result"
    },
    {
     "data": {
      "image/png": "[encoded data removed]",
      "text/plain": [
       "<Figure size 432x288 with 1 Axes>"
      ]
     },
     "metadata": {
      "needs_background": "light"
     },
     "output_type": "display_data"
    }
   ],
   "source": [
    "plt.title('21년도 법의발의안 top5')\n",
    "sns.barplot(x=grouped_2021['BILL_NAME'],y=grouped_2021['count'])"
   ]
  },
  {
   "cell_type": "markdown",
   "metadata": {},
   "source": [
    "## Q8. 대수별 처리안 건수는 어떻게 달라질까?"
   ]
  },
  {
   "cell_type": "code",
   "execution_count": 293,
   "metadata": {},
   "outputs": [
    {
     "data": {
      "text/html": [
       "<div>\n",
       "<style scoped>\n",
       "    .dataframe tbody tr th:only-of-type {\n",
       "        vertical-align: middle;\n",
       "    }\n",
       "\n",
       "    .dataframe tbody tr th {\n",
       "        vertical-align: top;\n",
       "    }\n",
       "\n",
       "    .dataframe thead th {\n",
       "        text-align: right;\n",
       "    }\n",
       "</style>\n",
       "<table border=\"1\" class=\"dataframe\">\n",
       "  <thead>\n",
       "    <tr style=\"text-align: right;\">\n",
       "      <th></th>\n",
       "      <th>AGE</th>\n",
       "      <th>ANNOUNCE_DT</th>\n",
       "      <th>BDG_PRESENT_DT</th>\n",
       "      <th>BDG_PROC_DT</th>\n",
       "      <th>BDG_SUBMIT_DT</th>\n",
       "      <th>BILL_ID</th>\n",
       "      <th>BILL_KIND</th>\n",
       "      <th>BILL_NAME</th>\n",
       "      <th>BILL_NO</th>\n",
       "      <th>BLANK_TCNT</th>\n",
       "      <th>...</th>\n",
       "      <th>LINK_URL</th>\n",
       "      <th>NO_TCNT</th>\n",
       "      <th>PROC_RESULT_CD</th>\n",
       "      <th>PROPOSER</th>\n",
       "      <th>PROPOSER_KIND_CD</th>\n",
       "      <th>PROPOSE_DT</th>\n",
       "      <th>RGS_PRESENT_DT</th>\n",
       "      <th>RGS_PROC_DT</th>\n",
       "      <th>VOTE_TCNT</th>\n",
       "      <th>YES_TCNT</th>\n",
       "    </tr>\n",
       "  </thead>\n",
       "  <tbody>\n",
       "    <tr>\n",
       "      <th>0</th>\n",
       "      <td>21</td>\n",
       "      <td>NaN</td>\n",
       "      <td>NaN</td>\n",
       "      <td>NaN</td>\n",
       "      <td>NaN</td>\n",
       "      <td>PRC_A2Q0T0X9B2P4F0M9N3P8K5S9I7K5N9</td>\n",
       "      <td>기타</td>\n",
       "      <td>본회의 의결을 요하는 국정감사대상기관 승인의 건(과학기술정보방송통신위원장)</td>\n",
       "      <td>2104197</td>\n",
       "      <td>NaN</td>\n",
       "      <td>...</td>\n",
       "      <td>https://likms.assembly.go.kr/bill/billDetail.d...</td>\n",
       "      <td>NaN</td>\n",
       "      <td>원안가결</td>\n",
       "      <td>과학기술정보방송통신위원장</td>\n",
       "      <td>위원장</td>\n",
       "      <td>2020-09-24</td>\n",
       "      <td>2020-09-24</td>\n",
       "      <td>2020-09-24</td>\n",
       "      <td>NaN</td>\n",
       "      <td>NaN</td>\n",
       "    </tr>\n",
       "    <tr>\n",
       "      <th>1</th>\n",
       "      <td>21</td>\n",
       "      <td>NaN</td>\n",
       "      <td>NaN</td>\n",
       "      <td>NaN</td>\n",
       "      <td>NaN</td>\n",
       "      <td>PRC_W2L0P0M9C2X4P1E3A2N6C4B7T7K5M0</td>\n",
       "      <td>기타</td>\n",
       "      <td>과학기술정보방송통신위원장(박광온) 사임의 건(박광온의원)</td>\n",
       "      <td>2104196</td>\n",
       "      <td>NaN</td>\n",
       "      <td>...</td>\n",
       "      <td>https://likms.assembly.go.kr/bill/billDetail.d...</td>\n",
       "      <td>NaN</td>\n",
       "      <td>원안가결</td>\n",
       "      <td>박광온의원</td>\n",
       "      <td>의원</td>\n",
       "      <td>2020-09-24</td>\n",
       "      <td>2020-09-24</td>\n",
       "      <td>2020-09-24</td>\n",
       "      <td>NaN</td>\n",
       "      <td>NaN</td>\n",
       "    </tr>\n",
       "  </tbody>\n",
       "</table>\n",
       "<p>2 rows × 28 columns</p>\n",
       "</div>"
      ],
      "text/plain": [
       "   AGE ANNOUNCE_DT BDG_PRESENT_DT BDG_PROC_DT BDG_SUBMIT_DT  \\\n",
       "0   21         NaN            NaN         NaN           NaN   \n",
       "1   21         NaN            NaN         NaN           NaN   \n",
       "\n",
       "                              BILL_ID BILL_KIND  \\\n",
       "0  PRC_A2Q0T0X9B2P4F0M9N3P8K5S9I7K5N9        기타   \n",
       "1  PRC_W2L0P0M9C2X4P1E3A2N6C4B7T7K5M0        기타   \n",
       "\n",
       "                                   BILL_NAME  BILL_NO  BLANK_TCNT  ...  \\\n",
       "0  본회의 의결을 요하는 국정감사대상기관 승인의 건(과학기술정보방송통신위원장)  2104197         NaN  ...   \n",
       "1            과학기술정보방송통신위원장(박광온) 사임의 건(박광온의원)  2104196         NaN  ...   \n",
       "\n",
       "                                            LINK_URL NO_TCNT PROC_RESULT_CD  \\\n",
       "0  https://likms.assembly.go.kr/bill/billDetail.d...     NaN           원안가결   \n",
       "1  https://likms.assembly.go.kr/bill/billDetail.d...     NaN           원안가결   \n",
       "\n",
       "        PROPOSER PROPOSER_KIND_CD  PROPOSE_DT RGS_PRESENT_DT RGS_PROC_DT  \\\n",
       "0  과학기술정보방송통신위원장              위원장  2020-09-24     2020-09-24  2020-09-24   \n",
       "1          박광온의원               의원  2020-09-24     2020-09-24  2020-09-24   \n",
       "\n",
       "  VOTE_TCNT  YES_TCNT  \n",
       "0       NaN       NaN  \n",
       "1       NaN       NaN  \n",
       "\n",
       "[2 rows x 28 columns]"
      ]
     },
     "execution_count": 293,
     "metadata": {},
     "output_type": "execute_result"
    }
   ],
   "source": [
    "process.head(2)"
   ]
  },
  {
   "cell_type": "code",
   "execution_count": 294,
   "metadata": {},
   "outputs": [
    {
     "data": {
      "text/plain": [
       "AGE                       int64\n",
       "ANNOUNCE_DT              object\n",
       "BDG_PRESENT_DT           object\n",
       "BDG_PROC_DT              object\n",
       "BDG_SUBMIT_DT            object\n",
       "BILL_ID                  object\n",
       "BILL_KIND                object\n",
       "BILL_NAME                object\n",
       "BILL_NO                   int64\n",
       "BLANK_TCNT              float64\n",
       "COMMITTEE_NM             object\n",
       "COMMITTEE_PRESENT_DT     object\n",
       "COMMITTEE_PROC_DT        object\n",
       "COMMITTEE_SUBMIT_DT      object\n",
       "CURR_TRANS_DT            object\n",
       "LAW_PRESENT_DT           object\n",
       "LAW_PROC_DT              object\n",
       "LAW_SUBMIT_DT            object\n",
       "LINK_URL                 object\n",
       "NO_TCNT                 float64\n",
       "PROC_RESULT_CD           object\n",
       "PROPOSER                 object\n",
       "PROPOSER_KIND_CD         object\n",
       "PROPOSE_DT               object\n",
       "RGS_PRESENT_DT           object\n",
       "RGS_PROC_DT              object\n",
       "VOTE_TCNT               float64\n",
       "YES_TCNT                float64\n",
       "dtype: object"
      ]
     },
     "execution_count": 294,
     "metadata": {},
     "output_type": "execute_result"
    }
   ],
   "source": [
    "process.dtypes # 본회의 처리안건 데이터 타입"
   ]
  },
  {
   "cell_type": "code",
   "execution_count": 300,
   "metadata": {},
   "outputs": [
    {
     "data": {
      "text/html": [
       "<div>\n",
       "<style scoped>\n",
       "    .dataframe tbody tr th:only-of-type {\n",
       "        vertical-align: middle;\n",
       "    }\n",
       "\n",
       "    .dataframe tbody tr th {\n",
       "        vertical-align: top;\n",
       "    }\n",
       "\n",
       "    .dataframe thead th {\n",
       "        text-align: right;\n",
       "    }\n",
       "</style>\n",
       "<table border=\"1\" class=\"dataframe\">\n",
       "  <thead>\n",
       "    <tr style=\"text-align: right;\">\n",
       "      <th></th>\n",
       "      <th>BLANK_TCNT</th>\n",
       "      <th>NO_TCNT</th>\n",
       "      <th>VOTE_TCNT</th>\n",
       "      <th>YES_TCNT</th>\n",
       "    </tr>\n",
       "  </thead>\n",
       "  <tbody>\n",
       "    <tr>\n",
       "      <th>count</th>\n",
       "      <td>3333.000000</td>\n",
       "      <td>1160.000000</td>\n",
       "      <td>3692.000000</td>\n",
       "      <td>3692.000000</td>\n",
       "    </tr>\n",
       "    <tr>\n",
       "      <th>mean</th>\n",
       "      <td>6.082208</td>\n",
       "      <td>6.783621</td>\n",
       "      <td>201.366739</td>\n",
       "      <td>193.744854</td>\n",
       "    </tr>\n",
       "    <tr>\n",
       "      <th>std</th>\n",
       "      <td>6.554955</td>\n",
       "      <td>17.292706</td>\n",
       "      <td>30.422027</td>\n",
       "      <td>31.966445</td>\n",
       "    </tr>\n",
       "    <tr>\n",
       "      <th>min</th>\n",
       "      <td>1.000000</td>\n",
       "      <td>1.000000</td>\n",
       "      <td>148.000000</td>\n",
       "      <td>1.000000</td>\n",
       "    </tr>\n",
       "    <tr>\n",
       "      <th>25%</th>\n",
       "      <td>2.000000</td>\n",
       "      <td>1.000000</td>\n",
       "      <td>178.000000</td>\n",
       "      <td>172.000000</td>\n",
       "    </tr>\n",
       "    <tr>\n",
       "      <th>50%</th>\n",
       "      <td>4.000000</td>\n",
       "      <td>2.000000</td>\n",
       "      <td>200.000000</td>\n",
       "      <td>193.000000</td>\n",
       "    </tr>\n",
       "    <tr>\n",
       "      <th>75%</th>\n",
       "      <td>7.000000</td>\n",
       "      <td>5.000000</td>\n",
       "      <td>221.000000</td>\n",
       "      <td>214.000000</td>\n",
       "    </tr>\n",
       "    <tr>\n",
       "      <th>max</th>\n",
       "      <td>51.000000</td>\n",
       "      <td>156.000000</td>\n",
       "      <td>287.000000</td>\n",
       "      <td>287.000000</td>\n",
       "    </tr>\n",
       "  </tbody>\n",
       "</table>\n",
       "</div>"
      ],
      "text/plain": [
       "        BLANK_TCNT      NO_TCNT    VOTE_TCNT     YES_TCNT\n",
       "count  3333.000000  1160.000000  3692.000000  3692.000000\n",
       "mean      6.082208     6.783621   201.366739   193.744854\n",
       "std       6.554955    17.292706    30.422027    31.966445\n",
       "min       1.000000     1.000000   148.000000     1.000000\n",
       "25%       2.000000     1.000000   178.000000   172.000000\n",
       "50%       4.000000     2.000000   200.000000   193.000000\n",
       "75%       7.000000     5.000000   221.000000   214.000000\n",
       "max      51.000000   156.000000   287.000000   287.000000"
      ]
     },
     "execution_count": 300,
     "metadata": {},
     "output_type": "execute_result"
    }
   ],
   "source": [
    "process.describe(include='float')"
   ]
  },
  {
   "cell_type": "code",
   "execution_count": 301,
   "metadata": {},
   "outputs": [
    {
     "data": {
      "text/plain": [
       "68530"
      ]
     },
     "execution_count": 301,
     "metadata": {},
     "output_type": "execute_result"
    }
   ],
   "source": [
    "len(process)"
   ]
  },
  {
   "cell_type": "code",
   "execution_count": 302,
   "metadata": {},
   "outputs": [
    {
     "data": {
      "text/html": [
       "<div>\n",
       "<style scoped>\n",
       "    .dataframe tbody tr th:only-of-type {\n",
       "        vertical-align: middle;\n",
       "    }\n",
       "\n",
       "    .dataframe tbody tr th {\n",
       "        vertical-align: top;\n",
       "    }\n",
       "\n",
       "    .dataframe thead th {\n",
       "        text-align: right;\n",
       "    }\n",
       "</style>\n",
       "<table border=\"1\" class=\"dataframe\">\n",
       "  <thead>\n",
       "    <tr style=\"text-align: right;\">\n",
       "      <th></th>\n",
       "      <th>ANNOUNCE_DT</th>\n",
       "      <th>BDG_PRESENT_DT</th>\n",
       "      <th>BDG_PROC_DT</th>\n",
       "      <th>BDG_SUBMIT_DT</th>\n",
       "      <th>BILL_ID</th>\n",
       "      <th>BILL_KIND</th>\n",
       "      <th>BILL_NAME</th>\n",
       "      <th>COMMITTEE_NM</th>\n",
       "      <th>COMMITTEE_PRESENT_DT</th>\n",
       "      <th>COMMITTEE_PROC_DT</th>\n",
       "      <th>...</th>\n",
       "      <th>LAW_PRESENT_DT</th>\n",
       "      <th>LAW_PROC_DT</th>\n",
       "      <th>LAW_SUBMIT_DT</th>\n",
       "      <th>LINK_URL</th>\n",
       "      <th>PROC_RESULT_CD</th>\n",
       "      <th>PROPOSER</th>\n",
       "      <th>PROPOSER_KIND_CD</th>\n",
       "      <th>PROPOSE_DT</th>\n",
       "      <th>RGS_PRESENT_DT</th>\n",
       "      <th>RGS_PROC_DT</th>\n",
       "    </tr>\n",
       "  </thead>\n",
       "  <tbody>\n",
       "    <tr>\n",
       "      <th>count</th>\n",
       "      <td>15654</td>\n",
       "      <td>324</td>\n",
       "      <td>345</td>\n",
       "      <td>371</td>\n",
       "      <td>68530</td>\n",
       "      <td>68530</td>\n",
       "      <td>68530</td>\n",
       "      <td>65305</td>\n",
       "      <td>48713</td>\n",
       "      <td>23037</td>\n",
       "      <td>...</td>\n",
       "      <td>13562</td>\n",
       "      <td>13464</td>\n",
       "      <td>12902</td>\n",
       "      <td>68530</td>\n",
       "      <td>68521</td>\n",
       "      <td>68097</td>\n",
       "      <td>9387</td>\n",
       "      <td>68530</td>\n",
       "      <td>21561</td>\n",
       "      <td>68530</td>\n",
       "    </tr>\n",
       "    <tr>\n",
       "      <th>unique</th>\n",
       "      <td>1252</td>\n",
       "      <td>153</td>\n",
       "      <td>173</td>\n",
       "      <td>168</td>\n",
       "      <td>68242</td>\n",
       "      <td>4</td>\n",
       "      <td>56994</td>\n",
       "      <td>258</td>\n",
       "      <td>2686</td>\n",
       "      <td>3074</td>\n",
       "      <td>...</td>\n",
       "      <td>803</td>\n",
       "      <td>821</td>\n",
       "      <td>1340</td>\n",
       "      <td>68242</td>\n",
       "      <td>19</td>\n",
       "      <td>14929</td>\n",
       "      <td>5</td>\n",
       "      <td>9493</td>\n",
       "      <td>1705</td>\n",
       "      <td>3776</td>\n",
       "    </tr>\n",
       "    <tr>\n",
       "      <th>top</th>\n",
       "      <td>2020-06-09</td>\n",
       "      <td>2020-06-30</td>\n",
       "      <td>2020-07-03</td>\n",
       "      <td>2020-06-30</td>\n",
       "      <td>021933</td>\n",
       "      <td>법률안</td>\n",
       "      <td>휴회에관한건(의장)</td>\n",
       "      <td>법제사법위원회</td>\n",
       "      <td>2019-07-12</td>\n",
       "      <td>2011-12-26</td>\n",
       "      <td>...</td>\n",
       "      <td>2015-12-30</td>\n",
       "      <td>2015-12-30</td>\n",
       "      <td>2017-09-21</td>\n",
       "      <td>https://likms.assembly.go.kr/bill/billDetail.d...</td>\n",
       "      <td>임기만료폐기</td>\n",
       "      <td>정부</td>\n",
       "      <td>의원</td>\n",
       "      <td>2008-11-28</td>\n",
       "      <td>2015-12-31</td>\n",
       "      <td>2020-05-29</td>\n",
       "    </tr>\n",
       "    <tr>\n",
       "      <th>freq</th>\n",
       "      <td>131</td>\n",
       "      <td>38</td>\n",
       "      <td>38</td>\n",
       "      <td>38</td>\n",
       "      <td>17</td>\n",
       "      <td>58532</td>\n",
       "      <td>216</td>\n",
       "      <td>5598</td>\n",
       "      <td>478</td>\n",
       "      <td>178</td>\n",
       "      <td>...</td>\n",
       "      <td>213</td>\n",
       "      <td>204</td>\n",
       "      <td>151</td>\n",
       "      <td>17</td>\n",
       "      <td>36841</td>\n",
       "      <td>10152</td>\n",
       "      <td>3887</td>\n",
       "      <td>351</td>\n",
       "      <td>211</td>\n",
       "      <td>15166</td>\n",
       "    </tr>\n",
       "  </tbody>\n",
       "</table>\n",
       "<p>4 rows × 22 columns</p>\n",
       "</div>"
      ],
      "text/plain": [
       "       ANNOUNCE_DT BDG_PRESENT_DT BDG_PROC_DT BDG_SUBMIT_DT BILL_ID BILL_KIND  \\\n",
       "count        15654            324         345           371   68530     68530   \n",
       "unique        1252            153         173           168   68242         4   \n",
       "top     2020-06-09     2020-06-30  2020-07-03    2020-06-30  021933       법률안   \n",
       "freq           131             38          38            38      17     58532   \n",
       "\n",
       "         BILL_NAME COMMITTEE_NM COMMITTEE_PRESENT_DT COMMITTEE_PROC_DT  ...  \\\n",
       "count        68530        65305                48713             23037  ...   \n",
       "unique       56994          258                 2686              3074  ...   \n",
       "top     휴회에관한건(의장)      법제사법위원회           2019-07-12        2011-12-26  ...   \n",
       "freq           216         5598                  478               178  ...   \n",
       "\n",
       "       LAW_PRESENT_DT LAW_PROC_DT LAW_SUBMIT_DT  \\\n",
       "count           13562       13464         12902   \n",
       "unique            803         821          1340   \n",
       "top        2015-12-30  2015-12-30    2017-09-21   \n",
       "freq              213         204           151   \n",
       "\n",
       "                                                 LINK_URL PROC_RESULT_CD  \\\n",
       "count                                               68530          68521   \n",
       "unique                                              68242             19   \n",
       "top     https://likms.assembly.go.kr/bill/billDetail.d...         임기만료폐기   \n",
       "freq                                                   17          36841   \n",
       "\n",
       "       PROPOSER PROPOSER_KIND_CD  PROPOSE_DT RGS_PRESENT_DT RGS_PROC_DT  \n",
       "count     68097             9387       68530          21561       68530  \n",
       "unique    14929                5        9493           1705        3776  \n",
       "top          정부               의원  2008-11-28     2015-12-31  2020-05-29  \n",
       "freq      10152             3887         351            211       15166  \n",
       "\n",
       "[4 rows x 22 columns]"
      ]
     },
     "execution_count": 302,
     "metadata": {},
     "output_type": "execute_result"
    }
   ],
   "source": [
    "process.describe(include='object')"
   ]
  },
  {
   "cell_type": "code",
   "execution_count": 303,
   "metadata": {},
   "outputs": [
    {
     "data": {
      "text/plain": [
       "AGE                         0\n",
       "ANNOUNCE_DT             52876\n",
       "BDG_PRESENT_DT          68206\n",
       "BDG_PROC_DT             68185\n",
       "BDG_SUBMIT_DT           68159\n",
       "BILL_ID                     0\n",
       "BILL_KIND                   0\n",
       "BILL_NAME                   0\n",
       "BILL_NO                     0\n",
       "BLANK_TCNT              65197\n",
       "COMMITTEE_NM             3225\n",
       "COMMITTEE_PRESENT_DT    19817\n",
       "COMMITTEE_PROC_DT       45493\n",
       "COMMITTEE_SUBMIT_DT     13518\n",
       "CURR_TRANS_DT           50118\n",
       "LAW_PRESENT_DT          54968\n",
       "LAW_PROC_DT             55066\n",
       "LAW_SUBMIT_DT           55628\n",
       "LINK_URL                    0\n",
       "NO_TCNT                 67370\n",
       "PROC_RESULT_CD              9\n",
       "PROPOSER                  433\n",
       "PROPOSER_KIND_CD        59143\n",
       "PROPOSE_DT                  0\n",
       "RGS_PRESENT_DT          46969\n",
       "RGS_PROC_DT                 0\n",
       "VOTE_TCNT               64838\n",
       "YES_TCNT                64838\n",
       "dtype: int64"
      ]
     },
     "execution_count": 303,
     "metadata": {},
     "output_type": "execute_result"
    }
   ],
   "source": [
    "process.isnull().sum()"
   ]
  },
  {
   "cell_type": "code",
   "execution_count": 304,
   "metadata": {},
   "outputs": [
    {
     "data": {
      "text/plain": [
       "<matplotlib.axes._subplots.AxesSubplot at 0x61c0849cc0>"
      ]
     },
     "execution_count": 304,
     "metadata": {},
     "output_type": "execute_result"
    },
    {
     "data": {
      "image/png": "[encoded data removed]",
      "text/plain": [
       "<Figure size 432x288 with 1 Axes>"
      ]
     },
     "metadata": {
      "needs_background": "light"
     },
     "output_type": "display_data"
    }
   ],
   "source": [
    "plt.title('대수별 본회의 처리안건수')\n",
    "sns.countplot(process['AGE'])"
   ]
  },
  {
   "cell_type": "markdown",
   "metadata": {},
   "source": [
    "## Q9. 처리안 건수 Top10 제안자는 누구일까?"
   ]
  },
  {
   "cell_type": "code",
   "execution_count": 313,
   "metadata": {},
   "outputs": [],
   "source": [
    "process_copy = process"
   ]
  },
  {
   "cell_type": "code",
   "execution_count": 318,
   "metadata": {},
   "outputs": [
    {
     "data": {
      "text/plain": [
       "68530"
      ]
     },
     "execution_count": 318,
     "metadata": {},
     "output_type": "execute_result"
    }
   ],
   "source": [
    "len(process_copy)"
   ]
  },
  {
   "cell_type": "code",
   "execution_count": 342,
   "metadata": {},
   "outputs": [],
   "source": [
    "process_copy = process_copy[process_copy['PROPOSER'].notnull()]"
   ]
  },
  {
   "cell_type": "code",
   "execution_count": 343,
   "metadata": {},
   "outputs": [
    {
     "data": {
      "text/plain": [
       "68097"
      ]
     },
     "execution_count": 343,
     "metadata": {},
     "output_type": "execute_result"
    }
   ],
   "source": [
    "len(process_copy)"
   ]
  },
  {
   "cell_type": "code",
   "execution_count": 353,
   "metadata": {},
   "outputs": [
    {
     "data": {
      "text/plain": [
       "(array([0, 1, 2, 3, 4, 5, 6, 7, 8, 9]), <a list of 10 Text xticklabel objects>)"
      ]
     },
     "execution_count": 353,
     "metadata": {},
     "output_type": "execute_result"
    },
    {
     "data": {
      "image/png": "[encoded data removed]",
      "text/plain": [
       "<Figure size 432x288 with 1 Axes>"
      ]
     },
     "metadata": {
      "needs_background": "light"
     },
     "output_type": "display_data"
    }
   ],
   "source": [
    "top10_proposer = process_copy['PROPOSER'].value_counts()[:10]\n",
    "plt.title('처리안 건수를 가장 많이 낸 10명의 제안자')\n",
    "sns.barplot(x=top10_proposer.index, y = top10_proposer)\n",
    "plt.xticks(rotation=25)"
   ]
  },
  {
   "cell_type": "markdown",
   "metadata": {},
   "source": [
    "## Q10. 대수별 총득표수 중 찬성, 반대, 기권 비율 추세 비교하면 어떨까?"
   ]
  },
  {
   "cell_type": "code",
   "execution_count": 362,
   "metadata": {},
   "outputs": [],
   "source": [
    "vote_cnt = process[['AGE','VOTE_TCNT','YES_TCNT','NO_TCNT','BLANK_TCNT']]"
   ]
  },
  {
   "cell_type": "code",
   "execution_count": 363,
   "metadata": {},
   "outputs": [],
   "source": [
    "vote_cnt['yes_ratio'] = vote_cnt['YES_TCNT']/vote_cnt['VOTE_TCNT']"
   ]
  },
  {
   "cell_type": "code",
   "execution_count": 365,
   "metadata": {},
   "outputs": [],
   "source": [
    "vote_cnt['no_ratio'] = vote_cnt['NO_TCNT']/vote_cnt['VOTE_TCNT']\n",
    "vote_cnt['blank_ratio'] = vote_cnt['BLANK_TCNT']/vote_cnt['VOTE_TCNT']"
   ]
  },
  {
   "cell_type": "code",
   "execution_count": 372,
   "metadata": {},
   "outputs": [],
   "source": [
    "vote_cnt['yes_ratio'] = vote_cnt['yes_ratio'].apply(lambda x : x if x >=0 else 0)\n",
    "vote_cnt['no_ratio'] = vote_cnt['no_ratio'].apply(lambda x : x if x >=0 else 0)\n",
    "vote_cnt['blank_ratio'] = vote_cnt['blank_ratio'].apply(lambda x : x if x >=0 else 0)"
   ]
  },
  {
   "cell_type": "code",
   "execution_count": 374,
   "metadata": {},
   "outputs": [
    {
     "data": {
      "text/html": [
       "<div>\n",
       "<style scoped>\n",
       "    .dataframe tbody tr th:only-of-type {\n",
       "        vertical-align: middle;\n",
       "    }\n",
       "\n",
       "    .dataframe tbody tr th {\n",
       "        vertical-align: top;\n",
       "    }\n",
       "\n",
       "    .dataframe thead th {\n",
       "        text-align: right;\n",
       "    }\n",
       "</style>\n",
       "<table border=\"1\" class=\"dataframe\">\n",
       "  <thead>\n",
       "    <tr style=\"text-align: right;\">\n",
       "      <th></th>\n",
       "      <th>AGE</th>\n",
       "      <th>VOTE_TCNT</th>\n",
       "      <th>YES_TCNT</th>\n",
       "      <th>NO_TCNT</th>\n",
       "      <th>BLANK_TCNT</th>\n",
       "      <th>yes_ratio</th>\n",
       "      <th>no_ratio</th>\n",
       "      <th>blank_ratio</th>\n",
       "    </tr>\n",
       "  </thead>\n",
       "  <tbody>\n",
       "    <tr>\n",
       "      <th>5</th>\n",
       "      <td>21</td>\n",
       "      <td>NaN</td>\n",
       "      <td>NaN</td>\n",
       "      <td>NaN</td>\n",
       "      <td>NaN</td>\n",
       "      <td>0.000000</td>\n",
       "      <td>0.000000</td>\n",
       "      <td>0.000000</td>\n",
       "    </tr>\n",
       "    <tr>\n",
       "      <th>6</th>\n",
       "      <td>21</td>\n",
       "      <td>260.0</td>\n",
       "      <td>230.0</td>\n",
       "      <td>14.0</td>\n",
       "      <td>16.0</td>\n",
       "      <td>0.884615</td>\n",
       "      <td>0.053846</td>\n",
       "      <td>0.061538</td>\n",
       "    </tr>\n",
       "    <tr>\n",
       "      <th>7</th>\n",
       "      <td>21</td>\n",
       "      <td>269.0</td>\n",
       "      <td>263.0</td>\n",
       "      <td>NaN</td>\n",
       "      <td>6.0</td>\n",
       "      <td>0.977695</td>\n",
       "      <td>0.000000</td>\n",
       "      <td>0.022305</td>\n",
       "    </tr>\n",
       "    <tr>\n",
       "      <th>8</th>\n",
       "      <td>21</td>\n",
       "      <td>266.0</td>\n",
       "      <td>258.0</td>\n",
       "      <td>NaN</td>\n",
       "      <td>8.0</td>\n",
       "      <td>0.969925</td>\n",
       "      <td>0.000000</td>\n",
       "      <td>0.030075</td>\n",
       "    </tr>\n",
       "    <tr>\n",
       "      <th>9</th>\n",
       "      <td>21</td>\n",
       "      <td>265.0</td>\n",
       "      <td>259.0</td>\n",
       "      <td>1.0</td>\n",
       "      <td>5.0</td>\n",
       "      <td>0.977358</td>\n",
       "      <td>0.003774</td>\n",
       "      <td>0.018868</td>\n",
       "    </tr>\n",
       "  </tbody>\n",
       "</table>\n",
       "</div>"
      ],
      "text/plain": [
       "   AGE  VOTE_TCNT  YES_TCNT  NO_TCNT  BLANK_TCNT  yes_ratio  no_ratio  \\\n",
       "5   21        NaN       NaN      NaN         NaN   0.000000  0.000000   \n",
       "6   21      260.0     230.0     14.0        16.0   0.884615  0.053846   \n",
       "7   21      269.0     263.0      NaN         6.0   0.977695  0.000000   \n",
       "8   21      266.0     258.0      NaN         8.0   0.969925  0.000000   \n",
       "9   21      265.0     259.0      1.0         5.0   0.977358  0.003774   \n",
       "\n",
       "   blank_ratio  \n",
       "5     0.000000  \n",
       "6     0.061538  \n",
       "7     0.022305  \n",
       "8     0.030075  \n",
       "9     0.018868  "
      ]
     },
     "execution_count": 374,
     "metadata": {},
     "output_type": "execute_result"
    }
   ],
   "source": [
    "vote_cnt[5:10]"
   ]
  },
  {
   "cell_type": "code",
   "execution_count": 381,
   "metadata": {},
   "outputs": [],
   "source": [
    "mean_yes_ratio = vote_cnt['yes_ratio'].groupby(vote_cnt['AGE']).mean()\n",
    "mean_no_ratio = vote_cnt['no_ratio'].groupby(vote_cnt['AGE']).mean()\n",
    "mean_blank_ratio = vote_cnt['blank_ratio'].groupby(vote_cnt['AGE']).mean()"
   ]
  },
  {
   "cell_type": "code",
   "execution_count": 386,
   "metadata": {},
   "outputs": [
    {
     "data": {
      "text/plain": [
       "array([nan])"
      ]
     },
     "execution_count": 386,
     "metadata": {},
     "output_type": "execute_result"
    }
   ],
   "source": [
    "vote_cnt[vote_cnt['AGE']==5]['YES_TCNT'].unique() # 20,21대수를 제외하고 투표수 데이터 없음\n",
    "# 왜 없지? 데이터를 구할 수 있는가? 크롤링?"
   ]
  },
  {
   "cell_type": "code",
   "execution_count": 393,
   "metadata": {},
   "outputs": [
    {
     "data": {
      "text/html": [
       "<div>\n",
       "<style scoped>\n",
       "    .dataframe tbody tr th:only-of-type {\n",
       "        vertical-align: middle;\n",
       "    }\n",
       "\n",
       "    .dataframe tbody tr th {\n",
       "        vertical-align: top;\n",
       "    }\n",
       "\n",
       "    .dataframe thead th {\n",
       "        text-align: right;\n",
       "    }\n",
       "</style>\n",
       "<table border=\"1\" class=\"dataframe\">\n",
       "  <thead>\n",
       "    <tr style=\"text-align: right;\">\n",
       "      <th></th>\n",
       "      <th>age</th>\n",
       "      <th>mean_yes_ratio</th>\n",
       "      <th>mean_no_ratio</th>\n",
       "      <th>mean_blank_ratio</th>\n",
       "    </tr>\n",
       "  </thead>\n",
       "  <tbody>\n",
       "    <tr>\n",
       "      <th>0</th>\n",
       "      <td>1</td>\n",
       "      <td>0.000000</td>\n",
       "      <td>0.000000</td>\n",
       "      <td>0.000000</td>\n",
       "    </tr>\n",
       "    <tr>\n",
       "      <th>1</th>\n",
       "      <td>2</td>\n",
       "      <td>0.000000</td>\n",
       "      <td>0.000000</td>\n",
       "      <td>0.000000</td>\n",
       "    </tr>\n",
       "    <tr>\n",
       "      <th>2</th>\n",
       "      <td>3</td>\n",
       "      <td>0.000000</td>\n",
       "      <td>0.000000</td>\n",
       "      <td>0.000000</td>\n",
       "    </tr>\n",
       "    <tr>\n",
       "      <th>3</th>\n",
       "      <td>4</td>\n",
       "      <td>0.000000</td>\n",
       "      <td>0.000000</td>\n",
       "      <td>0.000000</td>\n",
       "    </tr>\n",
       "    <tr>\n",
       "      <th>4</th>\n",
       "      <td>5</td>\n",
       "      <td>0.000000</td>\n",
       "      <td>0.000000</td>\n",
       "      <td>0.000000</td>\n",
       "    </tr>\n",
       "    <tr>\n",
       "      <th>5</th>\n",
       "      <td>6</td>\n",
       "      <td>0.000000</td>\n",
       "      <td>0.000000</td>\n",
       "      <td>0.000000</td>\n",
       "    </tr>\n",
       "    <tr>\n",
       "      <th>6</th>\n",
       "      <td>7</td>\n",
       "      <td>0.000000</td>\n",
       "      <td>0.000000</td>\n",
       "      <td>0.000000</td>\n",
       "    </tr>\n",
       "    <tr>\n",
       "      <th>7</th>\n",
       "      <td>8</td>\n",
       "      <td>0.000000</td>\n",
       "      <td>0.000000</td>\n",
       "      <td>0.000000</td>\n",
       "    </tr>\n",
       "    <tr>\n",
       "      <th>8</th>\n",
       "      <td>9</td>\n",
       "      <td>0.000000</td>\n",
       "      <td>0.000000</td>\n",
       "      <td>0.000000</td>\n",
       "    </tr>\n",
       "    <tr>\n",
       "      <th>9</th>\n",
       "      <td>10</td>\n",
       "      <td>0.000000</td>\n",
       "      <td>0.000000</td>\n",
       "      <td>0.000000</td>\n",
       "    </tr>\n",
       "    <tr>\n",
       "      <th>10</th>\n",
       "      <td>11</td>\n",
       "      <td>0.000000</td>\n",
       "      <td>0.000000</td>\n",
       "      <td>0.000000</td>\n",
       "    </tr>\n",
       "    <tr>\n",
       "      <th>11</th>\n",
       "      <td>12</td>\n",
       "      <td>0.000000</td>\n",
       "      <td>0.000000</td>\n",
       "      <td>0.000000</td>\n",
       "    </tr>\n",
       "    <tr>\n",
       "      <th>12</th>\n",
       "      <td>13</td>\n",
       "      <td>0.000000</td>\n",
       "      <td>0.000000</td>\n",
       "      <td>0.000000</td>\n",
       "    </tr>\n",
       "    <tr>\n",
       "      <th>13</th>\n",
       "      <td>14</td>\n",
       "      <td>0.000000</td>\n",
       "      <td>0.000000</td>\n",
       "      <td>0.000000</td>\n",
       "    </tr>\n",
       "    <tr>\n",
       "      <th>14</th>\n",
       "      <td>15</td>\n",
       "      <td>0.000000</td>\n",
       "      <td>0.000000</td>\n",
       "      <td>0.000000</td>\n",
       "    </tr>\n",
       "    <tr>\n",
       "      <th>15</th>\n",
       "      <td>16</td>\n",
       "      <td>0.000000</td>\n",
       "      <td>0.000000</td>\n",
       "      <td>0.000000</td>\n",
       "    </tr>\n",
       "    <tr>\n",
       "      <th>16</th>\n",
       "      <td>17</td>\n",
       "      <td>0.000000</td>\n",
       "      <td>0.000000</td>\n",
       "      <td>0.000000</td>\n",
       "    </tr>\n",
       "    <tr>\n",
       "      <th>17</th>\n",
       "      <td>18</td>\n",
       "      <td>0.000000</td>\n",
       "      <td>0.000000</td>\n",
       "      <td>0.000000</td>\n",
       "    </tr>\n",
       "    <tr>\n",
       "      <th>18</th>\n",
       "      <td>19</td>\n",
       "      <td>0.000000</td>\n",
       "      <td>0.000000</td>\n",
       "      <td>0.000000</td>\n",
       "    </tr>\n",
       "    <tr>\n",
       "      <th>19</th>\n",
       "      <td>20</td>\n",
       "      <td>0.175875</td>\n",
       "      <td>0.001942</td>\n",
       "      <td>0.004914</td>\n",
       "    </tr>\n",
       "    <tr>\n",
       "      <th>20</th>\n",
       "      <td>21</td>\n",
       "      <td>0.617761</td>\n",
       "      <td>0.005027</td>\n",
       "      <td>0.021356</td>\n",
       "    </tr>\n",
       "  </tbody>\n",
       "</table>\n",
       "</div>"
      ],
      "text/plain": [
       "    age  mean_yes_ratio  mean_no_ratio  mean_blank_ratio\n",
       "0     1        0.000000       0.000000          0.000000\n",
       "1     2        0.000000       0.000000          0.000000\n",
       "2     3        0.000000       0.000000          0.000000\n",
       "3     4        0.000000       0.000000          0.000000\n",
       "4     5        0.000000       0.000000          0.000000\n",
       "5     6        0.000000       0.000000          0.000000\n",
       "6     7        0.000000       0.000000          0.000000\n",
       "7     8        0.000000       0.000000          0.000000\n",
       "8     9        0.000000       0.000000          0.000000\n",
       "9    10        0.000000       0.000000          0.000000\n",
       "10   11        0.000000       0.000000          0.000000\n",
       "11   12        0.000000       0.000000          0.000000\n",
       "12   13        0.000000       0.000000          0.000000\n",
       "13   14        0.000000       0.000000          0.000000\n",
       "14   15        0.000000       0.000000          0.000000\n",
       "15   16        0.000000       0.000000          0.000000\n",
       "16   17        0.000000       0.000000          0.000000\n",
       "17   18        0.000000       0.000000          0.000000\n",
       "18   19        0.000000       0.000000          0.000000\n",
       "19   20        0.175875       0.001942          0.004914\n",
       "20   21        0.617761       0.005027          0.021356"
      ]
     },
     "execution_count": 393,
     "metadata": {},
     "output_type": "execute_result"
    }
   ],
   "source": [
    "mean_ratio = pd.DataFrame({'age': mean_yes_ratio.index,\n",
    "                          'mean_yes_ratio': mean_yes_ratio,\n",
    "                          'mean_no_ratio': mean_no_ratio,\n",
    "                          'mean_blank_ratio': mean_blank_ratio})\n",
    "mean_ratio.reset_index(inplace=True)\n",
    "mean_ratio.drop('AGE',axis=1,inplace=True)\n",
    "mean_ratio"
   ]
  },
  {
   "cell_type": "code",
   "execution_count": 414,
   "metadata": {},
   "outputs": [],
   "source": [
    "# mean_ratio = mean_ratio[-2:]\n",
    "mean_ratio_20 = mean_ratio.iloc[[0],1:4]\n",
    "mean_ratio_21 = mean_ratio.iloc[[1],1:4]"
   ]
  },
  {
   "cell_type": "code",
   "execution_count": 417,
   "metadata": {},
   "outputs": [
    {
     "data": {
      "text/html": [
       "<div>\n",
       "<style scoped>\n",
       "    .dataframe tbody tr th:only-of-type {\n",
       "        vertical-align: middle;\n",
       "    }\n",
       "\n",
       "    .dataframe tbody tr th {\n",
       "        vertical-align: top;\n",
       "    }\n",
       "\n",
       "    .dataframe thead th {\n",
       "        text-align: right;\n",
       "    }\n",
       "</style>\n",
       "<table border=\"1\" class=\"dataframe\">\n",
       "  <thead>\n",
       "    <tr style=\"text-align: right;\">\n",
       "      <th></th>\n",
       "      <th>mean_yes_ratio</th>\n",
       "      <th>mean_no_ratio</th>\n",
       "      <th>mean_blank_ratio</th>\n",
       "    </tr>\n",
       "  </thead>\n",
       "  <tbody>\n",
       "    <tr>\n",
       "      <th>19</th>\n",
       "      <td>0.18</td>\n",
       "      <td>0.0</td>\n",
       "      <td>0.0</td>\n",
       "    </tr>\n",
       "  </tbody>\n",
       "</table>\n",
       "</div>"
      ],
      "text/plain": [
       "    mean_yes_ratio  mean_no_ratio  mean_blank_ratio\n",
       "19            0.18            0.0               0.0"
      ]
     },
     "execution_count": 417,
     "metadata": {},
     "output_type": "execute_result"
    }
   ],
   "source": [
    "mean_ratio_20.round(2)"
   ]
  },
  {
   "cell_type": "code",
   "execution_count": 418,
   "metadata": {},
   "outputs": [
    {
     "data": {
      "text/html": [
       "<div>\n",
       "<style scoped>\n",
       "    .dataframe tbody tr th:only-of-type {\n",
       "        vertical-align: middle;\n",
       "    }\n",
       "\n",
       "    .dataframe tbody tr th {\n",
       "        vertical-align: top;\n",
       "    }\n",
       "\n",
       "    .dataframe thead th {\n",
       "        text-align: right;\n",
       "    }\n",
       "</style>\n",
       "<table border=\"1\" class=\"dataframe\">\n",
       "  <thead>\n",
       "    <tr style=\"text-align: right;\">\n",
       "      <th></th>\n",
       "      <th>mean_yes_ratio</th>\n",
       "      <th>mean_no_ratio</th>\n",
       "      <th>mean_blank_ratio</th>\n",
       "    </tr>\n",
       "  </thead>\n",
       "  <tbody>\n",
       "    <tr>\n",
       "      <th>20</th>\n",
       "      <td>0.62</td>\n",
       "      <td>0.01</td>\n",
       "      <td>0.02</td>\n",
       "    </tr>\n",
       "  </tbody>\n",
       "</table>\n",
       "</div>"
      ],
      "text/plain": [
       "    mean_yes_ratio  mean_no_ratio  mean_blank_ratio\n",
       "20            0.62           0.01              0.02"
      ]
     },
     "execution_count": 418,
     "metadata": {},
     "output_type": "execute_result"
    }
   ],
   "source": [
    "mean_ratio_21.round(2)"
   ]
  },
  {
   "cell_type": "code",
   "execution_count": 419,
   "metadata": {},
   "outputs": [
    {
     "data": {
      "text/html": [
       "<div>\n",
       "<style scoped>\n",
       "    .dataframe tbody tr th:only-of-type {\n",
       "        vertical-align: middle;\n",
       "    }\n",
       "\n",
       "    .dataframe tbody tr th {\n",
       "        vertical-align: top;\n",
       "    }\n",
       "\n",
       "    .dataframe thead th {\n",
       "        text-align: right;\n",
       "    }\n",
       "</style>\n",
       "<table border=\"1\" class=\"dataframe\">\n",
       "  <thead>\n",
       "    <tr style=\"text-align: right;\">\n",
       "      <th></th>\n",
       "      <th>age</th>\n",
       "      <th>kind</th>\n",
       "      <th>mean_ratio</th>\n",
       "    </tr>\n",
       "  </thead>\n",
       "  <tbody>\n",
       "    <tr>\n",
       "      <th>0</th>\n",
       "      <td>20</td>\n",
       "      <td>yes</td>\n",
       "      <td>0.18</td>\n",
       "    </tr>\n",
       "    <tr>\n",
       "      <th>1</th>\n",
       "      <td>20</td>\n",
       "      <td>no</td>\n",
       "      <td>0.00</td>\n",
       "    </tr>\n",
       "    <tr>\n",
       "      <th>2</th>\n",
       "      <td>20</td>\n",
       "      <td>blank</td>\n",
       "      <td>0.00</td>\n",
       "    </tr>\n",
       "    <tr>\n",
       "      <th>3</th>\n",
       "      <td>21</td>\n",
       "      <td>yes</td>\n",
       "      <td>0.62</td>\n",
       "    </tr>\n",
       "    <tr>\n",
       "      <th>4</th>\n",
       "      <td>21</td>\n",
       "      <td>no</td>\n",
       "      <td>0.01</td>\n",
       "    </tr>\n",
       "    <tr>\n",
       "      <th>5</th>\n",
       "      <td>21</td>\n",
       "      <td>blank</td>\n",
       "      <td>0.02</td>\n",
       "    </tr>\n",
       "  </tbody>\n",
       "</table>\n",
       "</div>"
      ],
      "text/plain": [
       "   age   kind  mean_ratio\n",
       "0   20    yes        0.18\n",
       "1   20     no        0.00\n",
       "2   20  blank        0.00\n",
       "3   21    yes        0.62\n",
       "4   21     no        0.01\n",
       "5   21  blank        0.02"
      ]
     },
     "execution_count": 419,
     "metadata": {},
     "output_type": "execute_result"
    }
   ],
   "source": [
    "df_cnt_ratio = pd.DataFrame({'age':[20,20,20,21,21,21],\n",
    "                            'kind':['yes','no','blank','yes','no','blank'],\n",
    "                            'mean_ratio': [0.18,0,0,0.62,0.01,0.02]})\n",
    "df_cnt_ratio"
   ]
  },
  {
   "cell_type": "code",
   "execution_count": 423,
   "metadata": {},
   "outputs": [
    {
     "data": {
      "text/plain": [
       "<seaborn.axisgrid.FacetGrid at 0x61ca4aaf28>"
      ]
     },
     "execution_count": 423,
     "metadata": {},
     "output_type": "execute_result"
    },
    {
     "data": {
      "text/plain": [
       "<Figure size 432x288 with 0 Axes>"
      ]
     },
     "metadata": {},
     "output_type": "display_data"
    },
    {
     "data": {
      "image/png": "[encoded data removed]",
      "text/plain": [
       "<Figure size 384.75x432 with 1 Axes>"
      ]
     },
     "metadata": {
      "needs_background": "light"
     },
     "output_type": "display_data"
    }
   ],
   "source": [
    "plt.figure(figsize=(6,4))\n",
    "sns.catplot(x=\"age\", y=\"mean_ratio\", hue=\"kind\",\n",
    "                capsize=.2, palette=\"YlGnBu_d\", height=6, aspect=.75,\n",
    "                kind=\"bar\", data=df_cnt_ratio)"
   ]
  },
  {
   "cell_type": "markdown",
   "metadata": {},
   "source": [
    "## Q11. 대수별 제안하고 공포하기까지 걸리는 기간은 어떨까?"
   ]
  },
  {
   "cell_type": "code",
   "execution_count": 10,
   "metadata": {},
   "outputs": [
    {
     "name": "stdout",
     "output_type": "stream",
     "text": [
      "공표일 결측치 : 52876 개\n",
      "제안일 결측치 : 0 개\n"
     ]
    }
   ],
   "source": [
    "print('공표일 결측치 :',process['ANNOUNCE_DT'].isnull().sum(),'개')\n",
    "print('제안일 결측치 :',process['PROPOSE_DT'].isnull().sum(),'개')"
   ]
  },
  {
   "cell_type": "code",
   "execution_count": 37,
   "metadata": {},
   "outputs": [],
   "source": [
    "process_copy = process[['PROPOSE_DT','ANNOUNCE_DT','AGE']]"
   ]
  },
  {
   "cell_type": "code",
   "execution_count": 38,
   "metadata": {},
   "outputs": [
    {
     "data": {
      "text/html": [
       "<div>\n",
       "<style scoped>\n",
       "    .dataframe tbody tr th:only-of-type {\n",
       "        vertical-align: middle;\n",
       "    }\n",
       "\n",
       "    .dataframe tbody tr th {\n",
       "        vertical-align: top;\n",
       "    }\n",
       "\n",
       "    .dataframe thead th {\n",
       "        text-align: right;\n",
       "    }\n",
       "</style>\n",
       "<table border=\"1\" class=\"dataframe\">\n",
       "  <thead>\n",
       "    <tr style=\"text-align: right;\">\n",
       "      <th></th>\n",
       "      <th>PROPOSE_DT</th>\n",
       "      <th>ANNOUNCE_DT</th>\n",
       "      <th>AGE</th>\n",
       "    </tr>\n",
       "  </thead>\n",
       "  <tbody>\n",
       "    <tr>\n",
       "      <th>0</th>\n",
       "      <td>2020-08-03</td>\n",
       "      <td>2020-08-18</td>\n",
       "      <td>21</td>\n",
       "    </tr>\n",
       "    <tr>\n",
       "      <th>1</th>\n",
       "      <td>2020-08-03</td>\n",
       "      <td>2020-08-18</td>\n",
       "      <td>21</td>\n",
       "    </tr>\n",
       "    <tr>\n",
       "      <th>2</th>\n",
       "      <td>2020-08-03</td>\n",
       "      <td>2020-08-18</td>\n",
       "      <td>21</td>\n",
       "    </tr>\n",
       "    <tr>\n",
       "      <th>3</th>\n",
       "      <td>2020-08-03</td>\n",
       "      <td>2020-08-12</td>\n",
       "      <td>21</td>\n",
       "    </tr>\n",
       "    <tr>\n",
       "      <th>4</th>\n",
       "      <td>2020-07-29</td>\n",
       "      <td>2020-07-31</td>\n",
       "      <td>21</td>\n",
       "    </tr>\n",
       "  </tbody>\n",
       "</table>\n",
       "</div>"
      ],
      "text/plain": [
       "   PROPOSE_DT ANNOUNCE_DT  AGE\n",
       "0  2020-08-03  2020-08-18   21\n",
       "1  2020-08-03  2020-08-18   21\n",
       "2  2020-08-03  2020-08-18   21\n",
       "3  2020-08-03  2020-08-12   21\n",
       "4  2020-07-29  2020-07-31   21"
      ]
     },
     "execution_count": 38,
     "metadata": {},
     "output_type": "execute_result"
    }
   ],
   "source": [
    "process_notnull = process_copy[process_copy['ANNOUNCE_DT'].notnull()]\n",
    "process_notnull.reset_index(inplace=True)\n",
    "process_notnull.drop('index',axis=1,inplace=True)\n",
    "process_notnull.head()"
   ]
  },
  {
   "cell_type": "code",
   "execution_count": 39,
   "metadata": {},
   "outputs": [
    {
     "data": {
      "text/plain": [
       "PROPOSE_DT     object\n",
       "ANNOUNCE_DT    object\n",
       "AGE             int64\n",
       "dtype: object"
      ]
     },
     "execution_count": 39,
     "metadata": {},
     "output_type": "execute_result"
    }
   ],
   "source": [
    "process_notnull.dtypes"
   ]
  },
  {
   "cell_type": "code",
   "execution_count": 52,
   "metadata": {},
   "outputs": [],
   "source": [
    "process_notnull['PROPOSE_DT'] = pd.to_datetime(process_notnull['PROPOSE_DT'])\n",
    "process_notnull['ANNOUNCE_DT'] = pd.to_datetime(process_notnull['ANNOUNCE_DT'],errors = 'coerce') # Out of Boundary Error"
   ]
  },
  {
   "cell_type": "code",
   "execution_count": 53,
   "metadata": {},
   "outputs": [],
   "source": [
    "process_notnull['diff_dt'] = 0"
   ]
  },
  {
   "cell_type": "code",
   "execution_count": 154,
   "metadata": {},
   "outputs": [
    {
     "data": {
      "text/html": [
       "<div>\n",
       "<style scoped>\n",
       "    .dataframe tbody tr th:only-of-type {\n",
       "        vertical-align: middle;\n",
       "    }\n",
       "\n",
       "    .dataframe tbody tr th {\n",
       "        vertical-align: top;\n",
       "    }\n",
       "\n",
       "    .dataframe thead th {\n",
       "        text-align: right;\n",
       "    }\n",
       "</style>\n",
       "<table border=\"1\" class=\"dataframe\">\n",
       "  <thead>\n",
       "    <tr style=\"text-align: right;\">\n",
       "      <th></th>\n",
       "      <th>PROPOSE_DT</th>\n",
       "      <th>ANNOUNCE_DT</th>\n",
       "      <th>AGE</th>\n",
       "      <th>diff_dt</th>\n",
       "    </tr>\n",
       "  </thead>\n",
       "  <tbody>\n",
       "    <tr>\n",
       "      <th>0</th>\n",
       "      <td>2020-08-03</td>\n",
       "      <td>2020-08-18</td>\n",
       "      <td>21</td>\n",
       "      <td>15 days</td>\n",
       "    </tr>\n",
       "    <tr>\n",
       "      <th>1</th>\n",
       "      <td>2020-08-03</td>\n",
       "      <td>2020-08-18</td>\n",
       "      <td>21</td>\n",
       "      <td>15 days</td>\n",
       "    </tr>\n",
       "    <tr>\n",
       "      <th>2</th>\n",
       "      <td>2020-08-03</td>\n",
       "      <td>2020-08-18</td>\n",
       "      <td>21</td>\n",
       "      <td>15 days</td>\n",
       "    </tr>\n",
       "    <tr>\n",
       "      <th>3</th>\n",
       "      <td>2020-08-03</td>\n",
       "      <td>2020-08-12</td>\n",
       "      <td>21</td>\n",
       "      <td>9 days</td>\n",
       "    </tr>\n",
       "    <tr>\n",
       "      <th>4</th>\n",
       "      <td>2020-07-29</td>\n",
       "      <td>2020-07-31</td>\n",
       "      <td>21</td>\n",
       "      <td>2 days</td>\n",
       "    </tr>\n",
       "  </tbody>\n",
       "</table>\n",
       "</div>"
      ],
      "text/plain": [
       "  PROPOSE_DT ANNOUNCE_DT  AGE diff_dt\n",
       "0 2020-08-03  2020-08-18   21 15 days\n",
       "1 2020-08-03  2020-08-18   21 15 days\n",
       "2 2020-08-03  2020-08-18   21 15 days\n",
       "3 2020-08-03  2020-08-12   21  9 days\n",
       "4 2020-07-29  2020-07-31   21  2 days"
      ]
     },
     "execution_count": 154,
     "metadata": {},
     "output_type": "execute_result"
    }
   ],
   "source": [
    "process_notnull['diff_dt'] = process_notnull['ANNOUNCE_DT'] - process_notnull['PROPOSE_DT']\n",
    "process_notnull.head()"
   ]
  },
  {
   "cell_type": "code",
   "execution_count": 56,
   "metadata": {},
   "outputs": [
    {
     "data": {
      "text/plain": [
       "20    3203\n",
       "19    2788\n",
       "18    2349\n",
       "17    1912\n",
       "16     941\n",
       "Name: AGE, dtype: int64"
      ]
     },
     "execution_count": 56,
     "metadata": {},
     "output_type": "execute_result"
    }
   ],
   "source": [
    "process_notnull['AGE'].value_counts()[:5]"
   ]
  },
  {
   "cell_type": "code",
   "execution_count": 155,
   "metadata": {},
   "outputs": [
    {
     "data": {
      "text/html": [
       "<div>\n",
       "<style scoped>\n",
       "    .dataframe tbody tr th:only-of-type {\n",
       "        vertical-align: middle;\n",
       "    }\n",
       "\n",
       "    .dataframe tbody tr th {\n",
       "        vertical-align: top;\n",
       "    }\n",
       "\n",
       "    .dataframe thead th {\n",
       "        text-align: right;\n",
       "    }\n",
       "</style>\n",
       "<table border=\"1\" class=\"dataframe\">\n",
       "  <thead>\n",
       "    <tr style=\"text-align: right;\">\n",
       "      <th></th>\n",
       "      <th>PROPOSE_DT</th>\n",
       "      <th>ANNOUNCE_DT</th>\n",
       "      <th>AGE</th>\n",
       "      <th>diff_dt</th>\n",
       "    </tr>\n",
       "  </thead>\n",
       "  <tbody>\n",
       "    <tr>\n",
       "      <th>11185</th>\n",
       "      <td>2000-07-29</td>\n",
       "      <td>2000-01-08</td>\n",
       "      <td>16</td>\n",
       "      <td>-203 days</td>\n",
       "    </tr>\n",
       "    <tr>\n",
       "      <th>14557</th>\n",
       "      <td>1968-12-19</td>\n",
       "      <td>1968-01-28</td>\n",
       "      <td>7</td>\n",
       "      <td>-326 days</td>\n",
       "    </tr>\n",
       "    <tr>\n",
       "      <th>14584</th>\n",
       "      <td>1968-11-15</td>\n",
       "      <td>1963-12-21</td>\n",
       "      <td>7</td>\n",
       "      <td>-1791 days</td>\n",
       "    </tr>\n",
       "    <tr>\n",
       "      <th>14669</th>\n",
       "      <td>1967-12-22</td>\n",
       "      <td>1963-03-18</td>\n",
       "      <td>7</td>\n",
       "      <td>-1740 days</td>\n",
       "    </tr>\n",
       "    <tr>\n",
       "      <th>14730</th>\n",
       "      <td>1967-03-02</td>\n",
       "      <td>1963-03-30</td>\n",
       "      <td>6</td>\n",
       "      <td>-1433 days</td>\n",
       "    </tr>\n",
       "  </tbody>\n",
       "</table>\n",
       "</div>"
      ],
      "text/plain": [
       "      PROPOSE_DT ANNOUNCE_DT  AGE    diff_dt\n",
       "11185 2000-07-29  2000-01-08   16  -203 days\n",
       "14557 1968-12-19  1968-01-28    7  -326 days\n",
       "14584 1968-11-15  1963-12-21    7 -1791 days\n",
       "14669 1967-12-22  1963-03-18    7 -1740 days\n",
       "14730 1967-03-02  1963-03-30    6 -1433 days"
      ]
     },
     "execution_count": 155,
     "metadata": {},
     "output_type": "execute_result"
    }
   ],
   "source": [
    "process_notnull[process_notnull['PROPOSE_DT'] > process_notnull['ANNOUNCE_DT']] # 공포보다 제안을 뒤에 한 경우"
   ]
  },
  {
   "cell_type": "code",
   "execution_count": 156,
   "metadata": {},
   "outputs": [],
   "source": [
    "process_notnull = process_notnull[process_notnull['PROPOSE_DT'] <= process_notnull['ANNOUNCE_DT']] # 제안일이 공포일보다 전에 일어난 경우만"
   ]
  },
  {
   "cell_type": "code",
   "execution_count": 157,
   "metadata": {},
   "outputs": [
    {
     "data": {
      "text/plain": [
       "0    15 days 00:00:00.000000000\n",
       "1    15 days 00:00:00.000000000\n",
       "2    15 days 00:00:00.000000000\n",
       "3     9 days 00:00:00.000000000\n",
       "4     2 days 00:00:00.000000000\n",
       "Name: diff_dt, dtype: object"
      ]
     },
     "execution_count": 157,
     "metadata": {},
     "output_type": "execute_result"
    }
   ],
   "source": [
    "process_notnull['diff_dt'] = process_notnull['diff_dt'].astype('str')\n",
    "process_notnull['diff_dt'][:5]"
   ]
  },
  {
   "cell_type": "code",
   "execution_count": 158,
   "metadata": {},
   "outputs": [
    {
     "data": {
      "text/html": [
       "<div>\n",
       "<style scoped>\n",
       "    .dataframe tbody tr th:only-of-type {\n",
       "        vertical-align: middle;\n",
       "    }\n",
       "\n",
       "    .dataframe tbody tr th {\n",
       "        vertical-align: top;\n",
       "    }\n",
       "\n",
       "    .dataframe thead th {\n",
       "        text-align: right;\n",
       "    }\n",
       "</style>\n",
       "<table border=\"1\" class=\"dataframe\">\n",
       "  <thead>\n",
       "    <tr style=\"text-align: right;\">\n",
       "      <th></th>\n",
       "      <th>PROPOSE_DT</th>\n",
       "      <th>ANNOUNCE_DT</th>\n",
       "      <th>AGE</th>\n",
       "      <th>diff_dt</th>\n",
       "    </tr>\n",
       "  </thead>\n",
       "  <tbody>\n",
       "    <tr>\n",
       "      <th>0</th>\n",
       "      <td>2020-08-03</td>\n",
       "      <td>2020-08-18</td>\n",
       "      <td>21</td>\n",
       "      <td>15</td>\n",
       "    </tr>\n",
       "    <tr>\n",
       "      <th>1</th>\n",
       "      <td>2020-08-03</td>\n",
       "      <td>2020-08-18</td>\n",
       "      <td>21</td>\n",
       "      <td>15</td>\n",
       "    </tr>\n",
       "    <tr>\n",
       "      <th>2</th>\n",
       "      <td>2020-08-03</td>\n",
       "      <td>2020-08-18</td>\n",
       "      <td>21</td>\n",
       "      <td>15</td>\n",
       "    </tr>\n",
       "    <tr>\n",
       "      <th>3</th>\n",
       "      <td>2020-08-03</td>\n",
       "      <td>2020-08-12</td>\n",
       "      <td>21</td>\n",
       "      <td>9</td>\n",
       "    </tr>\n",
       "    <tr>\n",
       "      <th>4</th>\n",
       "      <td>2020-07-29</td>\n",
       "      <td>2020-07-31</td>\n",
       "      <td>21</td>\n",
       "      <td>2</td>\n",
       "    </tr>\n",
       "    <tr>\n",
       "      <th>5</th>\n",
       "      <td>2020-07-14</td>\n",
       "      <td>2020-08-12</td>\n",
       "      <td>21</td>\n",
       "      <td>29</td>\n",
       "    </tr>\n",
       "    <tr>\n",
       "      <th>6</th>\n",
       "      <td>2020-07-13</td>\n",
       "      <td>2020-08-18</td>\n",
       "      <td>21</td>\n",
       "      <td>36</td>\n",
       "    </tr>\n",
       "    <tr>\n",
       "      <th>7</th>\n",
       "      <td>2020-07-10</td>\n",
       "      <td>2020-08-18</td>\n",
       "      <td>21</td>\n",
       "      <td>39</td>\n",
       "    </tr>\n",
       "    <tr>\n",
       "      <th>8</th>\n",
       "      <td>2020-07-10</td>\n",
       "      <td>2020-08-12</td>\n",
       "      <td>21</td>\n",
       "      <td>33</td>\n",
       "    </tr>\n",
       "    <tr>\n",
       "      <th>9</th>\n",
       "      <td>2020-07-10</td>\n",
       "      <td>2020-08-18</td>\n",
       "      <td>21</td>\n",
       "      <td>39</td>\n",
       "    </tr>\n",
       "    <tr>\n",
       "      <th>10</th>\n",
       "      <td>2020-07-10</td>\n",
       "      <td>2020-08-18</td>\n",
       "      <td>21</td>\n",
       "      <td>39</td>\n",
       "    </tr>\n",
       "    <tr>\n",
       "      <th>11</th>\n",
       "      <td>2020-07-10</td>\n",
       "      <td>2020-08-18</td>\n",
       "      <td>21</td>\n",
       "      <td>39</td>\n",
       "    </tr>\n",
       "    <tr>\n",
       "      <th>12</th>\n",
       "      <td>2020-07-06</td>\n",
       "      <td>2020-08-18</td>\n",
       "      <td>21</td>\n",
       "      <td>43</td>\n",
       "    </tr>\n",
       "    <tr>\n",
       "      <th>13</th>\n",
       "      <td>2020-06-30</td>\n",
       "      <td>2020-08-18</td>\n",
       "      <td>21</td>\n",
       "      <td>49</td>\n",
       "    </tr>\n",
       "    <tr>\n",
       "      <th>14</th>\n",
       "      <td>2020-06-26</td>\n",
       "      <td>2020-07-31</td>\n",
       "      <td>21</td>\n",
       "      <td>35</td>\n",
       "    </tr>\n",
       "    <tr>\n",
       "      <th>15</th>\n",
       "      <td>2020-06-17</td>\n",
       "      <td>2020-08-11</td>\n",
       "      <td>21</td>\n",
       "      <td>55</td>\n",
       "    </tr>\n",
       "    <tr>\n",
       "      <th>16</th>\n",
       "      <td>2020-06-11</td>\n",
       "      <td>2020-08-18</td>\n",
       "      <td>21</td>\n",
       "      <td>68</td>\n",
       "    </tr>\n",
       "    <tr>\n",
       "      <th>17</th>\n",
       "      <td>2020-06-01</td>\n",
       "      <td>2020-08-18</td>\n",
       "      <td>21</td>\n",
       "      <td>78</td>\n",
       "    </tr>\n",
       "    <tr>\n",
       "      <th>18</th>\n",
       "      <td>2020-06-01</td>\n",
       "      <td>2020-08-18</td>\n",
       "      <td>21</td>\n",
       "      <td>78</td>\n",
       "    </tr>\n",
       "    <tr>\n",
       "      <th>19</th>\n",
       "      <td>2020-05-20</td>\n",
       "      <td>2020-06-09</td>\n",
       "      <td>20</td>\n",
       "      <td>20</td>\n",
       "    </tr>\n",
       "    <tr>\n",
       "      <th>20</th>\n",
       "      <td>2020-05-20</td>\n",
       "      <td>2020-06-09</td>\n",
       "      <td>20</td>\n",
       "      <td>20</td>\n",
       "    </tr>\n",
       "    <tr>\n",
       "      <th>21</th>\n",
       "      <td>2020-05-20</td>\n",
       "      <td>2020-06-09</td>\n",
       "      <td>20</td>\n",
       "      <td>20</td>\n",
       "    </tr>\n",
       "    <tr>\n",
       "      <th>22</th>\n",
       "      <td>2020-05-20</td>\n",
       "      <td>2020-06-09</td>\n",
       "      <td>20</td>\n",
       "      <td>20</td>\n",
       "    </tr>\n",
       "    <tr>\n",
       "      <th>23</th>\n",
       "      <td>2020-05-20</td>\n",
       "      <td>2020-06-09</td>\n",
       "      <td>20</td>\n",
       "      <td>20</td>\n",
       "    </tr>\n",
       "    <tr>\n",
       "      <th>24</th>\n",
       "      <td>2020-05-20</td>\n",
       "      <td>2020-06-09</td>\n",
       "      <td>20</td>\n",
       "      <td>20</td>\n",
       "    </tr>\n",
       "    <tr>\n",
       "      <th>25</th>\n",
       "      <td>2020-05-20</td>\n",
       "      <td>2020-06-09</td>\n",
       "      <td>20</td>\n",
       "      <td>20</td>\n",
       "    </tr>\n",
       "    <tr>\n",
       "      <th>26</th>\n",
       "      <td>2020-05-20</td>\n",
       "      <td>2020-06-09</td>\n",
       "      <td>20</td>\n",
       "      <td>20</td>\n",
       "    </tr>\n",
       "    <tr>\n",
       "      <th>27</th>\n",
       "      <td>2020-05-20</td>\n",
       "      <td>2020-06-09</td>\n",
       "      <td>20</td>\n",
       "      <td>20</td>\n",
       "    </tr>\n",
       "    <tr>\n",
       "      <th>28</th>\n",
       "      <td>2020-05-20</td>\n",
       "      <td>2020-06-09</td>\n",
       "      <td>20</td>\n",
       "      <td>20</td>\n",
       "    </tr>\n",
       "    <tr>\n",
       "      <th>29</th>\n",
       "      <td>2020-05-20</td>\n",
       "      <td>2020-06-09</td>\n",
       "      <td>20</td>\n",
       "      <td>20</td>\n",
       "    </tr>\n",
       "    <tr>\n",
       "      <th>...</th>\n",
       "      <td>...</td>\n",
       "      <td>...</td>\n",
       "      <td>...</td>\n",
       "      <td>...</td>\n",
       "    </tr>\n",
       "    <tr>\n",
       "      <th>15624</th>\n",
       "      <td>1949-03-03</td>\n",
       "      <td>1949-06-21</td>\n",
       "      <td>1</td>\n",
       "      <td>110</td>\n",
       "    </tr>\n",
       "    <tr>\n",
       "      <th>15625</th>\n",
       "      <td>1949-03-03</td>\n",
       "      <td>1949-03-25</td>\n",
       "      <td>1</td>\n",
       "      <td>22</td>\n",
       "    </tr>\n",
       "    <tr>\n",
       "      <th>15626</th>\n",
       "      <td>1949-03-03</td>\n",
       "      <td>1950-03-02</td>\n",
       "      <td>1</td>\n",
       "      <td>364</td>\n",
       "    </tr>\n",
       "    <tr>\n",
       "      <th>15627</th>\n",
       "      <td>1949-02-23</td>\n",
       "      <td>1949-07-20</td>\n",
       "      <td>1</td>\n",
       "      <td>147</td>\n",
       "    </tr>\n",
       "    <tr>\n",
       "      <th>15628</th>\n",
       "      <td>1949-02-18</td>\n",
       "      <td>1949-05-01</td>\n",
       "      <td>1</td>\n",
       "      <td>72</td>\n",
       "    </tr>\n",
       "    <tr>\n",
       "      <th>15629</th>\n",
       "      <td>1949-02-16</td>\n",
       "      <td>1950-04-08</td>\n",
       "      <td>1</td>\n",
       "      <td>416</td>\n",
       "    </tr>\n",
       "    <tr>\n",
       "      <th>15630</th>\n",
       "      <td>1948-12-21</td>\n",
       "      <td>1949-02-15</td>\n",
       "      <td>1</td>\n",
       "      <td>56</td>\n",
       "    </tr>\n",
       "    <tr>\n",
       "      <th>15631</th>\n",
       "      <td>1948-12-21</td>\n",
       "      <td>1949-01-27</td>\n",
       "      <td>1</td>\n",
       "      <td>37</td>\n",
       "    </tr>\n",
       "    <tr>\n",
       "      <th>15632</th>\n",
       "      <td>1948-12-21</td>\n",
       "      <td>1949-02-15</td>\n",
       "      <td>1</td>\n",
       "      <td>56</td>\n",
       "    </tr>\n",
       "    <tr>\n",
       "      <th>15633</th>\n",
       "      <td>1948-12-21</td>\n",
       "      <td>1949-02-09</td>\n",
       "      <td>1</td>\n",
       "      <td>50</td>\n",
       "    </tr>\n",
       "    <tr>\n",
       "      <th>15634</th>\n",
       "      <td>1948-12-20</td>\n",
       "      <td>1950-02-09</td>\n",
       "      <td>1</td>\n",
       "      <td>416</td>\n",
       "    </tr>\n",
       "    <tr>\n",
       "      <th>15635</th>\n",
       "      <td>1948-12-20</td>\n",
       "      <td>1950-02-09</td>\n",
       "      <td>1</td>\n",
       "      <td>416</td>\n",
       "    </tr>\n",
       "    <tr>\n",
       "      <th>15636</th>\n",
       "      <td>1948-12-20</td>\n",
       "      <td>1950-02-09</td>\n",
       "      <td>1</td>\n",
       "      <td>416</td>\n",
       "    </tr>\n",
       "    <tr>\n",
       "      <th>15637</th>\n",
       "      <td>1948-12-08</td>\n",
       "      <td>1948-12-23</td>\n",
       "      <td>1</td>\n",
       "      <td>15</td>\n",
       "    </tr>\n",
       "    <tr>\n",
       "      <th>15638</th>\n",
       "      <td>1948-11-23</td>\n",
       "      <td>1948-12-07</td>\n",
       "      <td>1</td>\n",
       "      <td>14</td>\n",
       "    </tr>\n",
       "    <tr>\n",
       "      <th>15639</th>\n",
       "      <td>1948-11-23</td>\n",
       "      <td>1948-12-07</td>\n",
       "      <td>1</td>\n",
       "      <td>14</td>\n",
       "    </tr>\n",
       "    <tr>\n",
       "      <th>15640</th>\n",
       "      <td>1948-11-20</td>\n",
       "      <td>1948-12-01</td>\n",
       "      <td>1</td>\n",
       "      <td>11</td>\n",
       "    </tr>\n",
       "    <tr>\n",
       "      <th>15641</th>\n",
       "      <td>1948-11-17</td>\n",
       "      <td>1948-12-20</td>\n",
       "      <td>1</td>\n",
       "      <td>33</td>\n",
       "    </tr>\n",
       "    <tr>\n",
       "      <th>15642</th>\n",
       "      <td>1948-11-06</td>\n",
       "      <td>1948-12-01</td>\n",
       "      <td>1</td>\n",
       "      <td>25</td>\n",
       "    </tr>\n",
       "    <tr>\n",
       "      <th>15643</th>\n",
       "      <td>1948-10-29</td>\n",
       "      <td>1948-12-07</td>\n",
       "      <td>1</td>\n",
       "      <td>39</td>\n",
       "    </tr>\n",
       "    <tr>\n",
       "      <th>15644</th>\n",
       "      <td>1948-10-01</td>\n",
       "      <td>1948-12-04</td>\n",
       "      <td>1</td>\n",
       "      <td>64</td>\n",
       "    </tr>\n",
       "    <tr>\n",
       "      <th>15645</th>\n",
       "      <td>1948-09-29</td>\n",
       "      <td>1948-10-09</td>\n",
       "      <td>1</td>\n",
       "      <td>10</td>\n",
       "    </tr>\n",
       "    <tr>\n",
       "      <th>15646</th>\n",
       "      <td>1948-09-14</td>\n",
       "      <td>1948-10-09</td>\n",
       "      <td>1</td>\n",
       "      <td>25</td>\n",
       "    </tr>\n",
       "    <tr>\n",
       "      <th>15647</th>\n",
       "      <td>1948-09-10</td>\n",
       "      <td>1948-09-25</td>\n",
       "      <td>1</td>\n",
       "      <td>15</td>\n",
       "    </tr>\n",
       "    <tr>\n",
       "      <th>15648</th>\n",
       "      <td>1948-08-30</td>\n",
       "      <td>1948-10-02</td>\n",
       "      <td>1</td>\n",
       "      <td>33</td>\n",
       "    </tr>\n",
       "    <tr>\n",
       "      <th>15649</th>\n",
       "      <td>1948-08-12</td>\n",
       "      <td>1948-08-30</td>\n",
       "      <td>1</td>\n",
       "      <td>18</td>\n",
       "    </tr>\n",
       "    <tr>\n",
       "      <th>15650</th>\n",
       "      <td>1948-07-14</td>\n",
       "      <td>1948-07-17</td>\n",
       "      <td>1</td>\n",
       "      <td>3</td>\n",
       "    </tr>\n",
       "    <tr>\n",
       "      <th>15651</th>\n",
       "      <td>1948-06-23</td>\n",
       "      <td>1948-07-17</td>\n",
       "      <td>1</td>\n",
       "      <td>24</td>\n",
       "    </tr>\n",
       "    <tr>\n",
       "      <th>15652</th>\n",
       "      <td>1948-06-08</td>\n",
       "      <td>1948-10-02</td>\n",
       "      <td>1</td>\n",
       "      <td>116</td>\n",
       "    </tr>\n",
       "    <tr>\n",
       "      <th>15653</th>\n",
       "      <td>1947-08-16</td>\n",
       "      <td>1948-09-22</td>\n",
       "      <td>1</td>\n",
       "      <td>403</td>\n",
       "    </tr>\n",
       "  </tbody>\n",
       "</table>\n",
       "<p>15648 rows × 4 columns</p>\n",
       "</div>"
      ],
      "text/plain": [
       "      PROPOSE_DT ANNOUNCE_DT  AGE diff_dt\n",
       "0     2020-08-03  2020-08-18   21      15\n",
       "1     2020-08-03  2020-08-18   21      15\n",
       "2     2020-08-03  2020-08-18   21      15\n",
       "3     2020-08-03  2020-08-12   21       9\n",
       "4     2020-07-29  2020-07-31   21       2\n",
       "5     2020-07-14  2020-08-12   21      29\n",
       "6     2020-07-13  2020-08-18   21      36\n",
       "7     2020-07-10  2020-08-18   21      39\n",
       "8     2020-07-10  2020-08-12   21      33\n",
       "9     2020-07-10  2020-08-18   21      39\n",
       "10    2020-07-10  2020-08-18   21      39\n",
       "11    2020-07-10  2020-08-18   21      39\n",
       "12    2020-07-06  2020-08-18   21      43\n",
       "13    2020-06-30  2020-08-18   21      49\n",
       "14    2020-06-26  2020-07-31   21      35\n",
       "15    2020-06-17  2020-08-11   21      55\n",
       "16    2020-06-11  2020-08-18   21      68\n",
       "17    2020-06-01  2020-08-18   21      78\n",
       "18    2020-06-01  2020-08-18   21      78\n",
       "19    2020-05-20  2020-06-09   20      20\n",
       "20    2020-05-20  2020-06-09   20      20\n",
       "21    2020-05-20  2020-06-09   20      20\n",
       "22    2020-05-20  2020-06-09   20      20\n",
       "23    2020-05-20  2020-06-09   20      20\n",
       "24    2020-05-20  2020-06-09   20      20\n",
       "25    2020-05-20  2020-06-09   20      20\n",
       "26    2020-05-20  2020-06-09   20      20\n",
       "27    2020-05-20  2020-06-09   20      20\n",
       "28    2020-05-20  2020-06-09   20      20\n",
       "29    2020-05-20  2020-06-09   20      20\n",
       "...          ...         ...  ...     ...\n",
       "15624 1949-03-03  1949-06-21    1     110\n",
       "15625 1949-03-03  1949-03-25    1      22\n",
       "15626 1949-03-03  1950-03-02    1     364\n",
       "15627 1949-02-23  1949-07-20    1     147\n",
       "15628 1949-02-18  1949-05-01    1      72\n",
       "15629 1949-02-16  1950-04-08    1     416\n",
       "15630 1948-12-21  1949-02-15    1      56\n",
       "15631 1948-12-21  1949-01-27    1      37\n",
       "15632 1948-12-21  1949-02-15    1      56\n",
       "15633 1948-12-21  1949-02-09    1      50\n",
       "15634 1948-12-20  1950-02-09    1     416\n",
       "15635 1948-12-20  1950-02-09    1     416\n",
       "15636 1948-12-20  1950-02-09    1     416\n",
       "15637 1948-12-08  1948-12-23    1      15\n",
       "15638 1948-11-23  1948-12-07    1      14\n",
       "15639 1948-11-23  1948-12-07    1      14\n",
       "15640 1948-11-20  1948-12-01    1      11\n",
       "15641 1948-11-17  1948-12-20    1      33\n",
       "15642 1948-11-06  1948-12-01    1      25\n",
       "15643 1948-10-29  1948-12-07    1      39\n",
       "15644 1948-10-01  1948-12-04    1      64\n",
       "15645 1948-09-29  1948-10-09    1      10\n",
       "15646 1948-09-14  1948-10-09    1      25\n",
       "15647 1948-09-10  1948-09-25    1      15\n",
       "15648 1948-08-30  1948-10-02    1      33\n",
       "15649 1948-08-12  1948-08-30    1      18\n",
       "15650 1948-07-14  1948-07-17    1       3\n",
       "15651 1948-06-23  1948-07-17    1      24\n",
       "15652 1948-06-08  1948-10-02    1     116\n",
       "15653 1947-08-16  1948-09-22    1     403\n",
       "\n",
       "[15648 rows x 4 columns]"
      ]
     },
     "execution_count": 158,
     "metadata": {},
     "output_type": "execute_result"
    }
   ],
   "source": [
    "process_notnull['diff_dt'] = process_notnull['diff_dt'].apply(lambda x : re.findall('\\d+',x)[0])\n",
    "process_notnull"
   ]
  },
  {
   "cell_type": "code",
   "execution_count": 159,
   "metadata": {},
   "outputs": [],
   "source": [
    "process_notnull.reset_index(inplace=True)"
   ]
  },
  {
   "cell_type": "code",
   "execution_count": 161,
   "metadata": {},
   "outputs": [
    {
     "data": {
      "text/html": [
       "<div>\n",
       "<style scoped>\n",
       "    .dataframe tbody tr th:only-of-type {\n",
       "        vertical-align: middle;\n",
       "    }\n",
       "\n",
       "    .dataframe tbody tr th {\n",
       "        vertical-align: top;\n",
       "    }\n",
       "\n",
       "    .dataframe thead th {\n",
       "        text-align: right;\n",
       "    }\n",
       "</style>\n",
       "<table border=\"1\" class=\"dataframe\">\n",
       "  <thead>\n",
       "    <tr style=\"text-align: right;\">\n",
       "      <th></th>\n",
       "      <th>PROPOSE_DT</th>\n",
       "      <th>ANNOUNCE_DT</th>\n",
       "      <th>AGE</th>\n",
       "      <th>diff_dt</th>\n",
       "    </tr>\n",
       "  </thead>\n",
       "  <tbody>\n",
       "    <tr>\n",
       "      <th>0</th>\n",
       "      <td>2020-08-03</td>\n",
       "      <td>2020-08-18</td>\n",
       "      <td>21</td>\n",
       "      <td>15</td>\n",
       "    </tr>\n",
       "    <tr>\n",
       "      <th>1</th>\n",
       "      <td>2020-08-03</td>\n",
       "      <td>2020-08-18</td>\n",
       "      <td>21</td>\n",
       "      <td>15</td>\n",
       "    </tr>\n",
       "    <tr>\n",
       "      <th>2</th>\n",
       "      <td>2020-08-03</td>\n",
       "      <td>2020-08-18</td>\n",
       "      <td>21</td>\n",
       "      <td>15</td>\n",
       "    </tr>\n",
       "    <tr>\n",
       "      <th>3</th>\n",
       "      <td>2020-08-03</td>\n",
       "      <td>2020-08-12</td>\n",
       "      <td>21</td>\n",
       "      <td>9</td>\n",
       "    </tr>\n",
       "    <tr>\n",
       "      <th>4</th>\n",
       "      <td>2020-07-29</td>\n",
       "      <td>2020-07-31</td>\n",
       "      <td>21</td>\n",
       "      <td>2</td>\n",
       "    </tr>\n",
       "  </tbody>\n",
       "</table>\n",
       "</div>"
      ],
      "text/plain": [
       "  PROPOSE_DT ANNOUNCE_DT  AGE diff_dt\n",
       "0 2020-08-03  2020-08-18   21      15\n",
       "1 2020-08-03  2020-08-18   21      15\n",
       "2 2020-08-03  2020-08-18   21      15\n",
       "3 2020-08-03  2020-08-12   21       9\n",
       "4 2020-07-29  2020-07-31   21       2"
      ]
     },
     "execution_count": 161,
     "metadata": {},
     "output_type": "execute_result"
    }
   ],
   "source": [
    "process_notnull.drop('index',axis=1,inplace=True)\n",
    "process_notnull.head()"
   ]
  },
  {
   "cell_type": "code",
   "execution_count": 163,
   "metadata": {},
   "outputs": [],
   "source": [
    "process_notnull['diff_dt'] = process_notnull['diff_dt'].astype('int')"
   ]
  },
  {
   "cell_type": "code",
   "execution_count": 166,
   "metadata": {},
   "outputs": [
    {
     "data": {
      "text/plain": [
       "AGE\n",
       "1     124.829630\n",
       "2     105.817204\n",
       "3     165.642857\n",
       "4      69.125000\n",
       "5      56.390625\n",
       "6     132.162577\n",
       "7     137.108883\n",
       "8     134.447368\n",
       "9      76.986891\n",
       "10     72.375000\n",
       "11     95.107463\n",
       "12     96.658654\n",
       "13     72.533917\n",
       "14     80.735152\n",
       "15     75.140698\n",
       "16    120.730851\n",
       "17    149.984833\n",
       "18    153.618135\n",
       "19    163.360115\n",
       "20    167.555729\n",
       "21     37.684211\n",
       "Name: diff_dt, dtype: float64"
      ]
     },
     "execution_count": 166,
     "metadata": {},
     "output_type": "execute_result"
    }
   ],
   "source": [
    "mean_diff_dt = process_notnull.groupby('AGE')['diff_dt'].mean()\n",
    "mean_diff_dt"
   ]
  },
  {
   "cell_type": "code",
   "execution_count": 170,
   "metadata": {},
   "outputs": [
    {
     "data": {
      "text/html": [
       "<div>\n",
       "<style scoped>\n",
       "    .dataframe tbody tr th:only-of-type {\n",
       "        vertical-align: middle;\n",
       "    }\n",
       "\n",
       "    .dataframe tbody tr th {\n",
       "        vertical-align: top;\n",
       "    }\n",
       "\n",
       "    .dataframe thead th {\n",
       "        text-align: right;\n",
       "    }\n",
       "</style>\n",
       "<table border=\"1\" class=\"dataframe\">\n",
       "  <thead>\n",
       "    <tr style=\"text-align: right;\">\n",
       "      <th></th>\n",
       "      <th>AGE</th>\n",
       "      <th>diff_dt</th>\n",
       "    </tr>\n",
       "  </thead>\n",
       "  <tbody>\n",
       "    <tr>\n",
       "      <th>0</th>\n",
       "      <td>1</td>\n",
       "      <td>124.829630</td>\n",
       "    </tr>\n",
       "    <tr>\n",
       "      <th>1</th>\n",
       "      <td>2</td>\n",
       "      <td>105.817204</td>\n",
       "    </tr>\n",
       "    <tr>\n",
       "      <th>2</th>\n",
       "      <td>3</td>\n",
       "      <td>165.642857</td>\n",
       "    </tr>\n",
       "    <tr>\n",
       "      <th>3</th>\n",
       "      <td>4</td>\n",
       "      <td>69.125000</td>\n",
       "    </tr>\n",
       "    <tr>\n",
       "      <th>4</th>\n",
       "      <td>5</td>\n",
       "      <td>56.390625</td>\n",
       "    </tr>\n",
       "    <tr>\n",
       "      <th>5</th>\n",
       "      <td>6</td>\n",
       "      <td>132.162577</td>\n",
       "    </tr>\n",
       "    <tr>\n",
       "      <th>6</th>\n",
       "      <td>7</td>\n",
       "      <td>137.108883</td>\n",
       "    </tr>\n",
       "    <tr>\n",
       "      <th>7</th>\n",
       "      <td>8</td>\n",
       "      <td>134.447368</td>\n",
       "    </tr>\n",
       "    <tr>\n",
       "      <th>8</th>\n",
       "      <td>9</td>\n",
       "      <td>76.986891</td>\n",
       "    </tr>\n",
       "    <tr>\n",
       "      <th>9</th>\n",
       "      <td>10</td>\n",
       "      <td>72.375000</td>\n",
       "    </tr>\n",
       "    <tr>\n",
       "      <th>10</th>\n",
       "      <td>11</td>\n",
       "      <td>95.107463</td>\n",
       "    </tr>\n",
       "    <tr>\n",
       "      <th>11</th>\n",
       "      <td>12</td>\n",
       "      <td>96.658654</td>\n",
       "    </tr>\n",
       "    <tr>\n",
       "      <th>12</th>\n",
       "      <td>13</td>\n",
       "      <td>72.533917</td>\n",
       "    </tr>\n",
       "    <tr>\n",
       "      <th>13</th>\n",
       "      <td>14</td>\n",
       "      <td>80.735152</td>\n",
       "    </tr>\n",
       "    <tr>\n",
       "      <th>14</th>\n",
       "      <td>15</td>\n",
       "      <td>75.140698</td>\n",
       "    </tr>\n",
       "    <tr>\n",
       "      <th>15</th>\n",
       "      <td>16</td>\n",
       "      <td>120.730851</td>\n",
       "    </tr>\n",
       "    <tr>\n",
       "      <th>16</th>\n",
       "      <td>17</td>\n",
       "      <td>149.984833</td>\n",
       "    </tr>\n",
       "    <tr>\n",
       "      <th>17</th>\n",
       "      <td>18</td>\n",
       "      <td>153.618135</td>\n",
       "    </tr>\n",
       "    <tr>\n",
       "      <th>18</th>\n",
       "      <td>19</td>\n",
       "      <td>163.360115</td>\n",
       "    </tr>\n",
       "    <tr>\n",
       "      <th>19</th>\n",
       "      <td>20</td>\n",
       "      <td>167.555729</td>\n",
       "    </tr>\n",
       "    <tr>\n",
       "      <th>20</th>\n",
       "      <td>21</td>\n",
       "      <td>37.684211</td>\n",
       "    </tr>\n",
       "  </tbody>\n",
       "</table>\n",
       "</div>"
      ],
      "text/plain": [
       "    AGE     diff_dt\n",
       "0     1  124.829630\n",
       "1     2  105.817204\n",
       "2     3  165.642857\n",
       "3     4   69.125000\n",
       "4     5   56.390625\n",
       "5     6  132.162577\n",
       "6     7  137.108883\n",
       "7     8  134.447368\n",
       "8     9   76.986891\n",
       "9    10   72.375000\n",
       "10   11   95.107463\n",
       "11   12   96.658654\n",
       "12   13   72.533917\n",
       "13   14   80.735152\n",
       "14   15   75.140698\n",
       "15   16  120.730851\n",
       "16   17  149.984833\n",
       "17   18  153.618135\n",
       "18   19  163.360115\n",
       "19   20  167.555729\n",
       "20   21   37.684211"
      ]
     },
     "execution_count": 170,
     "metadata": {},
     "output_type": "execute_result"
    }
   ],
   "source": [
    "mean_diff_dt = mean_diff_dt.to_frame()\n",
    "mean_diff_dt.reset_index(inplace=True)\n",
    "mean_diff_dt"
   ]
  },
  {
   "cell_type": "code",
   "execution_count": 173,
   "metadata": {},
   "outputs": [
    {
     "data": {
      "text/plain": [
       "<matplotlib.axes._subplots.AxesSubplot at 0x6a3d80c710>"
      ]
     },
     "execution_count": 173,
     "metadata": {},
     "output_type": "execute_result"
    },
    {
     "data": {
      "image/png": "[encoded data removed]",
      "text/plain": [
       "<Figure size 432x288 with 1 Axes>"
      ]
     },
     "metadata": {
      "needs_background": "light"
     },
     "output_type": "display_data"
    }
   ],
   "source": [
    "plt.title('대수별 제안일에서 공포일까지 걸리는 시간')\n",
    "sns.barplot(x=mean_diff_dt['AGE'],y=mean_diff_dt['diff_dt'])"
   ]
  },
  {
   "cell_type": "markdown",
   "metadata": {},
   "source": [
    "## Q.12 제안일과 공포일의 월별 요일별로 분포는 어떻게 되는가?"
   ]
  },
  {
   "cell_type": "code",
   "execution_count": 198,
   "metadata": {},
   "outputs": [],
   "source": [
    "process_dt = process"
   ]
  },
  {
   "cell_type": "code",
   "execution_count": 199,
   "metadata": {},
   "outputs": [],
   "source": [
    "process_dt['PROPOSE_DT'] = pd.to_datetime(process_dt['PROPOSE_DT'])\n",
    "process_dt['ANNOUNCE_DT'] = pd.to_datetime(process_dt['ANNOUNCE_DT'],errors = 'coerce') # Out of Boundary Error"
   ]
  },
  {
   "cell_type": "code",
   "execution_count": 200,
   "metadata": {},
   "outputs": [],
   "source": [
    "process_dt['propose_month'] = process_dt['PROPOSE_DT'].dt.month\n",
    "process_dt['announce_month'] = process_dt['ANNOUNCE_DT'].dt.month\n",
    "process_dt['propose_weekday'] = process_dt['PROPOSE_DT'].dt.weekday"
   ]
  },
  {
   "cell_type": "code",
   "execution_count": 201,
   "metadata": {},
   "outputs": [
    {
     "data": {
      "text/html": [
       "<div>\n",
       "<style scoped>\n",
       "    .dataframe tbody tr th:only-of-type {\n",
       "        vertical-align: middle;\n",
       "    }\n",
       "\n",
       "    .dataframe tbody tr th {\n",
       "        vertical-align: top;\n",
       "    }\n",
       "\n",
       "    .dataframe thead th {\n",
       "        text-align: right;\n",
       "    }\n",
       "</style>\n",
       "<table border=\"1\" class=\"dataframe\">\n",
       "  <thead>\n",
       "    <tr style=\"text-align: right;\">\n",
       "      <th></th>\n",
       "      <th>AGE</th>\n",
       "      <th>ANNOUNCE_DT</th>\n",
       "      <th>BDG_PRESENT_DT</th>\n",
       "      <th>BDG_PROC_DT</th>\n",
       "      <th>BDG_SUBMIT_DT</th>\n",
       "      <th>BILL_ID</th>\n",
       "      <th>BILL_KIND</th>\n",
       "      <th>BILL_NAME</th>\n",
       "      <th>BILL_NO</th>\n",
       "      <th>BLANK_TCNT</th>\n",
       "      <th>...</th>\n",
       "      <th>PROPOSER_KIND_CD</th>\n",
       "      <th>PROPOSE_DT</th>\n",
       "      <th>RGS_PRESENT_DT</th>\n",
       "      <th>RGS_PROC_DT</th>\n",
       "      <th>VOTE_TCNT</th>\n",
       "      <th>YES_TCNT</th>\n",
       "      <th>propose_month</th>\n",
       "      <th>announce_month</th>\n",
       "      <th>propose_weekday</th>\n",
       "      <th>announce_weekday</th>\n",
       "    </tr>\n",
       "  </thead>\n",
       "  <tbody>\n",
       "    <tr>\n",
       "      <th>0</th>\n",
       "      <td>21</td>\n",
       "      <td>NaT</td>\n",
       "      <td>NaN</td>\n",
       "      <td>NaN</td>\n",
       "      <td>NaN</td>\n",
       "      <td>PRC_A2Q0T0X9B2P4F0M9N3P8K5S9I7K5N9</td>\n",
       "      <td>기타</td>\n",
       "      <td>본회의 의결을 요하는 국정감사대상기관 승인의 건(과학기술정보방송통신위원장)</td>\n",
       "      <td>2104197</td>\n",
       "      <td>NaN</td>\n",
       "      <td>...</td>\n",
       "      <td>위원장</td>\n",
       "      <td>2020-09-24</td>\n",
       "      <td>2020-09-24</td>\n",
       "      <td>2020-09-24</td>\n",
       "      <td>NaN</td>\n",
       "      <td>NaN</td>\n",
       "      <td>9</td>\n",
       "      <td>NaN</td>\n",
       "      <td>3</td>\n",
       "      <td>NaN</td>\n",
       "    </tr>\n",
       "    <tr>\n",
       "      <th>1</th>\n",
       "      <td>21</td>\n",
       "      <td>NaT</td>\n",
       "      <td>NaN</td>\n",
       "      <td>NaN</td>\n",
       "      <td>NaN</td>\n",
       "      <td>PRC_W2L0P0M9C2X4P1E3A2N6C4B7T7K5M0</td>\n",
       "      <td>기타</td>\n",
       "      <td>과학기술정보방송통신위원장(박광온) 사임의 건(박광온의원)</td>\n",
       "      <td>2104196</td>\n",
       "      <td>NaN</td>\n",
       "      <td>...</td>\n",
       "      <td>의원</td>\n",
       "      <td>2020-09-24</td>\n",
       "      <td>2020-09-24</td>\n",
       "      <td>2020-09-24</td>\n",
       "      <td>NaN</td>\n",
       "      <td>NaN</td>\n",
       "      <td>9</td>\n",
       "      <td>NaN</td>\n",
       "      <td>3</td>\n",
       "      <td>NaN</td>\n",
       "    </tr>\n",
       "  </tbody>\n",
       "</table>\n",
       "<p>2 rows × 32 columns</p>\n",
       "</div>"
      ],
      "text/plain": [
       "   AGE ANNOUNCE_DT BDG_PRESENT_DT BDG_PROC_DT BDG_SUBMIT_DT  \\\n",
       "0   21         NaT            NaN         NaN           NaN   \n",
       "1   21         NaT            NaN         NaN           NaN   \n",
       "\n",
       "                              BILL_ID BILL_KIND  \\\n",
       "0  PRC_A2Q0T0X9B2P4F0M9N3P8K5S9I7K5N9        기타   \n",
       "1  PRC_W2L0P0M9C2X4P1E3A2N6C4B7T7K5M0        기타   \n",
       "\n",
       "                                   BILL_NAME  BILL_NO  BLANK_TCNT  ...  \\\n",
       "0  본회의 의결을 요하는 국정감사대상기관 승인의 건(과학기술정보방송통신위원장)  2104197         NaN  ...   \n",
       "1            과학기술정보방송통신위원장(박광온) 사임의 건(박광온의원)  2104196         NaN  ...   \n",
       "\n",
       "  PROPOSER_KIND_CD PROPOSE_DT RGS_PRESENT_DT RGS_PROC_DT VOTE_TCNT YES_TCNT  \\\n",
       "0              위원장 2020-09-24     2020-09-24  2020-09-24       NaN      NaN   \n",
       "1               의원 2020-09-24     2020-09-24  2020-09-24       NaN      NaN   \n",
       "\n",
       "  propose_month announce_month propose_weekday  announce_weekday  \n",
       "0             9            NaN               3               NaN  \n",
       "1             9            NaN               3               NaN  \n",
       "\n",
       "[2 rows x 32 columns]"
      ]
     },
     "execution_count": 201,
     "metadata": {},
     "output_type": "execute_result"
    }
   ],
   "source": [
    "process_dt['propose_weekday'] = process_dt['PROPOSE_DT'].dt.weekday # weekday (0:월 1:화 2:수 3:목 4:금 5:토 6:일)\n",
    "process_dt['announce_weekday'] = process_dt['ANNOUNCE_DT'].dt.weekday\n",
    "process_dt.head(2)"
   ]
  },
  {
   "cell_type": "code",
   "execution_count": 204,
   "metadata": {},
   "outputs": [
    {
     "data": {
      "text/html": [
       "<div>\n",
       "<style scoped>\n",
       "    .dataframe tbody tr th:only-of-type {\n",
       "        vertical-align: middle;\n",
       "    }\n",
       "\n",
       "    .dataframe tbody tr th {\n",
       "        vertical-align: top;\n",
       "    }\n",
       "\n",
       "    .dataframe thead th {\n",
       "        text-align: right;\n",
       "    }\n",
       "</style>\n",
       "<table border=\"1\" class=\"dataframe\">\n",
       "  <thead>\n",
       "    <tr style=\"text-align: right;\">\n",
       "      <th></th>\n",
       "      <th>propose_month</th>\n",
       "      <th>announce_month</th>\n",
       "      <th>propose_weekday</th>\n",
       "      <th>announce_weekday</th>\n",
       "    </tr>\n",
       "  </thead>\n",
       "  <tbody>\n",
       "    <tr>\n",
       "      <th>68525</th>\n",
       "      <td>6</td>\n",
       "      <td>7.0</td>\n",
       "      <td>2</td>\n",
       "      <td>5.0</td>\n",
       "    </tr>\n",
       "    <tr>\n",
       "      <th>68526</th>\n",
       "      <td>6</td>\n",
       "      <td>10.0</td>\n",
       "      <td>1</td>\n",
       "      <td>5.0</td>\n",
       "    </tr>\n",
       "    <tr>\n",
       "      <th>68527</th>\n",
       "      <td>5</td>\n",
       "      <td>NaN</td>\n",
       "      <td>0</td>\n",
       "      <td>NaN</td>\n",
       "    </tr>\n",
       "    <tr>\n",
       "      <th>68528</th>\n",
       "      <td>8</td>\n",
       "      <td>9.0</td>\n",
       "      <td>5</td>\n",
       "      <td>2.0</td>\n",
       "    </tr>\n",
       "    <tr>\n",
       "      <th>68529</th>\n",
       "      <td>4</td>\n",
       "      <td>NaN</td>\n",
       "      <td>0</td>\n",
       "      <td>NaN</td>\n",
       "    </tr>\n",
       "  </tbody>\n",
       "</table>\n",
       "</div>"
      ],
      "text/plain": [
       "       propose_month  announce_month  propose_weekday  announce_weekday\n",
       "68525              6             7.0                2               5.0\n",
       "68526              6            10.0                1               5.0\n",
       "68527              5             NaN                0               NaN\n",
       "68528              8             9.0                5               2.0\n",
       "68529              4             NaN                0               NaN"
      ]
     },
     "execution_count": 204,
     "metadata": {},
     "output_type": "execute_result"
    }
   ],
   "source": [
    "process_dt = process_dt[['propose_month','announce_month','propose_weekday','announce_weekday']]\n",
    "process_dt.tail()"
   ]
  },
  {
   "cell_type": "code",
   "execution_count": 214,
   "metadata": {},
   "outputs": [],
   "source": [
    "process_dt['announce_month'] = pd.to_numeric(process_dt['announce_month'],downcast='integer',errors='coerce')"
   ]
  },
  {
   "cell_type": "code",
   "execution_count": 215,
   "metadata": {},
   "outputs": [
    {
     "data": {
      "text/plain": [
       "dtype('float64')"
      ]
     },
     "execution_count": 215,
     "metadata": {},
     "output_type": "execute_result"
    }
   ],
   "source": [
    "process_dt['announce_month'][68528].dtype"
   ]
  },
  {
   "cell_type": "code",
   "execution_count": 216,
   "metadata": {},
   "outputs": [
    {
     "data": {
      "text/plain": [
       "11    9581\n",
       "12    8807\n",
       "10    6792\n",
       "9     6511\n",
       "7     5522\n",
       "6     5398\n",
       "8     4816\n",
       "3     4509\n",
       "2     4435\n",
       "4     4323\n",
       "5     4190\n",
       "1     3646\n",
       "Name: propose_month, dtype: int64"
      ]
     },
     "execution_count": 216,
     "metadata": {},
     "output_type": "execute_result"
    }
   ],
   "source": [
    "process_dt['propose_month'].value_counts()"
   ]
  },
  {
   "cell_type": "code",
   "execution_count": 182,
   "metadata": {},
   "outputs": [
    {
     "data": {
      "text/plain": [
       "4    14692\n",
       "2    13484\n",
       "3    13339\n",
       "0    12672\n",
       "1    12268\n",
       "5     1970\n",
       "6      105\n",
       "Name: propose_weekday, dtype: int64"
      ]
     },
     "execution_count": 182,
     "metadata": {},
     "output_type": "execute_result"
    }
   ],
   "source": [
    "process_dt['propose_weekday'].value_counts()"
   ]
  },
  {
   "cell_type": "code",
   "execution_count": 217,
   "metadata": {},
   "outputs": [
    {
     "data": {
      "text/plain": [
       "12.0    4548\n",
       "1.0     2162\n",
       "3.0     2131\n",
       "5.0     1311\n",
       "2.0     1006\n",
       "4.0      969\n",
       "8.0      922\n",
       "7.0      727\n",
       "6.0      617\n",
       "10.0     553\n",
       "11.0     439\n",
       "9.0      268\n",
       "Name: announce_month, dtype: int64"
      ]
     },
     "execution_count": 217,
     "metadata": {},
     "output_type": "execute_result"
    }
   ],
   "source": [
    "process_dt['announce_month'].value_counts()"
   ]
  },
  {
   "cell_type": "code",
   "execution_count": 184,
   "metadata": {},
   "outputs": [
    {
     "data": {
      "text/plain": [
       "1.0    5200\n",
       "4.0    2943\n",
       "2.0    2654\n",
       "3.0    2005\n",
       "0.0    1751\n",
       "5.0     922\n",
       "6.0     178\n",
       "Name: announce_weekday, dtype: int64"
      ]
     },
     "execution_count": 184,
     "metadata": {},
     "output_type": "execute_result"
    }
   ],
   "source": [
    "process_dt['announce_weekday'].value_counts()"
   ]
  },
  {
   "cell_type": "code",
   "execution_count": 185,
   "metadata": {},
   "outputs": [
    {
     "data": {
      "text/plain": [
       "<matplotlib.axes._subplots.AxesSubplot at 0x6a3d8f0828>"
      ]
     },
     "execution_count": 185,
     "metadata": {},
     "output_type": "execute_result"
    },
    {
     "data": {
      "image/png": "[encoded data removed]",
      "text/plain": [
       "<Figure size 432x288 with 1 Axes>"
      ]
     },
     "metadata": {
      "needs_background": "light"
     },
     "output_type": "display_data"
    }
   ],
   "source": [
    "plt.title('월별 제안일 수')\n",
    "sns.countplot(process_dt['propose_month'])"
   ]
  },
  {
   "cell_type": "code",
   "execution_count": 186,
   "metadata": {},
   "outputs": [
    {
     "data": {
      "text/plain": [
       "<matplotlib.axes._subplots.AxesSubplot at 0x6a3dbc9278>"
      ]
     },
     "execution_count": 186,
     "metadata": {},
     "output_type": "execute_result"
    },
    {
     "data": {
      "image/png": "[encoded data removed]",
      "text/plain": [
       "<Figure size 432x288 with 1 Axes>"
      ]
     },
     "metadata": {
      "needs_background": "light"
     },
     "output_type": "display_data"
    }
   ],
   "source": [
    "plt.title('요일별 제안일 수')\n",
    "sns.countplot(process_dt['propose_weekday'])"
   ]
  },
  {
   "cell_type": "code",
   "execution_count": 187,
   "metadata": {},
   "outputs": [
    {
     "data": {
      "text/plain": [
       "<matplotlib.axes._subplots.AxesSubplot at 0x6a3dc42b38>"
      ]
     },
     "execution_count": 187,
     "metadata": {},
     "output_type": "execute_result"
    },
    {
     "data": {
      "image/png": "[encoded data removed]",
      "text/plain": [
       "<Figure size 432x288 with 1 Axes>"
      ]
     },
     "metadata": {
      "needs_background": "light"
     },
     "output_type": "display_data"
    }
   ],
   "source": [
    "plt.title('월별 공포일 수')\n",
    "sns.countplot(process_dt['announce_month'])"
   ]
  },
  {
   "cell_type": "code",
   "execution_count": 218,
   "metadata": {},
   "outputs": [
    {
     "data": {
      "text/plain": [
       "<matplotlib.axes._subplots.AxesSubplot at 0x6a3d6fe780>"
      ]
     },
     "execution_count": 218,
     "metadata": {},
     "output_type": "execute_result"
    },
    {
     "data": {
      "image/png": "[encoded data removed]",
      "text/plain": [
       "<Figure size 432x288 with 1 Axes>"
      ]
     },
     "metadata": {
      "needs_background": "light"
     },
     "output_type": "display_data"
    }
   ],
   "source": [
    "plt.title('요일별 공포일 수')\n",
    "sns.countplot(process_dt['announce_weekday'])"
   ]
  },
  {
   "cell_type": "markdown",
   "metadata": {},
   "source": [
    "## Q13. 대수별 정부이송일에서 공포일까지 걸리는 평균 시간은 얼마일까?"
   ]
  },
  {
   "cell_type": "code",
   "execution_count": 15,
   "metadata": {},
   "outputs": [
    {
     "data": {
      "text/html": [
       "<div>\n",
       "<style scoped>\n",
       "    .dataframe tbody tr th:only-of-type {\n",
       "        vertical-align: middle;\n",
       "    }\n",
       "\n",
       "    .dataframe tbody tr th {\n",
       "        vertical-align: top;\n",
       "    }\n",
       "\n",
       "    .dataframe thead th {\n",
       "        text-align: right;\n",
       "    }\n",
       "</style>\n",
       "<table border=\"1\" class=\"dataframe\">\n",
       "  <thead>\n",
       "    <tr style=\"text-align: right;\">\n",
       "      <th></th>\n",
       "      <th>AGE</th>\n",
       "      <th>CURR_TRANS_DT</th>\n",
       "      <th>ANNOUNCE_DT</th>\n",
       "    </tr>\n",
       "  </thead>\n",
       "  <tbody>\n",
       "    <tr>\n",
       "      <th>0</th>\n",
       "      <td>21</td>\n",
       "      <td>2020-08-07</td>\n",
       "      <td>2020-08-18</td>\n",
       "    </tr>\n",
       "    <tr>\n",
       "      <th>1</th>\n",
       "      <td>21</td>\n",
       "      <td>2020-08-07</td>\n",
       "      <td>2020-08-18</td>\n",
       "    </tr>\n",
       "    <tr>\n",
       "      <th>2</th>\n",
       "      <td>21</td>\n",
       "      <td>2020-08-07</td>\n",
       "      <td>2020-08-18</td>\n",
       "    </tr>\n",
       "    <tr>\n",
       "      <th>3</th>\n",
       "      <td>21</td>\n",
       "      <td>2020-08-07</td>\n",
       "      <td>2020-08-12</td>\n",
       "    </tr>\n",
       "    <tr>\n",
       "      <th>4</th>\n",
       "      <td>21</td>\n",
       "      <td>2020-07-30</td>\n",
       "      <td>2020-07-31</td>\n",
       "    </tr>\n",
       "  </tbody>\n",
       "</table>\n",
       "</div>"
      ],
      "text/plain": [
       "   AGE CURR_TRANS_DT ANNOUNCE_DT\n",
       "0   21    2020-08-07  2020-08-18\n",
       "1   21    2020-08-07  2020-08-18\n",
       "2   21    2020-08-07  2020-08-18\n",
       "3   21    2020-08-07  2020-08-12\n",
       "4   21    2020-07-30  2020-07-31"
      ]
     },
     "execution_count": 15,
     "metadata": {},
     "output_type": "execute_result"
    }
   ],
   "source": [
    "mean_df_dt2 = process.copy()\n",
    "mean_df_dt2 = mean_df_dt2[['AGE','CURR_TRANS_DT','ANNOUNCE_DT']]\n",
    "mean_df_dt2 = mean_df_dt2.dropna()\n",
    "mean_df_dt2 = mean_df_dt2.reset_index()\n",
    "mean_df_dt2 = mean_df_dt2.drop('index',axis=1)\n",
    "mean_df_dt2.head()"
   ]
  },
  {
   "cell_type": "code",
   "execution_count": 16,
   "metadata": {},
   "outputs": [
    {
     "data": {
      "text/plain": [
       "15545"
      ]
     },
     "execution_count": 16,
     "metadata": {},
     "output_type": "execute_result"
    }
   ],
   "source": [
    "len(mean_df_dt2)"
   ]
  },
  {
   "cell_type": "code",
   "execution_count": 18,
   "metadata": {},
   "outputs": [],
   "source": [
    "mean_df_dt2['CURR_TRANS_DT'] = pd.to_datetime(mean_df_dt2['CURR_TRANS_DT'],errors='coerce')\n",
    "mean_df_dt2['ANNOUNCE_DT'] = pd.to_datetime(mean_df_dt2['ANNOUNCE_DT'],errors='coerce')"
   ]
  },
  {
   "cell_type": "code",
   "execution_count": 25,
   "metadata": {},
   "outputs": [
    {
     "data": {
      "text/plain": [
       "AGE              0\n",
       "CURR_TRANS_DT    0\n",
       "ANNOUNCE_DT      0\n",
       "dtype: int64"
      ]
     },
     "execution_count": 25,
     "metadata": {},
     "output_type": "execute_result"
    }
   ],
   "source": [
    "mean_df_dt2 = mean_df_dt2.dropna()\n",
    "mean_df_dt2.isnull().sum()"
   ]
  },
  {
   "cell_type": "code",
   "execution_count": 26,
   "metadata": {},
   "outputs": [
    {
     "data": {
      "text/plain": [
       "15543"
      ]
     },
     "execution_count": 26,
     "metadata": {},
     "output_type": "execute_result"
    }
   ],
   "source": [
    "len(mean_df_dt2)"
   ]
  },
  {
   "cell_type": "code",
   "execution_count": 27,
   "metadata": {},
   "outputs": [
    {
     "data": {
      "text/html": [
       "<div>\n",
       "<style scoped>\n",
       "    .dataframe tbody tr th:only-of-type {\n",
       "        vertical-align: middle;\n",
       "    }\n",
       "\n",
       "    .dataframe tbody tr th {\n",
       "        vertical-align: top;\n",
       "    }\n",
       "\n",
       "    .dataframe thead th {\n",
       "        text-align: right;\n",
       "    }\n",
       "</style>\n",
       "<table border=\"1\" class=\"dataframe\">\n",
       "  <thead>\n",
       "    <tr style=\"text-align: right;\">\n",
       "      <th></th>\n",
       "      <th>AGE</th>\n",
       "      <th>CURR_TRANS_DT</th>\n",
       "      <th>ANNOUNCE_DT</th>\n",
       "      <th>mean_df_dt2</th>\n",
       "    </tr>\n",
       "  </thead>\n",
       "  <tbody>\n",
       "    <tr>\n",
       "      <th>0</th>\n",
       "      <td>21</td>\n",
       "      <td>2020-08-07</td>\n",
       "      <td>2020-08-18</td>\n",
       "      <td>11 days</td>\n",
       "    </tr>\n",
       "    <tr>\n",
       "      <th>1</th>\n",
       "      <td>21</td>\n",
       "      <td>2020-08-07</td>\n",
       "      <td>2020-08-18</td>\n",
       "      <td>11 days</td>\n",
       "    </tr>\n",
       "    <tr>\n",
       "      <th>2</th>\n",
       "      <td>21</td>\n",
       "      <td>2020-08-07</td>\n",
       "      <td>2020-08-18</td>\n",
       "      <td>11 days</td>\n",
       "    </tr>\n",
       "    <tr>\n",
       "      <th>3</th>\n",
       "      <td>21</td>\n",
       "      <td>2020-08-07</td>\n",
       "      <td>2020-08-12</td>\n",
       "      <td>5 days</td>\n",
       "    </tr>\n",
       "    <tr>\n",
       "      <th>4</th>\n",
       "      <td>21</td>\n",
       "      <td>2020-07-30</td>\n",
       "      <td>2020-07-31</td>\n",
       "      <td>1 days</td>\n",
       "    </tr>\n",
       "  </tbody>\n",
       "</table>\n",
       "</div>"
      ],
      "text/plain": [
       "   AGE CURR_TRANS_DT ANNOUNCE_DT mean_df_dt2\n",
       "0   21    2020-08-07  2020-08-18     11 days\n",
       "1   21    2020-08-07  2020-08-18     11 days\n",
       "2   21    2020-08-07  2020-08-18     11 days\n",
       "3   21    2020-08-07  2020-08-12      5 days\n",
       "4   21    2020-07-30  2020-07-31      1 days"
      ]
     },
     "execution_count": 27,
     "metadata": {},
     "output_type": "execute_result"
    }
   ],
   "source": [
    "mean_df_dt2['mean_df_dt2'] = mean_df_dt2['ANNOUNCE_DT']-mean_df_dt2['CURR_TRANS_DT']\n",
    "mean_df_dt2.head()"
   ]
  },
  {
   "cell_type": "code",
   "execution_count": 28,
   "metadata": {},
   "outputs": [
    {
     "data": {
      "text/html": [
       "<div>\n",
       "<style scoped>\n",
       "    .dataframe tbody tr th:only-of-type {\n",
       "        vertical-align: middle;\n",
       "    }\n",
       "\n",
       "    .dataframe tbody tr th {\n",
       "        vertical-align: top;\n",
       "    }\n",
       "\n",
       "    .dataframe thead th {\n",
       "        text-align: right;\n",
       "    }\n",
       "</style>\n",
       "<table border=\"1\" class=\"dataframe\">\n",
       "  <thead>\n",
       "    <tr style=\"text-align: right;\">\n",
       "      <th></th>\n",
       "      <th>AGE</th>\n",
       "      <th>CURR_TRANS_DT</th>\n",
       "      <th>ANNOUNCE_DT</th>\n",
       "      <th>mean_df_dt2</th>\n",
       "    </tr>\n",
       "  </thead>\n",
       "  <tbody>\n",
       "    <tr>\n",
       "      <th>11185</th>\n",
       "      <td>16</td>\n",
       "      <td>2000-12-30</td>\n",
       "      <td>2000-01-08</td>\n",
       "      <td>-357 days</td>\n",
       "    </tr>\n",
       "    <tr>\n",
       "      <th>11597</th>\n",
       "      <td>15</td>\n",
       "      <td>1999-12-18</td>\n",
       "      <td>1998-12-30</td>\n",
       "      <td>-353 days</td>\n",
       "    </tr>\n",
       "    <tr>\n",
       "      <th>12698</th>\n",
       "      <td>13</td>\n",
       "      <td>1991-12-29</td>\n",
       "      <td>1991-12-14</td>\n",
       "      <td>-15 days</td>\n",
       "    </tr>\n",
       "    <tr>\n",
       "      <th>14034</th>\n",
       "      <td>9</td>\n",
       "      <td>1976-12-23</td>\n",
       "      <td>1976-11-05</td>\n",
       "      <td>-48 days</td>\n",
       "    </tr>\n",
       "    <tr>\n",
       "      <th>14547</th>\n",
       "      <td>7</td>\n",
       "      <td>1969-01-13</td>\n",
       "      <td>1968-01-28</td>\n",
       "      <td>-351 days</td>\n",
       "    </tr>\n",
       "    <tr>\n",
       "      <th>14574</th>\n",
       "      <td>7</td>\n",
       "      <td>1968-12-20</td>\n",
       "      <td>1963-12-21</td>\n",
       "      <td>-1826 days</td>\n",
       "    </tr>\n",
       "    <tr>\n",
       "      <th>14659</th>\n",
       "      <td>7</td>\n",
       "      <td>1968-03-05</td>\n",
       "      <td>1963-03-18</td>\n",
       "      <td>-1814 days</td>\n",
       "    </tr>\n",
       "    <tr>\n",
       "      <th>14720</th>\n",
       "      <td>6</td>\n",
       "      <td>1967-03-16</td>\n",
       "      <td>1963-03-30</td>\n",
       "      <td>-1447 days</td>\n",
       "    </tr>\n",
       "    <tr>\n",
       "      <th>15252</th>\n",
       "      <td>3</td>\n",
       "      <td>1956-02-17</td>\n",
       "      <td>1956-02-13</td>\n",
       "      <td>-4 days</td>\n",
       "    </tr>\n",
       "    <tr>\n",
       "      <th>15522</th>\n",
       "      <td>1</td>\n",
       "      <td>1959-09-26</td>\n",
       "      <td>1949-10-10</td>\n",
       "      <td>-3638 days</td>\n",
       "    </tr>\n",
       "  </tbody>\n",
       "</table>\n",
       "</div>"
      ],
      "text/plain": [
       "       AGE CURR_TRANS_DT ANNOUNCE_DT mean_df_dt2\n",
       "11185   16    2000-12-30  2000-01-08   -357 days\n",
       "11597   15    1999-12-18  1998-12-30   -353 days\n",
       "12698   13    1991-12-29  1991-12-14    -15 days\n",
       "14034    9    1976-12-23  1976-11-05    -48 days\n",
       "14547    7    1969-01-13  1968-01-28   -351 days\n",
       "14574    7    1968-12-20  1963-12-21  -1826 days\n",
       "14659    7    1968-03-05  1963-03-18  -1814 days\n",
       "14720    6    1967-03-16  1963-03-30  -1447 days\n",
       "15252    3    1956-02-17  1956-02-13     -4 days\n",
       "15522    1    1959-09-26  1949-10-10  -3638 days"
      ]
     },
     "execution_count": 28,
     "metadata": {},
     "output_type": "execute_result"
    }
   ],
   "source": [
    "mean_df_dt2[mean_df_dt2['ANNOUNCE_DT'] < mean_df_dt2['CURR_TRANS_DT']]"
   ]
  },
  {
   "cell_type": "code",
   "execution_count": 35,
   "metadata": {},
   "outputs": [],
   "source": [
    "mean_df_dt2 = mean_df_dt2[mean_df_dt2['ANNOUNCE_DT'] >= mean_df_dt2['CURR_TRANS_DT']]"
   ]
  },
  {
   "cell_type": "code",
   "execution_count": 36,
   "metadata": {},
   "outputs": [
    {
     "data": {
      "text/html": [
       "<div>\n",
       "<style scoped>\n",
       "    .dataframe tbody tr th:only-of-type {\n",
       "        vertical-align: middle;\n",
       "    }\n",
       "\n",
       "    .dataframe tbody tr th {\n",
       "        vertical-align: top;\n",
       "    }\n",
       "\n",
       "    .dataframe thead th {\n",
       "        text-align: right;\n",
       "    }\n",
       "</style>\n",
       "<table border=\"1\" class=\"dataframe\">\n",
       "  <thead>\n",
       "    <tr style=\"text-align: right;\">\n",
       "      <th></th>\n",
       "      <th>AGE</th>\n",
       "      <th>CURR_TRANS_DT</th>\n",
       "      <th>ANNOUNCE_DT</th>\n",
       "      <th>mean_df_dt2</th>\n",
       "    </tr>\n",
       "  </thead>\n",
       "  <tbody>\n",
       "    <tr>\n",
       "      <th>0</th>\n",
       "      <td>21</td>\n",
       "      <td>2020-08-07</td>\n",
       "      <td>2020-08-18</td>\n",
       "      <td>11 days</td>\n",
       "    </tr>\n",
       "    <tr>\n",
       "      <th>1</th>\n",
       "      <td>21</td>\n",
       "      <td>2020-08-07</td>\n",
       "      <td>2020-08-18</td>\n",
       "      <td>11 days</td>\n",
       "    </tr>\n",
       "    <tr>\n",
       "      <th>2</th>\n",
       "      <td>21</td>\n",
       "      <td>2020-08-07</td>\n",
       "      <td>2020-08-18</td>\n",
       "      <td>11 days</td>\n",
       "    </tr>\n",
       "    <tr>\n",
       "      <th>3</th>\n",
       "      <td>21</td>\n",
       "      <td>2020-08-07</td>\n",
       "      <td>2020-08-12</td>\n",
       "      <td>5 days</td>\n",
       "    </tr>\n",
       "    <tr>\n",
       "      <th>4</th>\n",
       "      <td>21</td>\n",
       "      <td>2020-07-30</td>\n",
       "      <td>2020-07-31</td>\n",
       "      <td>1 days</td>\n",
       "    </tr>\n",
       "  </tbody>\n",
       "</table>\n",
       "</div>"
      ],
      "text/plain": [
       "   AGE CURR_TRANS_DT ANNOUNCE_DT mean_df_dt2\n",
       "0   21    2020-08-07  2020-08-18     11 days\n",
       "1   21    2020-08-07  2020-08-18     11 days\n",
       "2   21    2020-08-07  2020-08-18     11 days\n",
       "3   21    2020-08-07  2020-08-12      5 days\n",
       "4   21    2020-07-30  2020-07-31      1 days"
      ]
     },
     "execution_count": 36,
     "metadata": {},
     "output_type": "execute_result"
    }
   ],
   "source": [
    "mean_df_dt2['mean_df_dt2'] = mean_df_dt2['ANNOUNCE_DT']-mean_df_dt2['CURR_TRANS_DT']\n",
    "mean_df_dt2.head()"
   ]
  },
  {
   "cell_type": "code",
   "execution_count": 40,
   "metadata": {},
   "outputs": [
    {
     "data": {
      "text/html": [
       "<div>\n",
       "<style scoped>\n",
       "    .dataframe tbody tr th:only-of-type {\n",
       "        vertical-align: middle;\n",
       "    }\n",
       "\n",
       "    .dataframe tbody tr th {\n",
       "        vertical-align: top;\n",
       "    }\n",
       "\n",
       "    .dataframe thead th {\n",
       "        text-align: right;\n",
       "    }\n",
       "</style>\n",
       "<table border=\"1\" class=\"dataframe\">\n",
       "  <thead>\n",
       "    <tr style=\"text-align: right;\">\n",
       "      <th></th>\n",
       "      <th>AGE</th>\n",
       "      <th>CURR_TRANS_DT</th>\n",
       "      <th>ANNOUNCE_DT</th>\n",
       "      <th>mean_df_dt2</th>\n",
       "    </tr>\n",
       "  </thead>\n",
       "  <tbody>\n",
       "    <tr>\n",
       "      <th>0</th>\n",
       "      <td>21</td>\n",
       "      <td>2020-08-07</td>\n",
       "      <td>2020-08-18</td>\n",
       "      <td>11</td>\n",
       "    </tr>\n",
       "    <tr>\n",
       "      <th>1</th>\n",
       "      <td>21</td>\n",
       "      <td>2020-08-07</td>\n",
       "      <td>2020-08-18</td>\n",
       "      <td>11</td>\n",
       "    </tr>\n",
       "    <tr>\n",
       "      <th>2</th>\n",
       "      <td>21</td>\n",
       "      <td>2020-08-07</td>\n",
       "      <td>2020-08-18</td>\n",
       "      <td>11</td>\n",
       "    </tr>\n",
       "    <tr>\n",
       "      <th>3</th>\n",
       "      <td>21</td>\n",
       "      <td>2020-08-07</td>\n",
       "      <td>2020-08-12</td>\n",
       "      <td>5</td>\n",
       "    </tr>\n",
       "    <tr>\n",
       "      <th>4</th>\n",
       "      <td>21</td>\n",
       "      <td>2020-07-30</td>\n",
       "      <td>2020-07-31</td>\n",
       "      <td>1</td>\n",
       "    </tr>\n",
       "  </tbody>\n",
       "</table>\n",
       "</div>"
      ],
      "text/plain": [
       "   AGE CURR_TRANS_DT ANNOUNCE_DT mean_df_dt2\n",
       "0   21    2020-08-07  2020-08-18          11\n",
       "1   21    2020-08-07  2020-08-18          11\n",
       "2   21    2020-08-07  2020-08-18          11\n",
       "3   21    2020-08-07  2020-08-12           5\n",
       "4   21    2020-07-30  2020-07-31           1"
      ]
     },
     "execution_count": 40,
     "metadata": {},
     "output_type": "execute_result"
    }
   ],
   "source": [
    "mean_df_dt2['mean_df_dt2'] =mean_df_dt2['mean_df_dt2'].astype('str')\n",
    "mean_df_dt2['mean_df_dt2'] = mean_df_dt2['mean_df_dt2'].apply(lambda x : re.findall('\\d+',x)[0])\n",
    "mean_df_dt2.head()"
   ]
  },
  {
   "cell_type": "code",
   "execution_count": 42,
   "metadata": {},
   "outputs": [
    {
     "data": {
      "text/html": [
       "<div>\n",
       "<style scoped>\n",
       "    .dataframe tbody tr th:only-of-type {\n",
       "        vertical-align: middle;\n",
       "    }\n",
       "\n",
       "    .dataframe tbody tr th {\n",
       "        vertical-align: top;\n",
       "    }\n",
       "\n",
       "    .dataframe thead th {\n",
       "        text-align: right;\n",
       "    }\n",
       "</style>\n",
       "<table border=\"1\" class=\"dataframe\">\n",
       "  <thead>\n",
       "    <tr style=\"text-align: right;\">\n",
       "      <th></th>\n",
       "      <th>AGE</th>\n",
       "      <th>mean_df_dt2</th>\n",
       "    </tr>\n",
       "  </thead>\n",
       "  <tbody>\n",
       "    <tr>\n",
       "      <th>0</th>\n",
       "      <td>1</td>\n",
       "      <td>12.977778</td>\n",
       "    </tr>\n",
       "    <tr>\n",
       "      <th>1</th>\n",
       "      <td>2</td>\n",
       "      <td>11.646739</td>\n",
       "    </tr>\n",
       "    <tr>\n",
       "      <th>2</th>\n",
       "      <td>3</td>\n",
       "      <td>35.882353</td>\n",
       "    </tr>\n",
       "    <tr>\n",
       "      <th>3</th>\n",
       "      <td>4</td>\n",
       "      <td>5.416667</td>\n",
       "    </tr>\n",
       "    <tr>\n",
       "      <th>4</th>\n",
       "      <td>5</td>\n",
       "      <td>3.696429</td>\n",
       "    </tr>\n",
       "  </tbody>\n",
       "</table>\n",
       "</div>"
      ],
      "text/plain": [
       "   AGE  mean_df_dt2\n",
       "0    1    12.977778\n",
       "1    2    11.646739\n",
       "2    3    35.882353\n",
       "3    4     5.416667\n",
       "4    5     3.696429"
      ]
     },
     "execution_count": 42,
     "metadata": {},
     "output_type": "execute_result"
    }
   ],
   "source": [
    "mean_df_dt2['mean_df_dt2'] = mean_df_dt2['mean_df_dt2'].astype('int')\n",
    "mean_df_dt2 = mean_df_dt2.groupby('AGE')['mean_df_dt2'].mean()\n",
    "mean_df_dt2 = mean_df_dt2.to_frame()\n",
    "mean_df_dt2.reset_index(inplace=True)\n",
    "mean_df_dt2.head()"
   ]
  },
  {
   "cell_type": "code",
   "execution_count": 43,
   "metadata": {},
   "outputs": [
    {
     "data": {
      "text/plain": [
       "<matplotlib.axes._subplots.AxesSubplot at 0xe0731042b0>"
      ]
     },
     "execution_count": 43,
     "metadata": {},
     "output_type": "execute_result"
    },
    {
     "data": {
      "image/png": "[encoded data removed]",
      "text/plain": [
       "<Figure size 432x288 with 1 Axes>"
      ]
     },
     "metadata": {
      "needs_background": "light"
     },
     "output_type": "display_data"
    }
   ],
   "source": [
    "plt.title('대수별 정부이송일에서 공포일까지 걸리는 평균시간')\n",
    "sns.barplot(x=mean_df_dt2['AGE'],y=mean_df_dt2['mean_df_dt2'])"
   ]
  },
  {
   "cell_type": "markdown",
   "metadata": {},
   "source": [
    "## Q14. 정부이송일은 월별, 요일별 분포는 어떨까?"
   ]
  },
  {
   "cell_type": "code",
   "execution_count": 46,
   "metadata": {},
   "outputs": [
    {
     "data": {
      "text/html": [
       "<div>\n",
       "<style scoped>\n",
       "    .dataframe tbody tr th:only-of-type {\n",
       "        vertical-align: middle;\n",
       "    }\n",
       "\n",
       "    .dataframe tbody tr th {\n",
       "        vertical-align: top;\n",
       "    }\n",
       "\n",
       "    .dataframe thead th {\n",
       "        text-align: right;\n",
       "    }\n",
       "</style>\n",
       "<table border=\"1\" class=\"dataframe\">\n",
       "  <thead>\n",
       "    <tr style=\"text-align: right;\">\n",
       "      <th></th>\n",
       "      <th>curr_trans_month</th>\n",
       "      <th>curr_trans_weekday</th>\n",
       "    </tr>\n",
       "  </thead>\n",
       "  <tbody>\n",
       "    <tr>\n",
       "      <th>68525</th>\n",
       "      <td>NaN</td>\n",
       "      <td>NaN</td>\n",
       "    </tr>\n",
       "    <tr>\n",
       "      <th>68526</th>\n",
       "      <td>9.0</td>\n",
       "      <td>5.0</td>\n",
       "    </tr>\n",
       "    <tr>\n",
       "      <th>68527</th>\n",
       "      <td>NaN</td>\n",
       "      <td>NaN</td>\n",
       "    </tr>\n",
       "    <tr>\n",
       "      <th>68528</th>\n",
       "      <td>NaN</td>\n",
       "      <td>NaN</td>\n",
       "    </tr>\n",
       "    <tr>\n",
       "      <th>68529</th>\n",
       "      <td>NaN</td>\n",
       "      <td>NaN</td>\n",
       "    </tr>\n",
       "  </tbody>\n",
       "</table>\n",
       "</div>"
      ],
      "text/plain": [
       "       curr_trans_month  curr_trans_weekday\n",
       "68525               NaN                 NaN\n",
       "68526               9.0                 5.0\n",
       "68527               NaN                 NaN\n",
       "68528               NaN                 NaN\n",
       "68529               NaN                 NaN"
      ]
     },
     "execution_count": 46,
     "metadata": {},
     "output_type": "execute_result"
    }
   ],
   "source": [
    "process_dt2 = process.copy()\n",
    "process_dt2['CURR_TRANS_DT'] = pd.to_datetime(process_dt2['CURR_TRANS_DT'],errors='coerce')\n",
    "process_dt2['curr_trans_month'] = process_dt2['CURR_TRANS_DT'].dt.month\n",
    "process_dt2['curr_trans_weekday'] = process_dt2['CURR_TRANS_DT'].dt.weekday # weekday (0:월 1:화 2:수 3:목 4:금 5:토 6:일)\n",
    "\n",
    "\n",
    "process_dt2 = process_dt2[['curr_trans_month','curr_trans_weekday']]\n",
    "process_dt2.tail()\n",
    "\n",
    "# process_dt2['announce_month'] = pd.to_numeric(process_dt2['announce_month'],downcast='integer',errors='coerce')\n"
   ]
  },
  {
   "cell_type": "code",
   "execution_count": 47,
   "metadata": {},
   "outputs": [
    {
     "data": {
      "text/plain": [
       "<matplotlib.axes._subplots.AxesSubplot at 0xe0730f2400>"
      ]
     },
     "execution_count": 47,
     "metadata": {},
     "output_type": "execute_result"
    },
    {
     "data": {
      "image/png": "[encoded data removed]",
      "text/plain": [
       "<Figure size 432x288 with 1 Axes>"
      ]
     },
     "metadata": {
      "needs_background": "light"
     },
     "output_type": "display_data"
    }
   ],
   "source": [
    "plt.title('월별 정부이송일 건수')\n",
    "sns.countplot(process_dt2['curr_trans_month'])"
   ]
  },
  {
   "cell_type": "code",
   "execution_count": 48,
   "metadata": {},
   "outputs": [
    {
     "data": {
      "text/plain": [
       "<matplotlib.axes._subplots.AxesSubplot at 0xe0735e4a20>"
      ]
     },
     "execution_count": 48,
     "metadata": {},
     "output_type": "execute_result"
    },
    {
     "data": {
      "image/png": "[encoded data removed]",
      "text/plain": [
       "<Figure size 432x288 with 1 Axes>"
      ]
     },
     "metadata": {
      "needs_background": "light"
     },
     "output_type": "display_data"
    }
   ],
   "source": [
    "plt.title('요일별 정부이송일 건수')\n",
    "sns.countplot(process_dt2['curr_trans_weekday'])"
   ]
  },
  {
   "cell_type": "markdown",
   "metadata": {},
   "source": [
    "## Q15. 대수별 의결을 가장 많이 가결시킨 제안자는 누구인가?"
   ]
  },
  {
   "cell_type": "code",
   "execution_count": 49,
   "metadata": {},
   "outputs": [
    {
     "data": {
      "text/plain": [
       "의원     3887\n",
       "위원장    2418\n",
       "정부     1926\n",
       "의장     1095\n",
       "기타       61\n",
       "Name: PROPOSER_KIND_CD, dtype: int64"
      ]
     },
     "execution_count": 49,
     "metadata": {},
     "output_type": "execute_result"
    }
   ],
   "source": [
    "process['PROPOSER_KIND_CD'].value_counts()"
   ]
  },
  {
   "cell_type": "code",
   "execution_count": 50,
   "metadata": {},
   "outputs": [
    {
     "data": {
      "text/plain": [
       "14930"
      ]
     },
     "execution_count": 50,
     "metadata": {},
     "output_type": "execute_result"
    }
   ],
   "source": [
    "len(process['PROPOSER'].unique())"
   ]
  },
  {
   "cell_type": "code",
   "execution_count": 62,
   "metadata": {},
   "outputs": [
    {
     "data": {
      "text/plain": [
       "임기만료폐기       36841\n",
       "원안가결         16291\n",
       "수정가결          7208\n",
       "폐기            2874\n",
       "대안반영폐기        2459\n",
       "철회            1415\n",
       "회기불계속폐기        911\n",
       "부결             217\n",
       "비상국무회의로이관      106\n",
       "불허가             82\n",
       "반려              75\n",
       "수정안반영폐기         24\n",
       "채택               4\n",
       "부동의              3\n",
       "불승인              3\n",
       "심사대상제외           2\n",
       "의결불요             2\n",
       "가결               2\n",
       "각하               2\n",
       "Name: PROC_RESULT_CD, dtype: int64"
      ]
     },
     "execution_count": 62,
     "metadata": {},
     "output_type": "execute_result"
    }
   ],
   "source": [
    "process['PROC_RESULT_CD'].value_counts()"
   ]
  },
  {
   "cell_type": "code",
   "execution_count": 83,
   "metadata": {},
   "outputs": [
    {
     "data": {
      "text/plain": [
       "0    원안가결\n",
       "1    원안가결\n",
       "2    원안가결\n",
       "3    원안가결\n",
       "4    원안가결\n",
       "Name: PROC_RESULT_CD, dtype: object"
      ]
     },
     "execution_count": 83,
     "metadata": {},
     "output_type": "execute_result"
    }
   ],
   "source": [
    "mask = (process['PROC_RESULT_CD']=='원안가결') | (process['PROC_RESULT_CD']=='수정가결') | (process['PROC_RESULT_CD']=='가결')\n",
    "pass_df = process[mask]\n",
    "pass_df['PROC_RESULT_CD'].head()"
   ]
  },
  {
   "cell_type": "code",
   "execution_count": 84,
   "metadata": {},
   "outputs": [],
   "source": [
    "pass_df = pass_df.groupby(['AGE','PROPOSER_KIND_CD']).size().to_frame()\n",
    "pass_df = pass_df.reset_index()\n",
    "pass_df = pass_df.rename(columns={0:'count'})"
   ]
  },
  {
   "cell_type": "code",
   "execution_count": 88,
   "metadata": {},
   "outputs": [
    {
     "data": {
      "text/html": [
       "<div>\n",
       "<style scoped>\n",
       "    .dataframe tbody tr th:only-of-type {\n",
       "        vertical-align: middle;\n",
       "    }\n",
       "\n",
       "    .dataframe tbody tr th {\n",
       "        vertical-align: top;\n",
       "    }\n",
       "\n",
       "    .dataframe thead th {\n",
       "        text-align: right;\n",
       "    }\n",
       "</style>\n",
       "<table border=\"1\" class=\"dataframe\">\n",
       "  <thead>\n",
       "    <tr style=\"text-align: right;\">\n",
       "      <th></th>\n",
       "      <th>AGE</th>\n",
       "      <th>PROPOSER_KIND_CD</th>\n",
       "      <th>count</th>\n",
       "      <th>cum_count</th>\n",
       "      <th>norm_count</th>\n",
       "      <th>cum_norm_count</th>\n",
       "    </tr>\n",
       "  </thead>\n",
       "  <tbody>\n",
       "    <tr>\n",
       "      <th>0</th>\n",
       "      <td>1</td>\n",
       "      <td>위원장</td>\n",
       "      <td>1</td>\n",
       "      <td>1</td>\n",
       "      <td>1.000000</td>\n",
       "      <td>1.0</td>\n",
       "    </tr>\n",
       "    <tr>\n",
       "      <th>18</th>\n",
       "      <td>5</td>\n",
       "      <td>정부</td>\n",
       "      <td>21</td>\n",
       "      <td>139</td>\n",
       "      <td>0.151079</td>\n",
       "      <td>1.0</td>\n",
       "    </tr>\n",
       "    <tr>\n",
       "      <th>88</th>\n",
       "      <td>20</td>\n",
       "      <td>정부</td>\n",
       "      <td>156</td>\n",
       "      <td>559</td>\n",
       "      <td>0.279070</td>\n",
       "      <td>1.0</td>\n",
       "    </tr>\n",
       "    <tr>\n",
       "      <th>83</th>\n",
       "      <td>19</td>\n",
       "      <td>정부</td>\n",
       "      <td>158</td>\n",
       "      <td>637</td>\n",
       "      <td>0.248038</td>\n",
       "      <td>1.0</td>\n",
       "    </tr>\n",
       "    <tr>\n",
       "      <th>78</th>\n",
       "      <td>18</td>\n",
       "      <td>정부</td>\n",
       "      <td>150</td>\n",
       "      <td>588</td>\n",
       "      <td>0.255102</td>\n",
       "      <td>1.0</td>\n",
       "    </tr>\n",
       "    <tr>\n",
       "      <th>73</th>\n",
       "      <td>17</td>\n",
       "      <td>정부</td>\n",
       "      <td>204</td>\n",
       "      <td>659</td>\n",
       "      <td>0.309560</td>\n",
       "      <td>1.0</td>\n",
       "    </tr>\n",
       "    <tr>\n",
       "      <th>68</th>\n",
       "      <td>16</td>\n",
       "      <td>정부</td>\n",
       "      <td>173</td>\n",
       "      <td>585</td>\n",
       "      <td>0.295726</td>\n",
       "      <td>1.0</td>\n",
       "    </tr>\n",
       "    <tr>\n",
       "      <th>63</th>\n",
       "      <td>15</td>\n",
       "      <td>정부</td>\n",
       "      <td>102</td>\n",
       "      <td>483</td>\n",
       "      <td>0.211180</td>\n",
       "      <td>1.0</td>\n",
       "    </tr>\n",
       "    <tr>\n",
       "      <th>55</th>\n",
       "      <td>13</td>\n",
       "      <td>정부</td>\n",
       "      <td>84</td>\n",
       "      <td>358</td>\n",
       "      <td>0.234637</td>\n",
       "      <td>1.0</td>\n",
       "    </tr>\n",
       "    <tr>\n",
       "      <th>50</th>\n",
       "      <td>12</td>\n",
       "      <td>정부</td>\n",
       "      <td>52</td>\n",
       "      <td>183</td>\n",
       "      <td>0.284153</td>\n",
       "      <td>1.0</td>\n",
       "    </tr>\n",
       "  </tbody>\n",
       "</table>\n",
       "</div>"
      ],
      "text/plain": [
       "    AGE PROPOSER_KIND_CD  count  cum_count  norm_count  cum_norm_count\n",
       "0     1              위원장      1          1    1.000000             1.0\n",
       "18    5               정부     21        139    0.151079             1.0\n",
       "88   20               정부    156        559    0.279070             1.0\n",
       "83   19               정부    158        637    0.248038             1.0\n",
       "78   18               정부    150        588    0.255102             1.0\n",
       "73   17               정부    204        659    0.309560             1.0\n",
       "68   16               정부    173        585    0.295726             1.0\n",
       "63   15               정부    102        483    0.211180             1.0\n",
       "55   13               정부     84        358    0.234637             1.0\n",
       "50   12               정부     52        183    0.284153             1.0"
      ]
     },
     "execution_count": 88,
     "metadata": {},
     "output_type": "execute_result"
    }
   ],
   "source": [
    "pass_df['cum_count'] = pass_df.groupby('AGE')['count'].cumsum(axis=0)\n",
    "pass_df['norm_count'] = pass_df.groupby('AGE')['count'].apply(lambda x : x/sum(x))\n",
    "pass_df['cum_norm_count'] = pass_df.groupby('AGE')['norm_count'].cumsum(axis=0)\n",
    "pass_df = pass_df.sort_values(by=['cum_norm_count'],ascending=False)\n",
    "pass_df.head(10)"
   ]
  },
  {
   "cell_type": "code",
   "execution_count": 90,
   "metadata": {},
   "outputs": [
    {
     "data": {
      "text/plain": [
       "<matplotlib.axes._subplots.AxesSubplot at 0xe0775a1a90>"
      ]
     },
     "execution_count": 90,
     "metadata": {},
     "output_type": "execute_result"
    },
    {
     "data": {
      "image/png": "[encoded data removed]",
      "text/plain": [
       "<Figure size 432x288 with 1 Axes>"
      ]
     },
     "metadata": {
      "needs_background": "light"
     },
     "output_type": "display_data"
    }
   ],
   "source": [
    "plt.title('법의안을 가결시킨 제안자 종류 분포비율')\n",
    "sns.barplot(x='AGE',y='cum_norm_count',hue='PROPOSER_KIND_CD',data=pass_df,dodge=False,palette='muted')"
   ]
  },
  {
   "cell_type": "markdown",
   "metadata": {},
   "source": [
    "## Q16. 대수별 폐기를 가장 많이 시킨 제안자 종류별 분포 현황은?"
   ]
  },
  {
   "cell_type": "code",
   "execution_count": 91,
   "metadata": {},
   "outputs": [],
   "source": [
    "mask = (process['PROC_RESULT_CD']=='임기만료폐기') | (process['PROC_RESULT_CD']=='대안반영폐기') | (process['PROC_RESULT_CD']=='회기불계속폐기') | (process['PROC_RESULT_CD']=='수정안반영폐기') | (process['PROC_RESULT_CD']=='폐기')\n",
    "fail_df = process[mask]"
   ]
  },
  {
   "cell_type": "code",
   "execution_count": 92,
   "metadata": {},
   "outputs": [
    {
     "data": {
      "text/plain": [
       "<matplotlib.axes._subplots.AxesSubplot at 0xe07009c898>"
      ]
     },
     "execution_count": 92,
     "metadata": {},
     "output_type": "execute_result"
    },
    {
     "data": {
      "image/png": "[encoded data removed]",
      "text/plain": [
       "<Figure size 432x288 with 1 Axes>"
      ]
     },
     "metadata": {
      "needs_background": "light"
     },
     "output_type": "display_data"
    }
   ],
   "source": [
    "fail_df = fail_df.groupby(['AGE','PROPOSER_KIND_CD']).size().to_frame()\n",
    "fail_df = fail_df.reset_index()\n",
    "fail_df = fail_df.rename(columns={0:'count'})\n",
    "\n",
    "fail_df['cum_count'] = fail_df.groupby('AGE')['count'].cumsum(axis=0)\n",
    "fail_df['norm_count'] = fail_df.groupby('AGE')['count'].apply(lambda x : x/sum(x))\n",
    "fail_df['cum_norm_count'] = fail_df.groupby('AGE')['norm_count'].cumsum(axis=0)\n",
    "fail_df = fail_df.sort_values(by=['cum_norm_count'],ascending=False)\n",
    "\n",
    "plt.title('법의안을 폐기시킨 제안자 종류 분포비율')\n",
    "sns.barplot(x='AGE',y='cum_norm_count',hue='PROPOSER_KIND_CD',data=fail_df,dodge=False,palette='muted')"
   ]
  },
  {
   "cell_type": "markdown",
   "metadata": {},
   "source": [
    "## Q17. 대수별 가결을 가장 많이 성사시킨 소관위원회는 어디일까?"
   ]
  },
  {
   "cell_type": "code",
   "execution_count": null,
   "metadata": {},
   "outputs": [],
   "source": []
  },
  {
   "cell_type": "code",
   "execution_count": 93,
   "metadata": {},
   "outputs": [
    {
     "data": {
      "text/plain": [
       "법제사법위원회                                             5598\n",
       "보건복지위원회                                             5372\n",
       "환경노동위원회                                             4124\n",
       "행정안전위원회                                             3829\n",
       "기획재정위원회                                             3522\n",
       "정무위원회                                               3370\n",
       "국토교통위원회                                             2766\n",
       "국회운영위원회                                             2656\n",
       "재정경제위원회                                             2413\n",
       "농림축산식품해양수산위원회                                       2068\n",
       "안전행정위원회                                             1867\n",
       "본회의                                                 1748\n",
       "국방위원회                                               1659\n",
       "교육문화체육관광위원회                                         1524\n",
       "행정자치위원회                                             1493\n",
       "교육위원회                                               1477\n",
       "산업통상자원중소벤처기업위원회                                     1102\n",
       "국토해양위원회                                             1069\n",
       "건설교통위원회                                              982\n",
       "내무위원회                                                947\n",
       "과학기술정보방송통신위원회                                        846\n",
       "외교통일위원회                                              729\n",
       "재무위원회                                                726\n",
       "산업통상자원위원회                                            723\n",
       "농림해양수산위원회                                            721\n",
       "여성가족위원회                                              721\n",
       "문화체육관광위원회                                            715\n",
       "산업자원위원회                                              681\n",
       "교육과학기술위원회                                            661\n",
       "문화관광위원회                                              599\n",
       "                                                    ... \n",
       "한보사건국정조사특별위원회                                          1\n",
       "대법관(김상환) 임명동의에 관한 인사청문특별위원회                            1\n",
       "대법관(이인복)임명동의에 관한 인사청문특별위원회                             1\n",
       "국회상임위원회위원정수에관한규칙개정기초특별위원회                              1\n",
       "헌법재판소 재판관(조용환) 선출에 관한 인사청문특별위원회                        1\n",
       "국무총리실 산하 민간인 불법사찰 및 증거인멸 사건의 진상규명을 위한 국정조사특별위원회        1\n",
       "중앙선거관리위원회 위원(김태현) 선출에 관한 인사청문특별위원회                     1\n",
       "남북정상회담관련결의안기초특별위원회                                     1\n",
       "대법관(박상옥) 임명동의에 관한 인사청문특별위원회                            1\n",
       "국무총리(황교안) 임명동의에 관한 인사청문특별위원회                           1\n",
       "저축은행비리 의혹 진상규명을 위한 국정조사특별위원회                           1\n",
       "심사특별위원회                                                1\n",
       "감찰위원회법안 기초특별위원회                                        1\n",
       "국회 코로나19 대책 특별위원회                                      1\n",
       "감사원장(최재형) 임명동의에 관한 인사청문특별위원회                           1\n",
       "지역감정해소특별위원회                                            1\n",
       "헌법재판소장(유남석) 임명동의에 관한 인사청문특별위원회                         1\n",
       "경북교원노동조합분규조사특별위원회                                      1\n",
       "국제경기대회(세계육상선수권대회, 아시아경기대회, 포뮬러원국제자동차경주대회)지원특별위원회       1\n",
       "헌법재판소 재판관 후보자를 겸한 헌법재판소장(이동흡) 임명동의에 관한 인사청문특별위원회       1\n",
       "군 인권개선 및 병영문화혁신 특별위원회                                  1\n",
       "12·12군사쿠데타적사건및율곡사업국정조사국방위원회                            1\n",
       "대법관(신영철) 임명동의에 관한 인사청문특별위원회                            1\n",
       "국회비상대책위원회                                              1\n",
       "헌법재판소장(박한철) 임명동의에 관한 인사청문특별위원회                         1\n",
       "특별법기초위원회                                               1\n",
       "2012년여수세계박람회유치특별위원회                                    1\n",
       "2012년 여수세계박람회지원특별위원회                                   1\n",
       "제15대국회의원총선거에있어서공정성시비가있는사안에대한국정조사특별위원회                  1\n",
       "국회법중개정법률안기초특별위원회                                       1\n",
       "Name: COMMITTEE_NM, Length: 258, dtype: int64"
      ]
     },
     "execution_count": 93,
     "metadata": {},
     "output_type": "execute_result"
    }
   ],
   "source": [
    "process['COMMITTEE_NM'].value_counts()"
   ]
  },
  {
   "cell_type": "code",
   "execution_count": null,
   "metadata": {},
   "outputs": [],
   "source": []
  }
 ],
 "metadata": {
  "kernelspec": {
   "display_name": "Python 3",
   "language": "python",
   "name": "python3"
  },
  "language_info": {
   "codemirror_mode": {
    "name": "ipython",
    "version": 3
   },
   "file_extension": ".py",
   "mimetype": "text/x-python",
   "name": "python",
   "nbconvert_exporter": "python",
   "pygments_lexer": "ipython3",
   "version": "3.7.3"
  }
 },
 "nbformat": 4,
 "nbformat_minor": 2
}
